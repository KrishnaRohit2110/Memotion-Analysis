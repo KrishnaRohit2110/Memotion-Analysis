{
 "cells": [
  {
   "cell_type": "code",
   "execution_count": 24,
   "id": "8b247ac4",
   "metadata": {},
   "outputs": [
    {
     "name": "stdout",
     "output_type": "stream",
     "text": [
      "Populating the interactive namespace from numpy and matplotlib\n"
     ]
    }
   ],
   "source": [
    "import warnings\n",
    "warnings.filterwarnings('ignore')\n",
    "%matplotlib inline\n",
    "%pylab inline\n",
    "import matplotlib.pyplot as plt\n",
    "import pandas as pd\n",
    "import tensorflow as tf\n",
    "from tensorflow import keras\n",
    "import string\n",
    "from sklearn.model_selection import train_test_split"
   ]
  },
  {
   "cell_type": "code",
   "execution_count": 62,
   "id": "ff96aebe",
   "metadata": {},
   "outputs": [
    {
     "data": {
      "text/html": [
       "<div>\n",
       "<style scoped>\n",
       "    .dataframe tbody tr th:only-of-type {\n",
       "        vertical-align: middle;\n",
       "    }\n",
       "\n",
       "    .dataframe tbody tr th {\n",
       "        vertical-align: top;\n",
       "    }\n",
       "\n",
       "    .dataframe thead th {\n",
       "        text-align: right;\n",
       "    }\n",
       "</style>\n",
       "<table border=\"1\" class=\"dataframe\">\n",
       "  <thead>\n",
       "    <tr style=\"text-align: right;\">\n",
       "      <th></th>\n",
       "      <th>text_corrected</th>\n",
       "      <th>overall_sentiment</th>\n",
       "    </tr>\n",
       "  </thead>\n",
       "  <tbody>\n",
       "    <tr>\n",
       "      <th>0</th>\n",
       "      <td>LOOK THERE MY FRIEND LIGHTYEAR NOW ALL SOHALIK...</td>\n",
       "      <td>positive</td>\n",
       "    </tr>\n",
       "    <tr>\n",
       "      <th>1</th>\n",
       "      <td>The best of #10 YearChallenge! Completed in le...</td>\n",
       "      <td>positive</td>\n",
       "    </tr>\n",
       "    <tr>\n",
       "      <th>2</th>\n",
       "      <td>Sam Thorne @Strippin ( Follow Follow Saw every...</td>\n",
       "      <td>positive</td>\n",
       "    </tr>\n",
       "    <tr>\n",
       "      <th>3</th>\n",
       "      <td>10 Year Challenge - Sweet Dee Edition</td>\n",
       "      <td>positive</td>\n",
       "    </tr>\n",
       "    <tr>\n",
       "      <th>4</th>\n",
       "      <td>10 YEAR CHALLENGE WITH NO FILTER 47 Hilarious ...</td>\n",
       "      <td>neutral</td>\n",
       "    </tr>\n",
       "  </tbody>\n",
       "</table>\n",
       "</div>"
      ],
      "text/plain": [
       "                                      text_corrected overall_sentiment\n",
       "0  LOOK THERE MY FRIEND LIGHTYEAR NOW ALL SOHALIK...          positive\n",
       "1  The best of #10 YearChallenge! Completed in le...          positive\n",
       "2  Sam Thorne @Strippin ( Follow Follow Saw every...          positive\n",
       "3              10 Year Challenge - Sweet Dee Edition          positive\n",
       "4  10 YEAR CHALLENGE WITH NO FILTER 47 Hilarious ...           neutral"
      ]
     },
     "execution_count": 62,
     "metadata": {},
     "output_type": "execute_result"
    }
   ],
   "source": [
    "df = pd.read_csv('memotion_dataset_7k/labels.csv')\n",
    "df.drop(df.columns[df.columns.str.contains('unnamed',case = False)],axis = 1, inplace = True)\n",
    "df = df.drop(columns = ['image_name','text_ocr', 'humour', 'sarcasm', 'offensive', 'motivational'])\n",
    "df.head()"
   ]
  },
  {
   "cell_type": "code",
   "execution_count": 63,
   "id": "fbbe7e85",
   "metadata": {},
   "outputs": [
    {
     "data": {
      "text/html": [
       "<div>\n",
       "<style scoped>\n",
       "    .dataframe tbody tr th:only-of-type {\n",
       "        vertical-align: middle;\n",
       "    }\n",
       "\n",
       "    .dataframe tbody tr th {\n",
       "        vertical-align: top;\n",
       "    }\n",
       "\n",
       "    .dataframe thead th {\n",
       "        text-align: right;\n",
       "    }\n",
       "</style>\n",
       "<table border=\"1\" class=\"dataframe\">\n",
       "  <thead>\n",
       "    <tr style=\"text-align: right;\">\n",
       "      <th></th>\n",
       "      <th>text</th>\n",
       "      <th>sentiment</th>\n",
       "    </tr>\n",
       "  </thead>\n",
       "  <tbody>\n",
       "    <tr>\n",
       "      <th>0</th>\n",
       "      <td>LOOK THERE MY FRIEND LIGHTYEAR NOW ALL SOHALIK...</td>\n",
       "      <td>positive</td>\n",
       "    </tr>\n",
       "    <tr>\n",
       "      <th>1</th>\n",
       "      <td>The best of #10 YearChallenge! Completed in le...</td>\n",
       "      <td>positive</td>\n",
       "    </tr>\n",
       "    <tr>\n",
       "      <th>2</th>\n",
       "      <td>Sam Thorne @Strippin ( Follow Follow Saw every...</td>\n",
       "      <td>positive</td>\n",
       "    </tr>\n",
       "    <tr>\n",
       "      <th>3</th>\n",
       "      <td>10 Year Challenge - Sweet Dee Edition</td>\n",
       "      <td>positive</td>\n",
       "    </tr>\n",
       "    <tr>\n",
       "      <th>4</th>\n",
       "      <td>10 YEAR CHALLENGE WITH NO FILTER 47 Hilarious ...</td>\n",
       "      <td>neutral</td>\n",
       "    </tr>\n",
       "  </tbody>\n",
       "</table>\n",
       "</div>"
      ],
      "text/plain": [
       "                                                text sentiment\n",
       "0  LOOK THERE MY FRIEND LIGHTYEAR NOW ALL SOHALIK...  positive\n",
       "1  The best of #10 YearChallenge! Completed in le...  positive\n",
       "2  Sam Thorne @Strippin ( Follow Follow Saw every...  positive\n",
       "3              10 Year Challenge - Sweet Dee Edition  positive\n",
       "4  10 YEAR CHALLENGE WITH NO FILTER 47 Hilarious ...   neutral"
      ]
     },
     "execution_count": 63,
     "metadata": {},
     "output_type": "execute_result"
    }
   ],
   "source": [
    "meme_text = pd.DataFrame()\n",
    "meme_text['text'] = df.text_corrected\n",
    "meme_text['sentiment'] = df.overall_sentiment\n",
    "meme_text.head()"
   ]
  },
  {
   "cell_type": "code",
   "execution_count": 64,
   "id": "fb180cef",
   "metadata": {},
   "outputs": [
    {
     "data": {
      "text/plain": [
       "text         False\n",
       "sentiment    False\n",
       "dtype: bool"
      ]
     },
     "execution_count": 64,
     "metadata": {},
     "output_type": "execute_result"
    }
   ],
   "source": [
    "cleaned = meme_text.copy()\n",
    "cleaned.dropna(inplace=True)\n",
    "cleaned.isnull().any()"
   ]
  },
  {
   "cell_type": "code",
   "execution_count": 65,
   "id": "d74eae1c",
   "metadata": {},
   "outputs": [
    {
     "data": {
      "text/plain": [
       "[2, 2, 2, 2, 1]"
      ]
     },
     "execution_count": 65,
     "metadata": {},
     "output_type": "execute_result"
    }
   ],
   "source": [
    "target = cleaned['sentiment']\n",
    "target = pd.get_dummies(target)\n",
    "labels = []\n",
    "for _, i in target.iterrows():\n",
    "    labels.append(np.argmax(i))\n",
    "labels[0:5]"
   ]
  },
  {
   "cell_type": "code",
   "execution_count": 66,
   "id": "c92037b9",
   "metadata": {},
   "outputs": [],
   "source": [
    "import nlpaug\n",
    "import nlpaug.augmenter.word as naw\n",
    "def Augmentation(text, labels):\n",
    "    aug = naw.SynonymAug(aug_src='wordnet',aug_max=3)\n",
    "    augmented_sentences = []\n",
    "    augmented_sentences_labels = []\n",
    "    for i in range(0, len(text)):\n",
    "        if np.argmax(labels.iloc[i]) == 0:\n",
    "            t = 0\n",
    "            temps = aug.augment(text.iloc[i],n=6)\n",
    "        elif np.argmax(labels.iloc[i]) == 1:\n",
    "            t = 1\n",
    "            temps = aug.augment(text.iloc[i],n=2)\n",
    "        else:\n",
    "            augmented_sentences.append(text.iloc[i])\n",
    "            augmented_sentences_labels.append(2)\n",
    "            continue\n",
    "        for sent in temps:\n",
    "            augmented_sentences.append(sent)\n",
    "            augmented_sentences_labels.append(t)\n",
    "        \n",
    "    return augmented_sentences,augmented_sentences_labels"
   ]
  },
  {
   "cell_type": "code",
   "execution_count": 67,
   "id": "0d720aed",
   "metadata": {},
   "outputs": [],
   "source": [
    "text, sent = Augmentation(cleaned.text, target)\n",
    "cleaned = pd.DataFrame()\n",
    "cleaned['text'] = text\n",
    "cleaned['sentiment'] = sent"
   ]
  },
  {
   "cell_type": "code",
   "execution_count": 68,
   "id": "c2da64c4",
   "metadata": {},
   "outputs": [
    {
     "data": {
      "text/plain": [
       "((12342, 1), (12342, 3))"
      ]
     },
     "execution_count": 68,
     "metadata": {},
     "output_type": "execute_result"
    }
   ],
   "source": [
    "from tensorflow.keras.utils import to_categorical\n",
    "sent = to_categorical(sent)\n",
    "pd.DataFrame(text).shape, pd.DataFrame(sent).shape"
   ]
  },
  {
   "cell_type": "code",
   "execution_count": 69,
   "id": "7769fc27",
   "metadata": {},
   "outputs": [],
   "source": [
    "stopwords = [ \"a\", \"about\", \"above\", \"after\", \"again\", \"against\", \"all\", \"am\", \"an\", \"and\", \"any\", \"are\", \"as\", \"at\", \"be\", \"because\", \n",
    "             \"been\", \"before\", \"being\", \"below\", \"between\", \"both\", \"but\", \"by\", \"could\", \"did\", \"do\", \"does\", \"doing\", \"down\", \"during\",\n",
    "             \"each\", \"few\", \"for\", \"from\", \"further\", \"had\", \"has\", \"have\", \"having\", \"he\", \"he'd\", \"he'll\", \"he's\", \"her\", \"here\", \n",
    "             \"here's\", \"hers\", \"herself\", \"him\", \"himself\", \"his\", \"how\", \"how's\", \"i\", \"i'd\", \"i'll\", \"i'm\", \"i've\", \"if\", \"in\", \"into\",\n",
    "             \"is\", \"it\", \"it's\", \"its\", \"itself\", \"let's\", \"me\", \"more\", \"most\", \"my\", \"myself\", \"nor\", \"of\", \"on\", \"once\", \"only\", \"or\",\n",
    "             \"other\", \"ought\", \"our\", \"ours\", \"ourselves\", \"out\", \"over\", \"own\", \"same\", \"she\", \"she'd\", \"she'll\", \"she's\", \"should\", \n",
    "             \"so\", \"some\", \"such\", \"than\", \"that\", \"that's\", \"the\", \"their\", \"theirs\", \"them\", \"themselves\", \"then\", \"there\", \"there's\",\n",
    "             \"these\", \"they\", \"they'd\", \"they'll\", \"they're\", \"they've\", \"this\", \"those\", \"through\", \"to\", \"too\", \"under\", \"until\", \"up\",\n",
    "             \"very\", \"was\", \"we\", \"we'd\", \"we'll\", \"we're\", \"we've\", \"were\", \"what\", \"what's\", \"when\", \"when's\", \"where\", \"where's\",\n",
    "             \"which\", \"while\", \"who\", \"who's\", \"whom\", \"why\", \"why's\", \"with\", \"would\", \"you\", \"you'd\", \"you'll\", \"you're\", \"you've\",\n",
    "             \"your\", \"yours\", \"yourself\", \"yourselves\" ]"
   ]
  },
  {
   "cell_type": "code",
   "execution_count": 70,
   "id": "9158baeb",
   "metadata": {},
   "outputs": [],
   "source": [
    "def remove_stopwords(data):\n",
    "    data['text'] = data['text'].apply(lambda x : ' '.join([word for word in x.split() if word not in (stopwords)]))\n",
    "    return data\n",
    "\n",
    "def remove_tags(string):\n",
    "    result = re.sub('<.*?>','',string)\n",
    "    return result\n",
    " \n",
    "data_without_stopwords = []\n",
    "data_without_stopwords = remove_stopwords(cleaned)\n",
    "data_without_stopwords['text']= data_without_stopwords['text'].apply(lambda cw : remove_tags(cw))\n",
    "data_without_stopwords['text'] = data_without_stopwords['text'].str.replace('[{}]'.format(string.punctuation), ' ')"
   ]
  },
  {
   "cell_type": "code",
   "execution_count": 71,
   "id": "8872fb98",
   "metadata": {},
   "outputs": [],
   "source": [
    "text = data_without_stopwords.text\n",
    "sentiment = data_without_stopwords['sentiment']"
   ]
  },
  {
   "cell_type": "code",
   "execution_count": 73,
   "id": "9cf6928c",
   "metadata": {},
   "outputs": [],
   "source": [
    "cleaned['token_size'] = text.apply(lambda x: len(x.split(' ')))\n",
    "data = cleaned.loc[cleaned['token_size']]\n",
    "#data = data.sample(n= 50000)"
   ]
  },
  {
   "cell_type": "code",
   "execution_count": 74,
   "id": "bd0aef64",
   "metadata": {},
   "outputs": [],
   "source": [
    "# Construct a vocabulary\n",
    "class ConstructVocab():\n",
    "    \n",
    "    def __init__(self, sentences):\n",
    "        self.sentences = sentences\n",
    "        self.word2idx = {}\n",
    "        self.idx2word = {}\n",
    "        self.vocab = set()\n",
    "        self.create_index()\n",
    "        \n",
    "    def create_index(self):\n",
    "        for sent in self.sentences:\n",
    "            self.vocab.update(sent.split(' '))\n",
    "        \n",
    "        #sort vacabulary\n",
    "        self.vocab = sorted(self.vocab)\n",
    "        \n",
    "        #add a padding token with index 0\n",
    "        self.word2idx['<pad>'] = 0\n",
    "        \n",
    "        #word to index mapping\n",
    "        for index, word in enumerate(self.vocab):\n",
    "            self.word2idx[word] = index + 1 # 0 is the pad\n",
    "            \n",
    "        #index to word mapping\n",
    "        for word, index in self.word2idx.items():\n",
    "            self.idx2word[index] = word\n",
    "inputs = ConstructVocab(data['text'].values.tolist())"
   ]
  },
  {
   "cell_type": "code",
   "execution_count": 75,
   "id": "434008c2",
   "metadata": {},
   "outputs": [],
   "source": [
    "input_tensor = [[inputs.word2idx[s] for s in es.split(' ')] for es in data['text']]"
   ]
  },
  {
   "cell_type": "code",
   "execution_count": 76,
   "id": "235dcc23",
   "metadata": {},
   "outputs": [],
   "source": [
    "def max_length(tensor):\n",
    "    return max(len(t) for t in tensor)\n",
    "max_length_input = max_length(input_tensor)\n",
    "def pad_sequences(x, max_len):\n",
    "    padded = np.zeros((max_len), dtype=np.int64)\n",
    "    \n",
    "    if len(x) > max_len: padded[:] = x[:max_len]\n",
    "    else: padded[:len(x)] = x\n",
    "        \n",
    "    return padded\n",
    "input_tensor = [pad_sequences(x, max_length_input) for x in input_tensor]"
   ]
  },
  {
   "cell_type": "code",
   "execution_count": 77,
   "id": "b9c451ed",
   "metadata": {},
   "outputs": [
    {
     "data": {
      "text/html": [
       "<div>\n",
       "<style scoped>\n",
       "    .dataframe tbody tr th:only-of-type {\n",
       "        vertical-align: middle;\n",
       "    }\n",
       "\n",
       "    .dataframe tbody tr th {\n",
       "        vertical-align: top;\n",
       "    }\n",
       "\n",
       "    .dataframe thead th {\n",
       "        text-align: right;\n",
       "    }\n",
       "</style>\n",
       "<table border=\"1\" class=\"dataframe\">\n",
       "  <thead>\n",
       "    <tr style=\"text-align: right;\">\n",
       "      <th></th>\n",
       "      <th>0</th>\n",
       "      <th>1</th>\n",
       "      <th>2</th>\n",
       "    </tr>\n",
       "  </thead>\n",
       "  <tbody>\n",
       "    <tr>\n",
       "      <th>0</th>\n",
       "      <td>0.0</td>\n",
       "      <td>0.0</td>\n",
       "      <td>1.0</td>\n",
       "    </tr>\n",
       "    <tr>\n",
       "      <th>1</th>\n",
       "      <td>0.0</td>\n",
       "      <td>0.0</td>\n",
       "      <td>1.0</td>\n",
       "    </tr>\n",
       "    <tr>\n",
       "      <th>2</th>\n",
       "      <td>0.0</td>\n",
       "      <td>0.0</td>\n",
       "      <td>1.0</td>\n",
       "    </tr>\n",
       "    <tr>\n",
       "      <th>3</th>\n",
       "      <td>0.0</td>\n",
       "      <td>0.0</td>\n",
       "      <td>1.0</td>\n",
       "    </tr>\n",
       "    <tr>\n",
       "      <th>4</th>\n",
       "      <td>0.0</td>\n",
       "      <td>1.0</td>\n",
       "      <td>0.0</td>\n",
       "    </tr>\n",
       "  </tbody>\n",
       "</table>\n",
       "</div>"
      ],
      "text/plain": [
       "     0    1    2\n",
       "0  0.0  0.0  1.0\n",
       "1  0.0  0.0  1.0\n",
       "2  0.0  0.0  1.0\n",
       "3  0.0  0.0  1.0\n",
       "4  0.0  1.0  0.0"
      ]
     },
     "execution_count": 77,
     "metadata": {},
     "output_type": "execute_result"
    }
   ],
   "source": [
    "y = sent\n",
    "pd.DataFrame(y).head()"
   ]
  },
  {
   "cell_type": "code",
   "execution_count": 81,
   "id": "38f25bf9",
   "metadata": {},
   "outputs": [
    {
     "data": {
      "text/plain": [
       "((8639, 54), (2221, 54), (1482, 54))"
      ]
     },
     "execution_count": 81,
     "metadata": {},
     "output_type": "execute_result"
    }
   ],
   "source": [
    "X_train, X_test,Y_train, Y_test = train_test_split(input_tensor, y, test_size=0.3, random_state = 45)\n",
    "X_test, X_val, Y_test, Y_val = train_test_split(X_test, Y_test, test_size = 0.4)\n",
    "np.array(X_train).shape, np.array(X_test).shape, np.array(X_val).shape"
   ]
  },
  {
   "cell_type": "code",
   "execution_count": 89,
   "id": "6e0ea323",
   "metadata": {},
   "outputs": [],
   "source": [
    "embedding_dim = 256\n",
    "units = 1024\n",
    "vocab_inp_size = len(inputs.word2idx)\n",
    "#target_size = len(target[0])"
   ]
  },
  {
   "cell_type": "code",
   "execution_count": 99,
   "id": "8eb14abe",
   "metadata": {},
   "outputs": [],
   "source": [
    "from keras.layers.embeddings import Embedding\n",
    "from keras.layers import GRU, Dense, Dropout\n",
    "from tensorflow.keras.models import Sequential\n",
    "def create_model():\n",
    "    model = Sequential()\n",
    "    model.add(Embedding(vocab_inp_size, embedding_dim, input_length=max_length_input))\n",
    "    model.add(Dropout(0.5))\n",
    "    model.add(GRU(units))\n",
    "    model.add(Dense(3, activation='softmax'))\n",
    "    \n",
    "    model.compile(loss='categorical_crossentropy',optimizer='adam', metrics=['accuracy'])\n",
    "    return model"
   ]
  },
  {
   "cell_type": "code",
   "execution_count": 100,
   "id": "a08bebd2",
   "metadata": {},
   "outputs": [
    {
     "name": "stdout",
     "output_type": "stream",
     "text": [
      "Model: \"sequential_11\"\n",
      "_________________________________________________________________\n",
      "Layer (type)                 Output Shape              Param #   \n",
      "=================================================================\n",
      "module_wrapper_25 (ModuleWra (None, 13000, 256)        130304    \n",
      "_________________________________________________________________\n",
      "module_wrapper_26 (ModuleWra (None, 13000, 256)        0         \n",
      "_________________________________________________________________\n",
      "module_wrapper_27 (ModuleWra (None, 1024)              3938304   \n",
      "_________________________________________________________________\n",
      "module_wrapper_28 (ModuleWra (None, 3)                 3075      \n",
      "=================================================================\n",
      "Total params: 4,071,683\n",
      "Trainable params: 4,071,683\n",
      "Non-trainable params: 0\n",
      "_________________________________________________________________\n"
     ]
    }
   ],
   "source": [
    "model = create_model()\n",
    "model.build((None, max_features))\n",
    "model.summary()"
   ]
  },
  {
   "cell_type": "code",
   "execution_count": 101,
   "id": "2b7c42bb",
   "metadata": {},
   "outputs": [
    {
     "name": "stdout",
     "output_type": "stream",
     "text": [
      "Epoch 1/10\n",
      "135/135 [==============================] - 13s 59ms/step - loss: 1.1002 - accuracy: 0.3447 - val_loss: 1.0977 - val_accuracy: 0.3252\n",
      "Epoch 2/10\n",
      "135/135 [==============================] - 8s 57ms/step - loss: 1.1000 - accuracy: 0.3504 - val_loss: 1.0951 - val_accuracy: 0.3812\n",
      "Epoch 3/10\n",
      "135/135 [==============================] - 8s 57ms/step - loss: 1.0987 - accuracy: 0.3432 - val_loss: 1.0969 - val_accuracy: 0.3252\n",
      "Epoch 4/10\n",
      "135/135 [==============================] - 8s 57ms/step - loss: 1.0990 - accuracy: 0.3498 - val_loss: 1.0939 - val_accuracy: 0.3806\n",
      "Epoch 5/10\n",
      "135/135 [==============================] - 8s 58ms/step - loss: 1.0937 - accuracy: 0.3635 - val_loss: 1.0947 - val_accuracy: 0.3246\n",
      "Epoch 6/10\n",
      "135/135 [==============================] - 8s 58ms/step - loss: 1.0922 - accuracy: 0.3672 - val_loss: 1.0995 - val_accuracy: 0.3293\n",
      "Epoch 7/10\n",
      "135/135 [==============================] - 8s 58ms/step - loss: 1.0924 - accuracy: 0.3635 - val_loss: 1.1157 - val_accuracy: 0.3252\n",
      "Epoch 8/10\n",
      "135/135 [==============================] - 8s 58ms/step - loss: 1.0926 - accuracy: 0.3658 - val_loss: 1.0993 - val_accuracy: 0.3468\n",
      "Epoch 9/10\n",
      "135/135 [==============================] - 8s 58ms/step - loss: 1.0914 - accuracy: 0.3660 - val_loss: 1.0912 - val_accuracy: 0.3927\n",
      "Epoch 10/10\n",
      "135/135 [==============================] - 8s 58ms/step - loss: 1.0904 - accuracy: 0.3737 - val_loss: 1.0938 - val_accuracy: 0.3320\n"
     ]
    }
   ],
   "source": [
    "history = model.fit(pd.DataFrame(X_train), Y_train,\n",
    "                    epochs=10,\n",
    "                    verbose=True,\n",
    "                    validation_data=(pd.DataFrame(X_val), Y_val),\n",
    "                    batch_size=64)"
   ]
  },
  {
   "cell_type": "code",
   "execution_count": 102,
   "id": "9a4e1007",
   "metadata": {},
   "outputs": [],
   "source": [
    "ypred = model.predict(pd.DataFrame(X_test))"
   ]
  },
  {
   "cell_type": "code",
   "execution_count": 103,
   "id": "bff2ede2",
   "metadata": {},
   "outputs": [],
   "source": [
    "ypred = np.argmax(ypred, axis = 1)\n",
    "y_test = np.argmax(np.array(Y_test), axis = 1)"
   ]
  },
  {
   "cell_type": "code",
   "execution_count": 104,
   "id": "26efc1d4",
   "metadata": {},
   "outputs": [
    {
     "data": {
      "text/plain": [
       "Text(33.0, 0.5, 'Truth')"
      ]
     },
     "execution_count": 104,
     "metadata": {},
     "output_type": "execute_result"
    },
    {
     "data": {
      "image/png": "[encoded data removed]",
      "text/plain": [
       "<Figure size 432x288 with 2 Axes>"
      ]
     },
     "metadata": {
      "needs_background": "light"
     },
     "output_type": "display_data"
    }
   ],
   "source": [
    "from sklearn.metrics import confusion_matrix, classification_report\n",
    "cm = confusion_matrix(y_test, ypred)\n",
    "from matplotlib import pyplot as plt\n",
    "import seaborn as sn\n",
    "sn.heatmap(cm, annot=True, fmt='d')\n",
    "plt.xlabel('Predicted')\n",
    "plt.ylabel('Truth')"
   ]
  },
  {
   "cell_type": "code",
   "execution_count": 105,
   "id": "0349683d",
   "metadata": {},
   "outputs": [
    {
     "name": "stdout",
     "output_type": "stream",
     "text": [
      "              precision    recall  f1-score   support\n",
      "\n",
      "           0       0.36      0.43      0.39       717\n",
      "           1       0.50      0.00      0.01       778\n",
      "           2       0.36      0.67      0.47       726\n",
      "\n",
      "    accuracy                           0.36      2221\n",
      "   macro avg       0.41      0.37      0.29      2221\n",
      "weighted avg       0.41      0.36      0.28      2221\n",
      "\n"
     ]
    }
   ],
   "source": [
    "print(classification_report(y_test, ypred))"
   ]
  },
  {
   "cell_type": "code",
   "execution_count": null,
   "id": "95649a52",
   "metadata": {},
   "outputs": [],
   "source": []
  }
 ],
 "metadata": {
  "kernelspec": {
   "display_name": "Python 3 (ipykernel)",
   "language": "python",
   "name": "python3"
  },
  "language_info": {
   "codemirror_mode": {
    "name": "ipython",
    "version": 3
   },
   "file_extension": ".py",
   "mimetype": "text/x-python",
   "name": "python",
   "nbconvert_exporter": "python",
   "pygments_lexer": "ipython3",
   "version": "3.9.7"
  }
 },
 "nbformat": 4,
 "nbformat_minor": 5
}
