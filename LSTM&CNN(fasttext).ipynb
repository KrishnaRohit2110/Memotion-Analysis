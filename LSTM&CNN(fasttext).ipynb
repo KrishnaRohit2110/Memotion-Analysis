{
 "cells": [
  {
   "cell_type": "code",
   "execution_count": 2,
   "id": "a4c9718a",
   "metadata": {},
   "outputs": [
    {
     "data": {
      "text/html": [
       "<div>\n",
       "<style scoped>\n",
       "    .dataframe tbody tr th:only-of-type {\n",
       "        vertical-align: middle;\n",
       "    }\n",
       "\n",
       "    .dataframe tbody tr th {\n",
       "        vertical-align: top;\n",
       "    }\n",
       "\n",
       "    .dataframe thead th {\n",
       "        text-align: right;\n",
       "    }\n",
       "</style>\n",
       "<table border=\"1\" class=\"dataframe\">\n",
       "  <thead>\n",
       "    <tr style=\"text-align: right;\">\n",
       "      <th></th>\n",
       "      <th>Unnamed: 0</th>\n",
       "      <th>image_name</th>\n",
       "      <th>text_ocr</th>\n",
       "      <th>text_corrected</th>\n",
       "      <th>humour</th>\n",
       "      <th>sarcasm</th>\n",
       "      <th>offensive</th>\n",
       "      <th>motivational</th>\n",
       "      <th>overall_sentiment</th>\n",
       "    </tr>\n",
       "  </thead>\n",
       "  <tbody>\n",
       "    <tr>\n",
       "      <th>0</th>\n",
       "      <td>0</td>\n",
       "      <td>image_1.jpg</td>\n",
       "      <td>LOOK THERE MY FRIEND LIGHTYEAR NOW ALL SOHALIK...</td>\n",
       "      <td>LOOK THERE MY FRIEND LIGHTYEAR NOW ALL SOHALIK...</td>\n",
       "      <td>hilarious</td>\n",
       "      <td>general</td>\n",
       "      <td>not_offensive</td>\n",
       "      <td>not_motivational</td>\n",
       "      <td>positive</td>\n",
       "    </tr>\n",
       "    <tr>\n",
       "      <th>1</th>\n",
       "      <td>1</td>\n",
       "      <td>image_2.jpeg</td>\n",
       "      <td>The best of #10 YearChallenge! Completed in le...</td>\n",
       "      <td>The best of #10 YearChallenge! Completed in le...</td>\n",
       "      <td>not_funny</td>\n",
       "      <td>general</td>\n",
       "      <td>not_offensive</td>\n",
       "      <td>motivational</td>\n",
       "      <td>positive</td>\n",
       "    </tr>\n",
       "    <tr>\n",
       "      <th>2</th>\n",
       "      <td>2</td>\n",
       "      <td>image_3.JPG</td>\n",
       "      <td>Sam Thorne @Strippin ( Follow Follow Saw every...</td>\n",
       "      <td>Sam Thorne @Strippin ( Follow Follow Saw every...</td>\n",
       "      <td>very_funny</td>\n",
       "      <td>not_sarcastic</td>\n",
       "      <td>not_offensive</td>\n",
       "      <td>not_motivational</td>\n",
       "      <td>positive</td>\n",
       "    </tr>\n",
       "    <tr>\n",
       "      <th>3</th>\n",
       "      <td>3</td>\n",
       "      <td>image_4.png</td>\n",
       "      <td>10 Year Challenge - Sweet Dee Edition</td>\n",
       "      <td>10 Year Challenge - Sweet Dee Edition</td>\n",
       "      <td>very_funny</td>\n",
       "      <td>twisted_meaning</td>\n",
       "      <td>very_offensive</td>\n",
       "      <td>motivational</td>\n",
       "      <td>positive</td>\n",
       "    </tr>\n",
       "    <tr>\n",
       "      <th>4</th>\n",
       "      <td>4</td>\n",
       "      <td>image_5.png</td>\n",
       "      <td>10 YEAR CHALLENGE WITH NO FILTER 47 Hilarious ...</td>\n",
       "      <td>10 YEAR CHALLENGE WITH NO FILTER 47 Hilarious ...</td>\n",
       "      <td>hilarious</td>\n",
       "      <td>very_twisted</td>\n",
       "      <td>very_offensive</td>\n",
       "      <td>not_motivational</td>\n",
       "      <td>neutral</td>\n",
       "    </tr>\n",
       "  </tbody>\n",
       "</table>\n",
       "</div>"
      ],
      "text/plain": [
       "   Unnamed: 0    image_name  \\\n",
       "0           0   image_1.jpg   \n",
       "1           1  image_2.jpeg   \n",
       "2           2   image_3.JPG   \n",
       "3           3   image_4.png   \n",
       "4           4   image_5.png   \n",
       "\n",
       "                                            text_ocr  \\\n",
       "0  LOOK THERE MY FRIEND LIGHTYEAR NOW ALL SOHALIK...   \n",
       "1  The best of #10 YearChallenge! Completed in le...   \n",
       "2  Sam Thorne @Strippin ( Follow Follow Saw every...   \n",
       "3              10 Year Challenge - Sweet Dee Edition   \n",
       "4  10 YEAR CHALLENGE WITH NO FILTER 47 Hilarious ...   \n",
       "\n",
       "                                      text_corrected      humour  \\\n",
       "0  LOOK THERE MY FRIEND LIGHTYEAR NOW ALL SOHALIK...   hilarious   \n",
       "1  The best of #10 YearChallenge! Completed in le...   not_funny   \n",
       "2  Sam Thorne @Strippin ( Follow Follow Saw every...  very_funny   \n",
       "3              10 Year Challenge - Sweet Dee Edition  very_funny   \n",
       "4  10 YEAR CHALLENGE WITH NO FILTER 47 Hilarious ...   hilarious   \n",
       "\n",
       "           sarcasm       offensive      motivational overall_sentiment  \n",
       "0          general   not_offensive  not_motivational          positive  \n",
       "1          general   not_offensive      motivational          positive  \n",
       "2    not_sarcastic   not_offensive  not_motivational          positive  \n",
       "3  twisted_meaning  very_offensive      motivational          positive  \n",
       "4     very_twisted  very_offensive  not_motivational           neutral  "
      ]
     },
     "execution_count": 2,
     "metadata": {},
     "output_type": "execute_result"
    }
   ],
   "source": [
    "data = pd.read_csv('memotion_dataset_7k/labels.csv')\n",
    "data.head()"
   ]
  },
  {
   "cell_type": "code",
   "execution_count": 3,
   "id": "9dab2b2b",
   "metadata": {},
   "outputs": [
    {
     "data": {
      "text/html": [
       "<div>\n",
       "<style scoped>\n",
       "    .dataframe tbody tr th:only-of-type {\n",
       "        vertical-align: middle;\n",
       "    }\n",
       "\n",
       "    .dataframe tbody tr th {\n",
       "        vertical-align: top;\n",
       "    }\n",
       "\n",
       "    .dataframe thead th {\n",
       "        text-align: right;\n",
       "    }\n",
       "</style>\n",
       "<table border=\"1\" class=\"dataframe\">\n",
       "  <thead>\n",
       "    <tr style=\"text-align: right;\">\n",
       "      <th></th>\n",
       "      <th>text</th>\n",
       "      <th>sentiment</th>\n",
       "    </tr>\n",
       "  </thead>\n",
       "  <tbody>\n",
       "    <tr>\n",
       "      <th>0</th>\n",
       "      <td>LOOK THERE MY FRIEND LIGHTYEAR NOW ALL SOHALIK...</td>\n",
       "      <td>positive</td>\n",
       "    </tr>\n",
       "    <tr>\n",
       "      <th>1</th>\n",
       "      <td>The best of #10 YearChallenge! Completed in le...</td>\n",
       "      <td>positive</td>\n",
       "    </tr>\n",
       "    <tr>\n",
       "      <th>2</th>\n",
       "      <td>Sam Thorne @Strippin ( Follow Follow Saw every...</td>\n",
       "      <td>positive</td>\n",
       "    </tr>\n",
       "    <tr>\n",
       "      <th>3</th>\n",
       "      <td>10 Year Challenge - Sweet Dee Edition</td>\n",
       "      <td>positive</td>\n",
       "    </tr>\n",
       "    <tr>\n",
       "      <th>4</th>\n",
       "      <td>10 YEAR CHALLENGE WITH NO FILTER 47 Hilarious ...</td>\n",
       "      <td>neutral</td>\n",
       "    </tr>\n",
       "  </tbody>\n",
       "</table>\n",
       "</div>"
      ],
      "text/plain": [
       "                                                text sentiment\n",
       "0  LOOK THERE MY FRIEND LIGHTYEAR NOW ALL SOHALIK...  positive\n",
       "1  The best of #10 YearChallenge! Completed in le...  positive\n",
       "2  Sam Thorne @Strippin ( Follow Follow Saw every...  positive\n",
       "3              10 Year Challenge - Sweet Dee Edition  positive\n",
       "4  10 YEAR CHALLENGE WITH NO FILTER 47 Hilarious ...   neutral"
      ]
     },
     "execution_count": 3,
     "metadata": {},
     "output_type": "execute_result"
    }
   ],
   "source": [
    "meme_text = pd.DataFrame()\n",
    "meme_text['text'] = data.text_corrected\n",
    "meme_text['sentiment'] = data.overall_sentiment\n",
    "meme_text.head()"
   ]
  },
  {
   "cell_type": "code",
   "execution_count": 4,
   "id": "d0a6e250",
   "metadata": {},
   "outputs": [
    {
     "data": {
      "text/plain": [
       "text         False\n",
       "sentiment    False\n",
       "dtype: bool"
      ]
     },
     "execution_count": 4,
     "metadata": {},
     "output_type": "execute_result"
    }
   ],
   "source": [
    "cleaned = meme_text.copy()\n",
    "cleaned.dropna(inplace=True)\n",
    "cleaned.isnull().any()"
   ]
  },
  {
   "cell_type": "code",
   "execution_count": 5,
   "id": "cd3878a0",
   "metadata": {},
   "outputs": [
    {
     "data": {
      "text/plain": [
       "[2, 2, 2, 2, 1]"
      ]
     },
     "execution_count": 5,
     "metadata": {},
     "output_type": "execute_result"
    }
   ],
   "source": [
    "target = cleaned['sentiment']\n",
    "target = pd.get_dummies(target)\n",
    "labels = []\n",
    "for _, i in target.iterrows():\n",
    "    labels.append(np.argmax(i))\n",
    "labels[0:5]"
   ]
  },
  {
   "cell_type": "code",
   "execution_count": 6,
   "id": "7db7de7a",
   "metadata": {},
   "outputs": [],
   "source": [
    "import nlpaug\n",
    "import nlpaug.augmenter.word as naw\n",
    "def Augmentation(text, labels):\n",
    "    aug = naw.SynonymAug(aug_src='wordnet',aug_max=3)\n",
    "    augmented_sentences = []\n",
    "    augmented_sentences_labels = []\n",
    "    for i in range(0, len(text)):\n",
    "        if np.argmax(labels.iloc[i]) == 0:\n",
    "            t = 'negative'\n",
    "            temps = aug.augment(text.iloc[i],n=6)\n",
    "        elif np.argmax(labels.iloc[i]) == 1:\n",
    "            t = 'neutral'\n",
    "            temps = aug.augment(text.iloc[i],n=2)\n",
    "        else:\n",
    "            augmented_sentences.append(text.iloc[i])\n",
    "            augmented_sentences_labels.append('positive')\n",
    "            continue\n",
    "        for sent in temps:\n",
    "            augmented_sentences.append(sent)\n",
    "            augmented_sentences_labels.append(t)\n",
    "        \n",
    "    return augmented_sentences,augmented_sentences_labels"
   ]
  },
  {
   "cell_type": "code",
   "execution_count": 7,
   "id": "f25c0b79",
   "metadata": {},
   "outputs": [],
   "source": [
    "text, sent = Augmentation(cleaned.text, target)\n",
    "cleaned = pd.DataFrame()\n",
    "cleaned['text'] = text\n",
    "cleaned['sentiment'] = sent"
   ]
  },
  {
   "cell_type": "code",
   "execution_count": 8,
   "id": "05ad5c71",
   "metadata": {},
   "outputs": [
    {
     "data": {
      "text/plain": [
       "12342"
      ]
     },
     "execution_count": 8,
     "metadata": {},
     "output_type": "execute_result"
    }
   ],
   "source": [
    "len(cleaned.text)"
   ]
  },
  {
   "cell_type": "code",
   "execution_count": 9,
   "id": "401c5511",
   "metadata": {},
   "outputs": [
    {
     "data": {
      "text/plain": [
       "((12342, 1), (12342, 3))"
      ]
     },
     "execution_count": 9,
     "metadata": {},
     "output_type": "execute_result"
    }
   ],
   "source": [
    "from tensorflow.keras.utils import to_categorical\n",
    "#sent = to_categorical(sent)\n",
    "sentt = pd.get_dummies(sent)\n",
    "pd.DataFrame(text).shape, pd.DataFrame(sentt).shape"
   ]
  },
  {
   "cell_type": "code",
   "execution_count": 10,
   "id": "11a6694b",
   "metadata": {},
   "outputs": [
    {
     "name": "stderr",
     "output_type": "stream",
     "text": [
      "C:\\Users\\hp\\anaconda3\\envs\\Rohit\\lib\\site-packages\\seaborn\\_decorators.py:36: FutureWarning: Pass the following variable as a keyword arg: x. From version 0.12, the only valid positional argument will be `data`, and passing other arguments without an explicit keyword will result in an error or misinterpretation.\n",
      "  warnings.warn(\n"
     ]
    },
    {
     "data": {
      "text/plain": [
       "<AxesSubplot:xlabel='sentiment', ylabel='count'>"
      ]
     },
     "execution_count": 10,
     "metadata": {},
     "output_type": "execute_result"
    },
    {
     "data": {
      "image/png": "[encoded data removed]",
      "text/plain": [
       "<Figure size 432x288 with 1 Axes>"
      ]
     },
     "metadata": {
      "needs_background": "light"
     },
     "output_type": "display_data"
    }
   ],
   "source": [
    "sns.countplot(cleaned.sentiment)"
   ]
  },
  {
   "cell_type": "code",
   "execution_count": 11,
   "id": "0378c945",
   "metadata": {},
   "outputs": [],
   "source": [
    "stopwords = [ \"a\", \"about\", \"above\", \"after\", \"again\", \"against\", \"all\", \"am\", \"an\", \"and\", \"any\", \"are\", \"as\", \"at\", \"be\", \"because\", \n",
    "             \"been\", \"before\", \"being\", \"below\", \"between\", \"both\", \"but\", \"by\", \"could\", \"did\", \"do\", \"does\", \"doing\", \"down\", \"during\",\n",
    "             \"each\", \"few\", \"for\", \"from\", \"further\", \"had\", \"has\", \"have\", \"having\", \"he\", \"he'd\", \"he'll\", \"he's\", \"her\", \"here\", \n",
    "             \"here's\", \"hers\", \"herself\", \"him\", \"himself\", \"his\", \"how\", \"how's\", \"i\", \"i'd\", \"i'll\", \"i'm\", \"i've\", \"if\", \"in\", \"into\",\n",
    "             \"is\", \"it\", \"it's\", \"its\", \"itself\", \"let's\", \"me\", \"more\", \"most\", \"my\", \"myself\", \"nor\", \"of\", \"on\", \"once\", \"only\", \"or\",\n",
    "             \"other\", \"ought\", \"our\", \"ours\", \"ourselves\", \"out\", \"over\", \"own\", \"same\", \"she\", \"she'd\", \"she'll\", \"she's\", \"should\", \n",
    "             \"so\", \"some\", \"such\", \"than\", \"that\", \"that's\", \"the\", \"their\", \"theirs\", \"them\", \"themselves\", \"then\", \"there\", \"there's\",\n",
    "             \"these\", \"they\", \"they'd\", \"they'll\", \"they're\", \"they've\", \"this\", \"those\", \"through\", \"to\", \"too\", \"under\", \"until\", \"up\",\n",
    "             \"very\", \"was\", \"we\", \"we'd\", \"we'll\", \"we're\", \"we've\", \"were\", \"what\", \"what's\", \"when\", \"when's\", \"where\", \"where's\",\n",
    "             \"which\", \"while\", \"who\", \"who's\", \"whom\", \"why\", \"why's\", \"with\", \"would\", \"you\", \"you'd\", \"you'll\", \"you're\", \"you've\",\n",
    "             \"your\", \"yours\", \"yourself\", \"yourselves\" ]"
   ]
  },
  {
   "cell_type": "code",
   "execution_count": 12,
   "id": "51d18595",
   "metadata": {},
   "outputs": [
    {
     "name": "stderr",
     "output_type": "stream",
     "text": [
      "C:\\Users\\hp\\AppData\\Local\\Temp/ipykernel_21968/1822268650.py:12: FutureWarning: The default value of regex will change from True to False in a future version.\n",
      "  data_without_stopwords['text'] = data_without_stopwords['text'].str.replace('[{}]'.format(string.punctuation), ' ')\n"
     ]
    }
   ],
   "source": [
    "def remove_stopwords(data):\n",
    "    data['text'] = data['text'].apply(lambda x : ' '.join([word for word in x.split() if word not in (stopwords)]))\n",
    "    return data\n",
    "\n",
    "def remove_tags(string):\n",
    "    result = re.sub('<.*?>','',string)\n",
    "    return result\n",
    " \n",
    "data_without_stopwords = []\n",
    "data_without_stopwords = remove_stopwords(cleaned)\n",
    "data_without_stopwords['text']= data_without_stopwords['text'].apply(lambda cw : remove_tags(cw))\n",
    "data_without_stopwords['text'] = data_without_stopwords['text'].str.replace('[{}]'.format(string.punctuation), ' ')"
   ]
  },
  {
   "cell_type": "code",
   "execution_count": 13,
   "id": "a0d25b2a",
   "metadata": {},
   "outputs": [],
   "source": [
    "text = data_without_stopwords.text\n",
    "sentiment = data_without_stopwords['sentiment']"
   ]
  },
  {
   "cell_type": "code",
   "execution_count": 14,
   "id": "f86e04df",
   "metadata": {},
   "outputs": [
    {
     "data": {
      "text/html": [
       "<div>\n",
       "<style scoped>\n",
       "    .dataframe tbody tr th:only-of-type {\n",
       "        vertical-align: middle;\n",
       "    }\n",
       "\n",
       "    .dataframe tbody tr th {\n",
       "        vertical-align: top;\n",
       "    }\n",
       "\n",
       "    .dataframe thead th {\n",
       "        text-align: right;\n",
       "    }\n",
       "</style>\n",
       "<table border=\"1\" class=\"dataframe\">\n",
       "  <thead>\n",
       "    <tr style=\"text-align: right;\">\n",
       "      <th></th>\n",
       "      <th>negative</th>\n",
       "      <th>neutral</th>\n",
       "      <th>positive</th>\n",
       "    </tr>\n",
       "  </thead>\n",
       "  <tbody>\n",
       "    <tr>\n",
       "      <th>0</th>\n",
       "      <td>0</td>\n",
       "      <td>0</td>\n",
       "      <td>1</td>\n",
       "    </tr>\n",
       "    <tr>\n",
       "      <th>1</th>\n",
       "      <td>0</td>\n",
       "      <td>0</td>\n",
       "      <td>1</td>\n",
       "    </tr>\n",
       "    <tr>\n",
       "      <th>2</th>\n",
       "      <td>0</td>\n",
       "      <td>0</td>\n",
       "      <td>1</td>\n",
       "    </tr>\n",
       "    <tr>\n",
       "      <th>3</th>\n",
       "      <td>0</td>\n",
       "      <td>0</td>\n",
       "      <td>1</td>\n",
       "    </tr>\n",
       "    <tr>\n",
       "      <th>4</th>\n",
       "      <td>0</td>\n",
       "      <td>1</td>\n",
       "      <td>0</td>\n",
       "    </tr>\n",
       "  </tbody>\n",
       "</table>\n",
       "</div>"
      ],
      "text/plain": [
       "   negative  neutral  positive\n",
       "0         0        0         1\n",
       "1         0        0         1\n",
       "2         0        0         1\n",
       "3         0        0         1\n",
       "4         0        1         0"
      ]
     },
     "execution_count": 14,
     "metadata": {},
     "output_type": "execute_result"
    }
   ],
   "source": [
    "y = sentt\n",
    "pd.DataFrame(y).head()"
   ]
  },
  {
   "cell_type": "code",
   "execution_count": 15,
   "id": "163de72b",
   "metadata": {},
   "outputs": [
    {
     "data": {
      "text/plain": [
       "((8639,), (2221,), (1482,))"
      ]
     },
     "execution_count": 15,
     "metadata": {},
     "output_type": "execute_result"
    }
   ],
   "source": [
    "X_train, X_test,Y_train, Y_test = train_test_split(text, y, test_size=0.3, random_state = 45)\n",
    "X_test, X_val, Y_test, Y_val = train_test_split(X_test, Y_test, test_size = 0.4)\n",
    "X_train.shape, X_test.shape, X_val.shape"
   ]
  },
  {
   "cell_type": "code",
   "execution_count": 16,
   "id": "087a83c7",
   "metadata": {},
   "outputs": [],
   "source": [
    "tokenizer = Tokenizer(num_words=5000)\n",
    "tokenizer.fit_on_texts(X_train)\n",
    "\n",
    "words_to_index = tokenizer.word_index"
   ]
  },
  {
   "cell_type": "code",
   "execution_count": 17,
   "id": "bd72b914",
   "metadata": {},
   "outputs": [],
   "source": [
    "def read_fasttext_vector(fasttext_vec):\n",
    "    with open(fasttext_vec, 'r', encoding='UTF-8') as f:\n",
    "        words = set()\n",
    "        word_to_vec_map = {}\n",
    "        for line in f:\n",
    "            w_line = line.split()\n",
    "            curr_word = w_line[0]\n",
    "            word_to_vec_map[curr_word] = np.array(w_line[1:], dtype=np.float64)\n",
    "    return word_to_vec_map"
   ]
  },
  {
   "cell_type": "code",
   "execution_count": 18,
   "id": "ea38c219",
   "metadata": {},
   "outputs": [],
   "source": [
    "word_to_vec_map = read_fasttext_vector('crawl-300d-2M.vec')\n",
    "\n",
    "maxLen = 150"
   ]
  },
  {
   "cell_type": "code",
   "execution_count": 20,
   "id": "1ffea7f8",
   "metadata": {},
   "outputs": [],
   "source": [
    "vocab_len = len(words_to_index)\n",
    "embed_vector_len = word_to_vec_map['moon'].shape[0]\n",
    "\n",
    "emb_matrix = np.zeros((vocab_len, embed_vector_len))\n",
    "\n",
    "for word, index in words_to_index.items():\n",
    "    embedding_vector = word_to_vec_map.get(word)\n",
    "    if embedding_vector is not None:\n",
    "        emb_matrix[index-1, :] = embedding_vector\n",
    "\n",
    "embedding_layer = Embedding(input_dim=vocab_len, output_dim=embed_vector_len, input_length=maxLen, weights = [emb_matrix], trainable=False)"
   ]
  },
  {
   "cell_type": "code",
   "execution_count": 21,
   "id": "4c46e2dc",
   "metadata": {},
   "outputs": [],
   "source": [
    "def Sent_Analysis(input_shape):\n",
    "\n",
    "    X_indices = Input(input_shape)\n",
    "\n",
    "    embeddings = embedding_layer(X_indices)\n",
    "\n",
    "    X = Bidirectional(LSTM(128, return_sequences=True))(embeddings)\n",
    "\n",
    "    X = Dropout(0.6)(X)\n",
    "\n",
    "    X = Bidirectional(LSTM(128, return_sequences=True))(X)\n",
    "    X = Dropout(0.6)(X)\n",
    "    \n",
    "    X = Bidirectional(LSTM(256, return_sequences=True))(X)\n",
    "    X = Dropout(0.6)(X)\n",
    "    \n",
    "    X = Conv1D(256,3,activation='relu')(X)\n",
    "    X = Dropout(0.6)(X)\n",
    "    \n",
    "    X = Conv1D(256,3,activation='relu')(X)\n",
    "    X = Dropout(0.6)(X)\n",
    "\n",
    "    X = Bidirectional(LSTM(128))(X)\n",
    "\n",
    "    X = Dense(3, activation='softmax')(X)\n",
    "\n",
    "    model = Model(inputs=X_indices, outputs=X)\n",
    "\n",
    "    return model"
   ]
  },
  {
   "cell_type": "code",
   "execution_count": 22,
   "id": "cabe72d4",
   "metadata": {},
   "outputs": [],
   "source": [
    "def conv1d_model(input_shape):\n",
    "\n",
    "    X_indices = Input(input_shape)\n",
    "\n",
    "    embeddings = embedding_layer(X_indices)\n",
    "\n",
    "    X = Conv1D(128,3,activation='relu')(embeddings)\n",
    "    X = Dropout(0.8)(X)\n",
    "    \n",
    "#     X = Conv1D(128,3,activation='relu')(embeddings)\n",
    "#     X = Dropout(0.8)(X)\n",
    "\n",
    "#     X = MaxPooling1D(2)(X)\n",
    "\n",
    "#     X = Conv1D(256,3,activation='relu')(X)\n",
    "#     X = Dropout(0.8)(X)\n",
    "#     X = MaxPooling1D(2)(X)\n",
    "\n",
    "    X = Conv1D(128,3,activation='relu')(X)\n",
    "    X = Dropout(0.8)(X)\n",
    "    #X = MaxPooling1D(2)(X)\n",
    "\n",
    "    X = GlobalMaxPooling1D()(X)\n",
    "\n",
    "    X = Dense(128, activation='relu')(X)\n",
    "    X = Dense(3, activation='softmax')(X)\n",
    "\n",
    "    model = Model(inputs=X_indices, outputs=X)\n",
    "\n",
    "    return model"
   ]
  },
  {
   "cell_type": "code",
   "execution_count": 23,
   "id": "23ca767f",
   "metadata": {},
   "outputs": [
    {
     "name": "stdout",
     "output_type": "stream",
     "text": [
      "WARNING:tensorflow:\n",
      "The following Variables were used a Lambda layer's call (tf.compat.v1.nn.embedding_lookup), but\n",
      "are not present in its tracked objects:\n",
      "  <tf.Variable 'embedding/embeddings:0' shape=(13123, 300) dtype=float32>\n",
      "It is possible that this is intended behavior, but it is more likely\n",
      "an omission. This is a strong indication that this layer should be\n",
      "formulated as a subclassed Layer rather than a Lambda layer.\n",
      "Model: \"model\"\n",
      "_________________________________________________________________\n",
      "Layer (type)                 Output Shape              Param #   \n",
      "=================================================================\n",
      "input_1 (InputLayer)         [(None, 150)]             0         \n",
      "_________________________________________________________________\n",
      "tf.cast (TFOpLambda)         (None, 150)               0         \n",
      "_________________________________________________________________\n",
      "tf.compat.v1.nn.embedding_lo (None, 150, 300)          0         \n",
      "_________________________________________________________________\n",
      "bidirectional (Bidirectional (None, 150, 256)          439296    \n",
      "_________________________________________________________________\n",
      "dropout (Dropout)            (None, 150, 256)          0         \n",
      "_________________________________________________________________\n",
      "bidirectional_1 (Bidirection (None, 150, 256)          394240    \n",
      "_________________________________________________________________\n",
      "dropout_1 (Dropout)          (None, 150, 256)          0         \n",
      "_________________________________________________________________\n",
      "bidirectional_2 (Bidirection (None, 150, 512)          1050624   \n",
      "_________________________________________________________________\n",
      "dropout_2 (Dropout)          (None, 150, 512)          0         \n",
      "_________________________________________________________________\n",
      "conv1d (Conv1D)              (None, 148, 256)          393472    \n",
      "_________________________________________________________________\n",
      "dropout_3 (Dropout)          (None, 148, 256)          0         \n",
      "_________________________________________________________________\n",
      "conv1d_1 (Conv1D)            (None, 146, 256)          196864    \n",
      "_________________________________________________________________\n",
      "dropout_4 (Dropout)          (None, 146, 256)          0         \n",
      "_________________________________________________________________\n",
      "bidirectional_3 (Bidirection (None, 256)               394240    \n",
      "_________________________________________________________________\n",
      "dense (Dense)                (None, 3)                 771       \n",
      "=================================================================\n",
      "Total params: 2,869,507\n",
      "Trainable params: 2,869,507\n",
      "Non-trainable params: 0\n",
      "_________________________________________________________________\n"
     ]
    }
   ],
   "source": [
    "model = Sent_Analysis((maxLen,))\n",
    "model.summary()"
   ]
  },
  {
   "cell_type": "code",
   "execution_count": 24,
   "id": "37d4b6c4",
   "metadata": {},
   "outputs": [
    {
     "name": "stdout",
     "output_type": "stream",
     "text": [
      "WARNING:tensorflow:\n",
      "The following Variables were used a Lambda layer's call (tf.compat.v1.nn.embedding_lookup_1), but\n",
      "are not present in its tracked objects:\n",
      "  <tf.Variable 'embedding/embeddings:0' shape=(13123, 300) dtype=float32>\n",
      "It is possible that this is intended behavior, but it is more likely\n",
      "an omission. This is a strong indication that this layer should be\n",
      "formulated as a subclassed Layer rather than a Lambda layer.\n",
      "Model: \"model_1\"\n",
      "_________________________________________________________________\n",
      "Layer (type)                 Output Shape              Param #   \n",
      "=================================================================\n",
      "input_2 (InputLayer)         [(None, 150)]             0         \n",
      "_________________________________________________________________\n",
      "tf.cast_1 (TFOpLambda)       (None, 150)               0         \n",
      "_________________________________________________________________\n",
      "tf.compat.v1.nn.embedding_lo (None, 150, 300)          0         \n",
      "_________________________________________________________________\n",
      "conv1d_2 (Conv1D)            (None, 148, 128)          115328    \n",
      "_________________________________________________________________\n",
      "dropout_5 (Dropout)          (None, 148, 128)          0         \n",
      "_________________________________________________________________\n",
      "conv1d_3 (Conv1D)            (None, 146, 128)          49280     \n",
      "_________________________________________________________________\n",
      "dropout_6 (Dropout)          (None, 146, 128)          0         \n",
      "_________________________________________________________________\n",
      "global_max_pooling1d (Global (None, 128)               0         \n",
      "_________________________________________________________________\n",
      "dense_1 (Dense)              (None, 128)               16512     \n",
      "_________________________________________________________________\n",
      "dense_2 (Dense)              (None, 3)                 387       \n",
      "=================================================================\n",
      "Total params: 181,507\n",
      "Trainable params: 181,507\n",
      "Non-trainable params: 0\n",
      "_________________________________________________________________\n"
     ]
    }
   ],
   "source": [
    "model_1d = conv1d_model((maxLen,))\n",
    "model_1d.summary()"
   ]
  },
  {
   "cell_type": "code",
   "execution_count": 25,
   "id": "ab07cbc0",
   "metadata": {},
   "outputs": [],
   "source": [
    "X_train_indices = tokenizer.texts_to_sequences(X_train)\n",
    "X_val_indices = tokenizer.texts_to_sequences(X_val)"
   ]
  },
  {
   "cell_type": "code",
   "execution_count": 26,
   "id": "729afd65",
   "metadata": {},
   "outputs": [
    {
     "data": {
      "text/plain": [
       "((8639, 150), (1482, 150))"
      ]
     },
     "execution_count": 26,
     "metadata": {},
     "output_type": "execute_result"
    }
   ],
   "source": [
    "X_train_indices = pad_sequences(X_train_indices, maxlen=maxLen, padding='post')\n",
    "X_val_indices = pad_sequences(X_val_indices, maxlen=maxLen, padding='post')\n",
    "X_train_indices.shape, X_val_indices.shape"
   ]
  },
  {
   "cell_type": "code",
   "execution_count": 27,
   "id": "9eead4c9",
   "metadata": {},
   "outputs": [],
   "source": [
    "#adam = keras.optimizers.Adam(learning_rate = 0.0001)\n",
    "model_1d.compile(optimizer='adam', loss='categorical_crossentropy', metrics=['accuracy'])"
   ]
  },
  {
   "cell_type": "code",
   "execution_count": 28,
   "id": "0dccb1f9",
   "metadata": {
    "scrolled": true
   },
   "outputs": [
    {
     "name": "stdout",
     "output_type": "stream",
     "text": [
      "Epoch 1/30\n",
      "135/135 [==============================] - 16s 27ms/step - loss: 1.1791 - accuracy: 0.3551 - val_loss: 1.0949 - val_accuracy: 0.3549\n",
      "Epoch 2/30\n",
      "135/135 [==============================] - 4s 26ms/step - loss: 1.0984 - accuracy: 0.3730 - val_loss: 1.0925 - val_accuracy: 0.4170\n",
      "Epoch 3/30\n",
      "135/135 [==============================] - 3s 24ms/step - loss: 1.0825 - accuracy: 0.3896 - val_loss: 1.0878 - val_accuracy: 0.4096\n",
      "Epoch 4/30\n",
      "135/135 [==============================] - 4s 26ms/step - loss: 1.0699 - accuracy: 0.4055 - val_loss: 1.0839 - val_accuracy: 0.3731\n",
      "Epoch 5/30\n",
      "135/135 [==============================] - 4s 27ms/step - loss: 1.0420 - accuracy: 0.4330 - val_loss: 1.0764 - val_accuracy: 0.3812\n",
      "Epoch 6/30\n",
      "135/135 [==============================] - 4s 28ms/step - loss: 1.0169 - accuracy: 0.4518 - val_loss: 1.0699 - val_accuracy: 0.4109\n",
      "Epoch 7/30\n",
      "135/135 [==============================] - 4s 27ms/step - loss: 0.9805 - accuracy: 0.4795 - val_loss: 1.0683 - val_accuracy: 0.3731\n",
      "Epoch 8/30\n",
      "135/135 [==============================] - 4s 26ms/step - loss: 0.9517 - accuracy: 0.5101 - val_loss: 1.0579 - val_accuracy: 0.3866\n",
      "Epoch 9/30\n",
      "135/135 [==============================] - 4s 27ms/step - loss: 0.9232 - accuracy: 0.5269 - val_loss: 1.0519 - val_accuracy: 0.3941\n",
      "Epoch 10/30\n",
      "135/135 [==============================] - 4s 27ms/step - loss: 0.8928 - accuracy: 0.5432 - val_loss: 1.0394 - val_accuracy: 0.4130\n",
      "Epoch 11/30\n",
      "135/135 [==============================] - 4s 27ms/step - loss: 0.8638 - accuracy: 0.5594 - val_loss: 1.0308 - val_accuracy: 0.4130\n",
      "Epoch 12/30\n",
      "135/135 [==============================] - 4s 27ms/step - loss: 0.8493 - accuracy: 0.5783 - val_loss: 1.0064 - val_accuracy: 0.4453\n",
      "Epoch 13/30\n",
      "135/135 [==============================] - 4s 27ms/step - loss: 0.8271 - accuracy: 0.5909 - val_loss: 1.0044 - val_accuracy: 0.4494\n",
      "Epoch 14/30\n",
      "135/135 [==============================] - 4s 27ms/step - loss: 0.8070 - accuracy: 0.5998 - val_loss: 0.9857 - val_accuracy: 0.4744\n",
      "Epoch 15/30\n",
      "135/135 [==============================] - 4s 26ms/step - loss: 0.7937 - accuracy: 0.6049 - val_loss: 1.0014 - val_accuracy: 0.4440\n",
      "Epoch 16/30\n",
      "135/135 [==============================] - 4s 27ms/step - loss: 0.7886 - accuracy: 0.6061 - val_loss: 1.0054 - val_accuracy: 0.4372\n",
      "Epoch 17/30\n",
      "135/135 [==============================] - 3s 26ms/step - loss: 0.7681 - accuracy: 0.6158 - val_loss: 0.9689 - val_accuracy: 0.4858\n",
      "Epoch 18/30\n",
      "135/135 [==============================] - 3s 26ms/step - loss: 0.7650 - accuracy: 0.6251 - val_loss: 0.9709 - val_accuracy: 0.4811\n",
      "Epoch 19/30\n",
      "135/135 [==============================] - 3s 26ms/step - loss: 0.7408 - accuracy: 0.6378 - val_loss: 0.9585 - val_accuracy: 0.4993\n",
      "Epoch 20/30\n",
      "135/135 [==============================] - 4s 27ms/step - loss: 0.7358 - accuracy: 0.6386 - val_loss: 0.9469 - val_accuracy: 0.5189\n",
      "Epoch 21/30\n",
      "135/135 [==============================] - 4s 26ms/step - loss: 0.7300 - accuracy: 0.6402 - val_loss: 0.9446 - val_accuracy: 0.5142\n",
      "Epoch 22/30\n",
      "135/135 [==============================] - 4s 27ms/step - loss: 0.7159 - accuracy: 0.6479 - val_loss: 0.9420 - val_accuracy: 0.5034\n",
      "Epoch 23/30\n",
      "135/135 [==============================] - 4s 27ms/step - loss: 0.7164 - accuracy: 0.6469 - val_loss: 0.9362 - val_accuracy: 0.5189\n",
      "Epoch 24/30\n",
      "135/135 [==============================] - 4s 28ms/step - loss: 0.6951 - accuracy: 0.6640 - val_loss: 0.9311 - val_accuracy: 0.5236\n",
      "Epoch 25/30\n",
      "135/135 [==============================] - 4s 27ms/step - loss: 0.6888 - accuracy: 0.6627 - val_loss: 0.9160 - val_accuracy: 0.5506\n",
      "Epoch 26/30\n",
      "135/135 [==============================] - 4s 27ms/step - loss: 0.6765 - accuracy: 0.6738 - val_loss: 0.8946 - val_accuracy: 0.5553\n",
      "Epoch 27/30\n",
      "135/135 [==============================] - 4s 28ms/step - loss: 0.6686 - accuracy: 0.6789 - val_loss: 0.9056 - val_accuracy: 0.5634\n",
      "Epoch 28/30\n",
      "135/135 [==============================] - 4s 28ms/step - loss: 0.6785 - accuracy: 0.6739 - val_loss: 0.9036 - val_accuracy: 0.5547\n",
      "Epoch 29/30\n",
      "135/135 [==============================] - 4s 28ms/step - loss: 0.6545 - accuracy: 0.6842 - val_loss: 0.9126 - val_accuracy: 0.5297\n",
      "Epoch 30/30\n",
      "135/135 [==============================] - 4s 27ms/step - loss: 0.6553 - accuracy: 0.6863 - val_loss: 0.8936 - val_accuracy: 0.5553\n"
     ]
    }
   ],
   "source": [
    "his1 = model_1d.fit(X_train_indices, Y_train, validation_data = (X_val_indices, Y_val), batch_size=64, epochs=30)"
   ]
  },
  {
   "cell_type": "code",
   "execution_count": 29,
   "id": "be73f1fe",
   "metadata": {},
   "outputs": [
    {
     "data": {
      "text/plain": [
       "Text(0, 0.5, 'Accuracy')"
      ]
     },
     "execution_count": 29,
     "metadata": {},
     "output_type": "execute_result"
    },
    {
     "data": {
      "image/png": "[encoded data removed]",
      "text/plain": [
       "<Figure size 432x288 with 1 Axes>"
      ]
     },
     "metadata": {
      "needs_background": "light"
     },
     "output_type": "display_data"
    }
   ],
   "source": [
    "taccr = his1.history['accuracy']\n",
    "vaccr = his1.history['val_accuracy']\n",
    "tloss = his1.history['loss']\n",
    "vloss = his1.history['val_loss']\n",
    "plt.plot(taccr)\n",
    "plt.plot(vaccr)\n",
    "plt.title(\"Accuracy\")\n",
    "plt.legend([\"Training\", \"Validation\"])\n",
    "plt.xlabel(\"Epochs\")\n",
    "plt.ylabel(\"Accuracy\")"
   ]
  },
  {
   "cell_type": "code",
   "execution_count": 30,
   "id": "6233501c",
   "metadata": {},
   "outputs": [
    {
     "data": {
      "text/plain": [
       "Text(0, 0.5, 'loss')"
      ]
     },
     "execution_count": 30,
     "metadata": {},
     "output_type": "execute_result"
    },
    {
     "data": {
      "image/png": "[encoded data removed]",
      "text/plain": [
       "<Figure size 432x288 with 1 Axes>"
      ]
     },
     "metadata": {
      "needs_background": "light"
     },
     "output_type": "display_data"
    }
   ],
   "source": [
    "taccr = his1.history['loss']\n",
    "vaccr = his1.history['val_loss']\n",
    "tloss = his1.history['loss']\n",
    "vloss = his1.history['val_loss']\n",
    "plt.plot(taccr)\n",
    "plt.plot(vaccr)\n",
    "plt.title(\"loss\")\n",
    "plt.legend([\"Training\", \"Validation\"])\n",
    "plt.xlabel(\"Epochs\")\n",
    "plt.ylabel(\"loss\")"
   ]
  },
  {
   "cell_type": "code",
   "execution_count": 31,
   "id": "370aa595",
   "metadata": {},
   "outputs": [],
   "source": [
    "#adam = keras.optimizers.Adam(learning_rate = 0.0001)\n",
    "model.compile(optimizer='adam', loss='categorical_crossentropy', metrics=['accuracy'])"
   ]
  },
  {
   "cell_type": "code",
   "execution_count": 32,
   "id": "02a6df2f",
   "metadata": {},
   "outputs": [
    {
     "name": "stdout",
     "output_type": "stream",
     "text": [
      "Epoch 1/15\n",
      "135/135 [==============================] - 57s 314ms/step - loss: 1.0921 - accuracy: 0.3793 - val_loss: 1.0948 - val_accuracy: 0.3677\n",
      "Epoch 2/15\n",
      "135/135 [==============================] - 29s 217ms/step - loss: 1.0568 - accuracy: 0.4263 - val_loss: 1.0492 - val_accuracy: 0.4379\n",
      "Epoch 3/15\n",
      "135/135 [==============================] - 30s 222ms/step - loss: 1.0060 - accuracy: 0.4784 - val_loss: 1.0193 - val_accuracy: 0.4561\n",
      "Epoch 4/15\n",
      "135/135 [==============================] - 30s 220ms/step - loss: 0.9422 - accuracy: 0.5231 - val_loss: 1.0251 - val_accuracy: 0.4912\n",
      "Epoch 5/15\n",
      "135/135 [==============================] - 29s 218ms/step - loss: 0.8606 - accuracy: 0.5710 - val_loss: 1.0038 - val_accuracy: 0.4838\n",
      "Epoch 6/15\n",
      "135/135 [==============================] - 30s 221ms/step - loss: 0.7846 - accuracy: 0.6164 - val_loss: 0.9396 - val_accuracy: 0.5675\n",
      "Epoch 7/15\n",
      "135/135 [==============================] - 30s 224ms/step - loss: 0.7206 - accuracy: 0.6459 - val_loss: 0.9033 - val_accuracy: 0.5574\n",
      "Epoch 8/15\n",
      "135/135 [==============================] - 30s 223ms/step - loss: 0.6553 - accuracy: 0.6791 - val_loss: 0.8976 - val_accuracy: 0.5628\n",
      "Epoch 9/15\n",
      "135/135 [==============================] - 30s 221ms/step - loss: 0.6080 - accuracy: 0.7135 - val_loss: 0.8352 - val_accuracy: 0.5985\n",
      "Epoch 10/15\n",
      "135/135 [==============================] - 30s 225ms/step - loss: 0.5404 - accuracy: 0.7511 - val_loss: 0.9382 - val_accuracy: 0.6127\n",
      "Epoch 11/15\n",
      "135/135 [==============================] - 30s 221ms/step - loss: 0.5184 - accuracy: 0.7632 - val_loss: 0.8459 - val_accuracy: 0.6154\n",
      "Epoch 12/15\n",
      "135/135 [==============================] - 30s 220ms/step - loss: 0.4741 - accuracy: 0.7897 - val_loss: 0.9611 - val_accuracy: 0.6296\n",
      "Epoch 13/15\n",
      "135/135 [==============================] - 30s 225ms/step - loss: 0.4331 - accuracy: 0.8140 - val_loss: 0.8212 - val_accuracy: 0.6404\n",
      "Epoch 14/15\n",
      "135/135 [==============================] - 30s 222ms/step - loss: 0.3840 - accuracy: 0.8396 - val_loss: 0.8963 - val_accuracy: 0.6545\n",
      "Epoch 15/15\n",
      "135/135 [==============================] - 30s 224ms/step - loss: 0.3530 - accuracy: 0.8585 - val_loss: 0.9337 - val_accuracy: 0.6478\n"
     ]
    }
   ],
   "source": [
    "his2 = model.fit(X_train_indices, Y_train,validation_data = (X_val_indices, Y_val), batch_size=64, epochs=15)"
   ]
  },
  {
   "cell_type": "code",
   "execution_count": 33,
   "id": "d7434e49",
   "metadata": {},
   "outputs": [
    {
     "data": {
      "text/plain": [
       "Text(0, 0.5, 'Accuracy')"
      ]
     },
     "execution_count": 33,
     "metadata": {},
     "output_type": "execute_result"
    },
    {
     "data": {
      "image/png": "[encoded data removed]",
      "text/plain": [
       "<Figure size 432x288 with 1 Axes>"
      ]
     },
     "metadata": {
      "needs_background": "light"
     },
     "output_type": "display_data"
    }
   ],
   "source": [
    "taccr = his2.history['accuracy']\n",
    "vaccr = his2.history['val_accuracy']\n",
    "tloss = his2.history['loss']\n",
    "vloss = his2.history['val_loss']\n",
    "plt.plot(taccr)\n",
    "plt.plot(vaccr)\n",
    "plt.title(\"Accuracy\")\n",
    "plt.legend([\"Training\", \"Validation\"])\n",
    "plt.xlabel(\"Epochs\")\n",
    "plt.ylabel(\"Accuracy\")"
   ]
  },
  {
   "cell_type": "code",
   "execution_count": 34,
   "id": "55bc4474",
   "metadata": {},
   "outputs": [
    {
     "data": {
      "text/plain": [
       "Text(0, 0.5, 'loss')"
      ]
     },
     "execution_count": 34,
     "metadata": {},
     "output_type": "execute_result"
    },
    {
     "data": {
      "image/png": "[encoded data removed]",
      "text/plain": [
       "<Figure size 432x288 with 1 Axes>"
      ]
     },
     "metadata": {
      "needs_background": "light"
     },
     "output_type": "display_data"
    }
   ],
   "source": [
    "taccr = his1.history['loss']\n",
    "vaccr = his1.history['val_loss']\n",
    "tloss = his1.history['loss']\n",
    "vloss = his1.history['val_loss']\n",
    "plt.plot(taccr)\n",
    "plt.plot(vaccr)\n",
    "plt.title(\"loss\")\n",
    "plt.legend([\"Training\", \"Validation\"])\n",
    "plt.xlabel(\"Epochs\")\n",
    "plt.ylabel(\"loss\")"
   ]
  },
  {
   "cell_type": "code",
   "execution_count": 35,
   "id": "9eb6ed37",
   "metadata": {},
   "outputs": [],
   "source": [
    "X_test_indices = tokenizer.texts_to_sequences(X_test)\n",
    "\n",
    "X_test_indices = pad_sequences(X_test_indices, maxlen=maxLen, padding='post')"
   ]
  },
  {
   "cell_type": "code",
   "execution_count": 36,
   "id": "5a635d89",
   "metadata": {},
   "outputs": [],
   "source": [
    "y_pred1 = model.predict(X_test_indices)\n",
    "y_pred2 = model_1d.predict(X_test_indices)"
   ]
  },
  {
   "cell_type": "code",
   "execution_count": 37,
   "id": "523bce7f",
   "metadata": {},
   "outputs": [],
   "source": [
    "yt = np.argmax(np.array(Y_test), axis = 1)\n",
    "yp1 = np.argmax(y_pred1, axis = 1)\n",
    "yp2 = np.argmax(y_pred2, axis = 1)"
   ]
  },
  {
   "cell_type": "code",
   "execution_count": 38,
   "id": "6b7b98cd",
   "metadata": {},
   "outputs": [
    {
     "data": {
      "text/plain": [
       "(0.6659162539396668, 0.5605583070688879)"
      ]
     },
     "execution_count": 38,
     "metadata": {},
     "output_type": "execute_result"
    }
   ],
   "source": [
    "from sklearn.metrics import accuracy_score, classification_report, confusion_matrix\n",
    "accuracy_score(yt, yp1), accuracy_score(yt, yp2)"
   ]
  },
  {
   "cell_type": "code",
   "execution_count": 39,
   "id": "57f31c39",
   "metadata": {},
   "outputs": [
    {
     "name": "stdout",
     "output_type": "stream",
     "text": [
      "              precision    recall  f1-score   support\n",
      "\n",
      "           0       0.80      0.88      0.84       701\n",
      "           1       0.60      0.63      0.62       804\n",
      "           2       0.58      0.49      0.53       716\n",
      "\n",
      "    accuracy                           0.67      2221\n",
      "   macro avg       0.66      0.67      0.66      2221\n",
      "weighted avg       0.66      0.67      0.66      2221\n",
      "               precision    recall  f1-score   support\n",
      "\n",
      "           0       0.96      0.60      0.74       701\n",
      "           1       0.64      0.19      0.29       804\n",
      "           2       0.44      0.95      0.60       716\n",
      "\n",
      "    accuracy                           0.56      2221\n",
      "   macro avg       0.68      0.58      0.54      2221\n",
      "weighted avg       0.67      0.56      0.53      2221\n",
      "\n"
     ]
    }
   ],
   "source": [
    "print(classification_report(yt,yp1), classification_report(yt,yp2))"
   ]
  },
  {
   "cell_type": "code",
   "execution_count": 41,
   "id": "bacdd5a9",
   "metadata": {},
   "outputs": [
    {
     "data": {
      "text/plain": [
       "Text(33.0, 0.5, 'Truth')"
      ]
     },
     "execution_count": 41,
     "metadata": {},
     "output_type": "execute_result"
    },
    {
     "data": {
      "image/png": "[encoded data removed]",
      "text/plain": [
       "<Figure size 432x288 with 2 Axes>"
      ]
     },
     "metadata": {
      "needs_background": "light"
     },
     "output_type": "display_data"
    }
   ],
   "source": [
    "cm = confusion_matrix(yt, yp1)\n",
    "sns.heatmap(cm, annot=True, fmt='d')\n",
    "plt.xlabel('Predicted')\n",
    "plt.ylabel('Truth')"
   ]
  },
  {
   "cell_type": "code",
   "execution_count": 43,
   "id": "4bef4711",
   "metadata": {},
   "outputs": [
    {
     "data": {
      "text/plain": [
       "Text(33.0, 0.5, 'Truth')"
      ]
     },
     "execution_count": 43,
     "metadata": {},
     "output_type": "execute_result"
    },
    {
     "data": {
      "image/png": "[encoded data removed]",
      "text/plain": [
       "<Figure size 432x288 with 2 Axes>"
      ]
     },
     "metadata": {
      "needs_background": "light"
     },
     "output_type": "display_data"
    }
   ],
   "source": [
    "cm = confusion_matrix(yt, yp2)\n",
    "sns.heatmap(cm, annot=True, fmt='d')\n",
    "plt.xlabel('Predicted')\n",
    "plt.ylabel('Truth')"
   ]
  },
  {
   "cell_type": "code",
   "execution_count": 44,
   "id": "9eb8b2fe",
   "metadata": {},
   "outputs": [
    {
     "data": {
      "text/plain": [
       "array([0, 1, 2, ..., 0, 1, 1], dtype=int64)"
      ]
     },
     "execution_count": 44,
     "metadata": {},
     "output_type": "execute_result"
    }
   ],
   "source": [
    "yp1"
   ]
  },
  {
   "cell_type": "code",
   "execution_count": 45,
   "id": "c7b8b485",
   "metadata": {},
   "outputs": [
    {
     "data": {
      "text/html": [
       "<div>\n",
       "<style scoped>\n",
       "    .dataframe tbody tr th:only-of-type {\n",
       "        vertical-align: middle;\n",
       "    }\n",
       "\n",
       "    .dataframe tbody tr th {\n",
       "        vertical-align: top;\n",
       "    }\n",
       "\n",
       "    .dataframe thead th {\n",
       "        text-align: right;\n",
       "    }\n",
       "</style>\n",
       "<table border=\"1\" class=\"dataframe\">\n",
       "  <thead>\n",
       "    <tr style=\"text-align: right;\">\n",
       "      <th></th>\n",
       "      <th>negative</th>\n",
       "      <th>neutral</th>\n",
       "      <th>positive</th>\n",
       "    </tr>\n",
       "  </thead>\n",
       "  <tbody>\n",
       "    <tr>\n",
       "      <th>8004</th>\n",
       "      <td>1</td>\n",
       "      <td>0</td>\n",
       "      <td>0</td>\n",
       "    </tr>\n",
       "    <tr>\n",
       "      <th>6126</th>\n",
       "      <td>0</td>\n",
       "      <td>0</td>\n",
       "      <td>1</td>\n",
       "    </tr>\n",
       "    <tr>\n",
       "      <th>3557</th>\n",
       "      <td>0</td>\n",
       "      <td>1</td>\n",
       "      <td>0</td>\n",
       "    </tr>\n",
       "    <tr>\n",
       "      <th>6938</th>\n",
       "      <td>1</td>\n",
       "      <td>0</td>\n",
       "      <td>0</td>\n",
       "    </tr>\n",
       "    <tr>\n",
       "      <th>4618</th>\n",
       "      <td>0</td>\n",
       "      <td>1</td>\n",
       "      <td>0</td>\n",
       "    </tr>\n",
       "    <tr>\n",
       "      <th>...</th>\n",
       "      <td>...</td>\n",
       "      <td>...</td>\n",
       "      <td>...</td>\n",
       "    </tr>\n",
       "    <tr>\n",
       "      <th>2016</th>\n",
       "      <td>1</td>\n",
       "      <td>0</td>\n",
       "      <td>0</td>\n",
       "    </tr>\n",
       "    <tr>\n",
       "      <th>12126</th>\n",
       "      <td>1</td>\n",
       "      <td>0</td>\n",
       "      <td>0</td>\n",
       "    </tr>\n",
       "    <tr>\n",
       "      <th>9995</th>\n",
       "      <td>1</td>\n",
       "      <td>0</td>\n",
       "      <td>0</td>\n",
       "    </tr>\n",
       "    <tr>\n",
       "      <th>9987</th>\n",
       "      <td>0</td>\n",
       "      <td>0</td>\n",
       "      <td>1</td>\n",
       "    </tr>\n",
       "    <tr>\n",
       "      <th>6457</th>\n",
       "      <td>0</td>\n",
       "      <td>1</td>\n",
       "      <td>0</td>\n",
       "    </tr>\n",
       "  </tbody>\n",
       "</table>\n",
       "<p>2221 rows × 3 columns</p>\n",
       "</div>"
      ],
      "text/plain": [
       "       negative  neutral  positive\n",
       "8004          1        0         0\n",
       "6126          0        0         1\n",
       "3557          0        1         0\n",
       "6938          1        0         0\n",
       "4618          0        1         0\n",
       "...         ...      ...       ...\n",
       "2016          1        0         0\n",
       "12126         1        0         0\n",
       "9995          1        0         0\n",
       "9987          0        0         1\n",
       "6457          0        1         0\n",
       "\n",
       "[2221 rows x 3 columns]"
      ]
     },
     "execution_count": 45,
     "metadata": {},
     "output_type": "execute_result"
    }
   ],
   "source": [
    "Y_test"
   ]
  },
  {
   "cell_type": "code",
   "execution_count": 46,
   "id": "0688280f",
   "metadata": {},
   "outputs": [
    {
     "data": {
      "text/plain": [
       "'WHEN YOU RE PLAYING ANTAKSHARI SCOOPWHOOP COM AND SING A SONG STARTING WITH  Z '"
      ]
     },
     "execution_count": 46,
     "metadata": {},
     "output_type": "execute_result"
    }
   ],
   "source": [
    "X_test.iloc[1]"
   ]
  },
  {
   "cell_type": "code",
   "execution_count": 47,
   "id": "fbe76879",
   "metadata": {},
   "outputs": [
    {
     "data": {
      "text/plain": [
       "'BTS Convey picture best friend And somebody wants join Made allkpop  com   meme'"
      ]
     },
     "execution_count": 47,
     "metadata": {},
     "output_type": "execute_result"
    }
   ],
   "source": [
    "X_test.iloc[0]"
   ]
  },
  {
   "cell_type": "code",
   "execution_count": 48,
   "id": "480d3cc6",
   "metadata": {},
   "outputs": [
    {
     "data": {
      "text/plain": [
       "'FRIGGERED Devising memes weed 4   20 Making memes Hitler   s birthday quartet   20'"
      ]
     },
     "execution_count": 48,
     "metadata": {},
     "output_type": "execute_result"
    }
   ],
   "source": [
    "X_test.iloc[2]"
   ]
  },
  {
   "cell_type": "code",
   "execution_count": 104,
   "id": "a390c38f",
   "metadata": {},
   "outputs": [
    {
     "data": {
      "text/plain": [
       "'I CANNOT BRAIN TODAY I HAS THE DUMB'"
      ]
     },
     "execution_count": 104,
     "metadata": {},
     "output_type": "execute_result"
    }
   ],
   "source": [
    "X_test.iloc[108]"
   ]
  },
  {
   "cell_type": "code",
   "execution_count": 102,
   "id": "171afc58",
   "metadata": {},
   "outputs": [
    {
     "data": {
      "text/plain": [
       "(       negative  neutral  positive\n",
       " 5967          1        0         0\n",
       " 5487          0        0         1\n",
       " 10397         0        0         1\n",
       " 6764          1        0         0\n",
       " 4448          1        0         0\n",
       " 9616          0        0         1\n",
       " 12105         1        0         0\n",
       " 4208          0        1         0\n",
       " 885           0        1         0\n",
       " 10970         0        1         0,\n",
       " array([0, 2, 2, 0, 0, 0, 0, 2, 1, 1], dtype=int64))"
      ]
     },
     "execution_count": 102,
     "metadata": {},
     "output_type": "execute_result"
    }
   ],
   "source": [
    "Y_test[100:110], yp1[100:110]"
   ]
  },
  {
   "cell_type": "code",
   "execution_count": 63,
   "id": "3dd55129",
   "metadata": {},
   "outputs": [
    {
     "data": {
      "text/plain": [
       "negative    0\n",
       "neutral     0\n",
       "positive    1\n",
       "Name: 11987, dtype: uint8"
      ]
     },
     "execution_count": 63,
     "metadata": {},
     "output_type": "execute_result"
    }
   ],
   "source": [
    "Y_test.iloc[6]"
   ]
  },
  {
   "cell_type": "code",
   "execution_count": null,
   "id": "0e7decbb",
   "metadata": {},
   "outputs": [],
   "source": []
  }
 ],
 "metadata": {
  "kernelspec": {
   "display_name": "Python 3 (ipykernel)",
   "language": "python",
   "name": "python3"
  },
  "language_info": {
   "codemirror_mode": {
    "name": "ipython",
    "version": 3
   },
   "file_extension": ".py",
   "mimetype": "text/x-python",
   "name": "python",
   "nbconvert_exporter": "python",
   "pygments_lexer": "ipython3",
   "version": "3.8.13"
  }
 },
 "nbformat": 4,
 "nbformat_minor": 5
}
