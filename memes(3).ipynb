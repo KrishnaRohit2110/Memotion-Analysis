{
 "cells": [
  {
   "cell_type": "code",
   "execution_count": 1,
   "id": "015399e5",
   "metadata": {},
   "outputs": [],
   "source": [
    "%matplotlib inline\n",
    "import re\n",
    "import string\n",
    "from sklearn.model_selection import train_test_split\n",
    "\n",
    "import matplotlib.pyplot as plt\n",
    "import seaborn as sns\n",
    "import numpy as np\n",
    "import pandas as pd\n",
    "from tqdm import tqdm\n",
    "import tensorflow as tf\n",
    "from tensorflow.keras.preprocessing import image\n",
    "\n",
    "from PIL import ImageFile\n",
    "ImageFile.LOAD_TRUNCATED_IMAGES = True\n",
    "\n",
    "from tensorflow.keras.models import Model\n",
    "from tensorflow.keras.layers import Conv2D, MaxPool2D, GlobalAveragePooling2D, Input, Bidirectional\n",
    "from tensorflow.keras.layers import Dense, Flatten, BatchNormalization, Activation, Dropout, LSTM\n",
    "from tensorflow.keras.layers import Conv1D, Embedding, GlobalAveragePooling1D , MaxPooling2D\n",
    "from tensorflow.keras.preprocessing.text import Tokenizer\n",
    "from tensorflow.keras.preprocessing.sequence import pad_sequences"
   ]
  },
  {
   "cell_type": "code",
   "execution_count": 2,
   "id": "413ddde7",
   "metadata": {},
   "outputs": [
    {
     "data": {
      "text/html": [
       "<div>\n",
       "<style scoped>\n",
       "    .dataframe tbody tr th:only-of-type {\n",
       "        vertical-align: middle;\n",
       "    }\n",
       "\n",
       "    .dataframe tbody tr th {\n",
       "        vertical-align: top;\n",
       "    }\n",
       "\n",
       "    .dataframe thead th {\n",
       "        text-align: right;\n",
       "    }\n",
       "</style>\n",
       "<table border=\"1\" class=\"dataframe\">\n",
       "  <thead>\n",
       "    <tr style=\"text-align: right;\">\n",
       "      <th></th>\n",
       "      <th>image_name</th>\n",
       "      <th>text_corrected</th>\n",
       "      <th>overall_sentiment</th>\n",
       "    </tr>\n",
       "  </thead>\n",
       "  <tbody>\n",
       "    <tr>\n",
       "      <th>0</th>\n",
       "      <td>image_1.jpg</td>\n",
       "      <td>LOOK THERE MY FRIEND LIGHTYEAR NOW ALL SOHALIK...</td>\n",
       "      <td>positive</td>\n",
       "    </tr>\n",
       "    <tr>\n",
       "      <th>1</th>\n",
       "      <td>image_2.jpeg</td>\n",
       "      <td>The best of #10 YearChallenge! Completed in le...</td>\n",
       "      <td>positive</td>\n",
       "    </tr>\n",
       "    <tr>\n",
       "      <th>2</th>\n",
       "      <td>image_3.JPG</td>\n",
       "      <td>Sam Thorne @Strippin ( Follow Follow Saw every...</td>\n",
       "      <td>positive</td>\n",
       "    </tr>\n",
       "    <tr>\n",
       "      <th>3</th>\n",
       "      <td>image_4.png</td>\n",
       "      <td>10 Year Challenge - Sweet Dee Edition</td>\n",
       "      <td>positive</td>\n",
       "    </tr>\n",
       "    <tr>\n",
       "      <th>4</th>\n",
       "      <td>image_5.png</td>\n",
       "      <td>10 YEAR CHALLENGE WITH NO FILTER 47 Hilarious ...</td>\n",
       "      <td>neutral</td>\n",
       "    </tr>\n",
       "  </tbody>\n",
       "</table>\n",
       "</div>"
      ],
      "text/plain": [
       "     image_name                                     text_corrected  \\\n",
       "0   image_1.jpg  LOOK THERE MY FRIEND LIGHTYEAR NOW ALL SOHALIK...   \n",
       "1  image_2.jpeg  The best of #10 YearChallenge! Completed in le...   \n",
       "2   image_3.JPG  Sam Thorne @Strippin ( Follow Follow Saw every...   \n",
       "3   image_4.png              10 Year Challenge - Sweet Dee Edition   \n",
       "4   image_5.png  10 YEAR CHALLENGE WITH NO FILTER 47 Hilarious ...   \n",
       "\n",
       "  overall_sentiment  \n",
       "0          positive  \n",
       "1          positive  \n",
       "2          positive  \n",
       "3          positive  \n",
       "4           neutral  "
      ]
     },
     "execution_count": 2,
     "metadata": {},
     "output_type": "execute_result"
    }
   ],
   "source": [
    "df = pd.read_csv('memotion_dataset_7k/labels.csv')\n",
    "df.drop(df.columns[df.columns.str.contains('unnamed',case = False)],axis = 1, inplace = True)\n",
    "df = df.drop(columns = ['text_ocr', 'humour', 'sarcasm', 'offensive', 'motivational'])\n",
    "df.head()"
   ]
  },
  {
   "cell_type": "code",
   "execution_count": 3,
   "id": "b8d60f1d",
   "metadata": {},
   "outputs": [
    {
     "data": {
      "text/plain": [
       "image_name           False\n",
       "text_corrected       False\n",
       "overall_sentiment    False\n",
       "dtype: bool"
      ]
     },
     "execution_count": 3,
     "metadata": {},
     "output_type": "execute_result"
    }
   ],
   "source": [
    "cleaned = df.copy()\n",
    "cleaned.dropna(inplace=True)\n",
    "cleaned.isnull().any()"
   ]
  },
  {
   "cell_type": "code",
   "execution_count": 4,
   "id": "7e797e6d",
   "metadata": {},
   "outputs": [
    {
     "name": "stderr",
     "output_type": "stream",
     "text": [
      " 96%|██████████████████████████████████████████████████████████████████████████████████████████████████████████████▊     | 6674/6987 [04:10<00:10, 31.12it/s]D:\\Users\\hp\\anaconda3\\envs\\Rohit\\lib\\site-packages\\PIL\\Image.py:992: UserWarning: Palette images with Transparency expressed in bytes should be converted to RGBA images\n",
      "  warnings.warn(\n",
      "100%|████████████████████████████████████████████████████████████████████████████████████████████████████████████████████| 6987/6987 [04:21<00:00, 26.73it/s]\n"
     ]
    }
   ],
   "source": [
    "width = 60\n",
    "height = 60\n",
    "X = []\n",
    "for i in tqdm(range(cleaned.shape[0])):\n",
    "    if i in [119, 4799, 6781, 6784, 6786]:\n",
    "        pass\n",
    "    else:\n",
    "        path = 'memotion_dataset_7k/images/'+cleaned['image_name'][i]\n",
    "        img = image.load_img(path,target_size=(width,height,3))\n",
    "        img = image.img_to_array(img)\n",
    "        img = img/255.0\n",
    "        X.append(img)\n",
    "        \n",
    "X = np.array(X)"
   ]
  },
  {
   "cell_type": "code",
   "execution_count": 5,
   "id": "00278ce6",
   "metadata": {},
   "outputs": [
    {
     "data": {
      "text/plain": [
       "(6982, 60, 60, 3)"
      ]
     },
     "execution_count": 5,
     "metadata": {},
     "output_type": "execute_result"
    }
   ],
   "source": [
    "X.shape"
   ]
  },
  {
   "cell_type": "code",
   "execution_count": 6,
   "id": "99d87575",
   "metadata": {},
   "outputs": [],
   "source": [
    "rows_to_drop = ['image_120.jpg',\n",
    "              'image_4800.jpg',\n",
    "              'image_6782.jpg',\n",
    "              'image_6785.jpg',\n",
    "              'image_6787.jpg',\n",
    "              'image_6988.jpg',\n",
    "              'image_6989.jpg',\n",
    "              'image_6990.png',\n",
    "              'image_6991.jpg',\n",
    "              'image_6992.jpg']"
   ]
  },
  {
   "cell_type": "code",
   "execution_count": 7,
   "id": "8b3ce9a2",
   "metadata": {},
   "outputs": [],
   "source": [
    "for images in rows_to_drop:\n",
    "    cleaned.drop(cleaned[cleaned['image_name'] == images].index, inplace=True)"
   ]
  },
  {
   "cell_type": "code",
   "execution_count": 8,
   "id": "6d76bc47",
   "metadata": {},
   "outputs": [],
   "source": [
    "import nlpaug\n",
    "import nlpaug.augmenter.word as naw\n",
    "from imgaug import augmenters as iaa\n",
    "def Augmentation(text, images, labels):\n",
    "    aug = naw.SynonymAug(aug_src='wordnet',aug_max=3)\n",
    "    augmented_sentences = []\n",
    "    augmented_sentences_labels = []\n",
    "    augmented_images = []\n",
    "    for i in range(0, len(text)):\n",
    "        if np.argmax(labels.iloc[i]) == 0:\n",
    "            t = 'negative'\n",
    "            temps = aug.augment(text.iloc[i],n=6)\n",
    "            for j in range(6):\n",
    "                trans = iaa.Sequential([iaa.AdditiveGaussianNoise(scale=(10,30))])\n",
    "                augmented_images.append(trans(image = images[i]))\n",
    "                image = augmented_images[j]\n",
    "        elif np.argmax(labels.iloc[i]) == 1:\n",
    "            t = 'neutral'\n",
    "            temps = aug.augment(text.iloc[i],n=2)\n",
    "            for j in range(2):\n",
    "                trans = iaa.Sequential([iaa.AdditiveGaussianNoise(scale=(10,30))])\n",
    "                augmented_images.append(trans(image = images[i]))\n",
    "                image = augmented_images[j]\n",
    "        else:\n",
    "            augmented_sentences.append(text.iloc[i])\n",
    "            augmented_sentences_labels.append('positive')\n",
    "            augmented_images.append(images[i])\n",
    "            continue\n",
    "        for sent in temps:\n",
    "            augmented_sentences.append(sent)\n",
    "            augmented_sentences_labels.append(t)\n",
    "        \n",
    "    return augmented_sentences, augmented_images, augmented_sentences_labels"
   ]
  },
  {
   "cell_type": "code",
   "execution_count": 9,
   "id": "60732e11",
   "metadata": {},
   "outputs": [],
   "source": [
    "target = cleaned['overall_sentiment']\n",
    "target = pd.get_dummies(target)\n",
    "text, images, sent = Augmentation(cleaned.text_corrected, X, target)\n",
    "cleaned = pd.DataFrame()\n",
    "cleaned['text'] = text\n",
    "cleaned['sentiment'] = sent"
   ]
  },
  {
   "cell_type": "code",
   "execution_count": 10,
   "id": "0b47abd0",
   "metadata": {},
   "outputs": [
    {
     "name": "stderr",
     "output_type": "stream",
     "text": [
      "D:\\Users\\hp\\anaconda3\\envs\\Rohit\\lib\\site-packages\\seaborn\\_decorators.py:36: FutureWarning: Pass the following variable as a keyword arg: x. From version 0.12, the only valid positional argument will be `data`, and passing other arguments without an explicit keyword will result in an error or misinterpretation.\n",
      "  warnings.warn(\n"
     ]
    },
    {
     "data": {
      "text/plain": [
       "<AxesSubplot:xlabel='sentiment', ylabel='count'>"
      ]
     },
     "execution_count": 10,
     "metadata": {},
     "output_type": "execute_result"
    },
    {
     "data": {
      "image/png": "[encoded data removed]",
      "text/plain": [
       "<Figure size 432x288 with 1 Axes>"
      ]
     },
     "metadata": {
      "needs_background": "light"
     },
     "output_type": "display_data"
    }
   ],
   "source": [
    "sns.countplot(cleaned.sentiment)"
   ]
  },
  {
   "cell_type": "code",
   "execution_count": 11,
   "id": "66f041dd",
   "metadata": {},
   "outputs": [
    {
     "data": {
      "text/plain": [
       "((12335, 2), (12335, 60, 60, 3), (12335, 3))"
      ]
     },
     "execution_count": 11,
     "metadata": {},
     "output_type": "execute_result"
    }
   ],
   "source": [
    "target = cleaned['sentiment']\n",
    "target = pd.get_dummies(target)\n",
    "cleaned.shape, np.array(images).shape,target.shape"
   ]
  },
  {
   "cell_type": "code",
   "execution_count": 12,
   "id": "5bee27da",
   "metadata": {},
   "outputs": [],
   "source": [
    "X_train, X_test, y_train, y_test = train_test_split(images, target, test_size = 0.2, stratify=target)"
   ]
  },
  {
   "cell_type": "code",
   "execution_count": 13,
   "id": "e777bd56",
   "metadata": {},
   "outputs": [],
   "source": [
    "data_augmentation = tf.keras.Sequential([\n",
    "  tf.keras.layers.experimental.preprocessing.RandomFlip('horizontal'),\n",
    "  tf.keras.layers.experimental.preprocessing.RandomContrast([.5,2]),\n",
    "  tf.keras.layers.experimental.preprocessing.RandomRotation(0.2),\n",
    "  tf.keras.layers.experimental.preprocessing.RandomZoom(0.1)\n",
    "])\n",
    "\n",
    "preprocess_input = tf.keras.applications.resnet_v2.preprocess_input\n",
    "\n",
    "rescale = tf.keras.layers.experimental.preprocessing.Rescaling(1./127.5, offset= -1)"
   ]
  },
  {
   "cell_type": "code",
   "execution_count": 55,
   "id": "170bf03a",
   "metadata": {},
   "outputs": [],
   "source": [
    "X_text_train, X_text_test, y_text_train, y_text_test = train_test_split(cleaned.text, target, test_size = 0.2, stratify=target)"
   ]
  },
  {
   "cell_type": "code",
   "execution_count": 15,
   "id": "8fb9650b",
   "metadata": {},
   "outputs": [],
   "source": [
    "base_model_1 = tf.keras.applications.ResNet50(input_shape=X[0].shape,\n",
    "                                               include_top=False,\n",
    "                                               weights='imagenet')\n",
    "# base_model_2 = tf.keras.applications.VGG16(input_shape=X[0].shape,\n",
    "#                                                include_top=False,\n",
    "#                                                weights='imagenet')"
   ]
  },
  {
   "cell_type": "code",
   "execution_count": 16,
   "id": "2b27aa4f",
   "metadata": {},
   "outputs": [],
   "source": [
    "base_model_1.trainable = False\n",
    "#base_model_2.trainable = False"
   ]
  },
  {
   "cell_type": "code",
   "execution_count": 17,
   "id": "fb433439",
   "metadata": {},
   "outputs": [],
   "source": [
    "def image_model():\n",
    "    image_input = tf.keras.Input(shape=(60, 60, 3), name = 'image_input')\n",
    "    image_layers = data_augmentation(image_input)\n",
    "    image_layers = preprocess_input(image_layers)\n",
    "    layer_bm_1 = base_model_1(image_input, training=False)\n",
    "    layer_bm_1 = Conv2D(2048, kernel_size=2,padding='valid')(layer_bm_1)\n",
    "    #layer_bm_1 = Dense(512)(layer_bm_1)\n",
    "#     layer_bm_2 = base_model_2(image_input, training=False)\n",
    "#     layer_bm_2 = Dense(512)(layer_bm_2)\n",
    "#     layers = tf.keras.layers.concatenate([layer_bm_1, layer_bm_2])\n",
    "    image_layers = GlobalAveragePooling2D()(layer_bm_1)\n",
    "    image_layers = Dropout(0.2, name = 'dropout_layer')(image_layers)\n",
    "    return image_input, image_layers"
   ]
  },
  {
   "cell_type": "code",
   "execution_count": 18,
   "id": "bcb8e84e",
   "metadata": {},
   "outputs": [],
   "source": [
    "image_input, image_layers = image_model()"
   ]
  },
  {
   "cell_type": "code",
   "execution_count": 19,
   "id": "01a63531",
   "metadata": {},
   "outputs": [],
   "source": [
    "stopwords = [ \"a\", \"about\", \"above\", \"after\", \"again\", \"against\", \"all\", \"am\", \"an\", \"and\", \"any\", \"are\", \"as\", \"at\", \"be\", \"because\", \n",
    "             \"been\", \"before\", \"being\", \"below\", \"between\", \"both\", \"but\", \"by\", \"could\", \"did\", \"do\", \"does\", \"doing\", \"down\", \"during\",\n",
    "             \"each\", \"few\", \"for\", \"from\", \"further\", \"had\", \"has\", \"have\", \"having\", \"he\", \"he'd\", \"he'll\", \"he's\", \"her\", \"here\", \n",
    "             \"here's\", \"hers\", \"herself\", \"him\", \"himself\", \"his\", \"how\", \"how's\", \"i\", \"i'd\", \"i'll\", \"i'm\", \"i've\", \"if\", \"in\", \"into\",\n",
    "             \"is\", \"it\", \"it's\", \"its\", \"itself\", \"let's\", \"me\", \"more\", \"most\", \"my\", \"myself\", \"nor\", \"of\", \"on\", \"once\", \"only\", \"or\",\n",
    "             \"other\", \"ought\", \"our\", \"ours\", \"ourselves\", \"out\", \"over\", \"own\", \"same\", \"she\", \"she'd\", \"she'll\", \"she's\", \"should\", \n",
    "             \"so\", \"some\", \"such\", \"than\", \"that\", \"that's\", \"the\", \"their\", \"theirs\", \"them\", \"themselves\", \"then\", \"there\", \"there's\",\n",
    "             \"these\", \"they\", \"they'd\", \"they'll\", \"they're\", \"they've\", \"this\", \"those\", \"through\", \"to\", \"too\", \"under\", \"until\", \"up\",\n",
    "             \"very\", \"was\", \"we\", \"we'd\", \"we'll\", \"we're\", \"we've\", \"were\", \"what\", \"what's\", \"when\", \"when's\", \"where\", \"where's\",\n",
    "             \"which\", \"while\", \"who\", \"who's\", \"whom\", \"why\", \"why's\", \"with\", \"would\", \"you\", \"you'd\", \"you'll\", \"you're\", \"you've\",\n",
    "             \"your\", \"yours\", \"yourself\", \"yourselves\" ]"
   ]
  },
  {
   "cell_type": "code",
   "execution_count": 20,
   "id": "d10c6033",
   "metadata": {},
   "outputs": [
    {
     "name": "stderr",
     "output_type": "stream",
     "text": [
      "C:\\Users\\hp\\AppData\\Local\\Temp\\ipykernel_13880\\1822268650.py:12: FutureWarning: The default value of regex will change from True to False in a future version.\n",
      "  data_without_stopwords['text'] = data_without_stopwords['text'].str.replace('[{}]'.format(string.punctuation), ' ')\n"
     ]
    }
   ],
   "source": [
    "def remove_stopwords(data):\n",
    "    data['text'] = data['text'].apply(lambda x : ' '.join([word for word in x.split() if word not in (stopwords)]))\n",
    "    return data\n",
    "\n",
    "def remove_tags(string):\n",
    "    result = re.sub('<.*?>','',string)\n",
    "    return result\n",
    " \n",
    "data_without_stopwords = []\n",
    "data_without_stopwords = remove_stopwords(cleaned)\n",
    "data_without_stopwords['text']= data_without_stopwords['text'].apply(lambda cw : remove_tags(cw))\n",
    "data_without_stopwords['text'] = data_without_stopwords['text'].str.replace('[{}]'.format(string.punctuation), ' ')"
   ]
  },
  {
   "cell_type": "code",
   "execution_count": 21,
   "id": "865099c8",
   "metadata": {},
   "outputs": [],
   "source": [
    "tokenizer = Tokenizer(num_words=10000)\n",
    "tokenizer.fit_on_texts(X_text_train)\n",
    "\n",
    "words_to_index = tokenizer.word_index"
   ]
  },
  {
   "cell_type": "code",
   "execution_count": 22,
   "id": "5c45dc6f",
   "metadata": {},
   "outputs": [],
   "source": [
    "def read_fasttext_vector(fasttext_vec):\n",
    "    with open(fasttext_vec, 'r', encoding='UTF-8') as f:\n",
    "        words = set()\n",
    "        word_to_vec_map = {}\n",
    "        for line in f:\n",
    "            w_line = line.split()\n",
    "            curr_word = w_line[0]\n",
    "            word_to_vec_map[curr_word] = np.array(w_line[1:], dtype=np.float64)\n",
    "    return word_to_vec_map"
   ]
  },
  {
   "cell_type": "code",
   "execution_count": 23,
   "id": "126349a6",
   "metadata": {},
   "outputs": [],
   "source": [
    "word_to_vec_map = read_fasttext_vector('crawl-300d-2M.vec')\n",
    "\n",
    "maxLen = 50"
   ]
  },
  {
   "cell_type": "code",
   "execution_count": 24,
   "id": "58efffe1",
   "metadata": {},
   "outputs": [],
   "source": [
    "vocab_len = len(words_to_index)\n",
    "embed_vector_len = word_to_vec_map['moon'].shape[0]\n",
    "\n",
    "emb_matrix = np.zeros((vocab_len, embed_vector_len))\n",
    "\n",
    "for word, index in words_to_index.items():\n",
    "    embedding_vector = word_to_vec_map.get(word)\n",
    "    if embedding_vector is not None:\n",
    "        emb_matrix[index-1, :] = embedding_vector\n",
    "\n",
    "embedding_layer = Embedding(input_dim=vocab_len, output_dim=embed_vector_len, input_length=maxLen, weights = [emb_matrix], trainable=False)"
   ]
  },
  {
   "cell_type": "code",
   "execution_count": 51,
   "id": "9ef1af1c",
   "metadata": {},
   "outputs": [
    {
     "name": "stdout",
     "output_type": "stream",
     "text": [
      "KerasTensor(type_spec=TensorSpec(shape=(None, 50, 300), dtype=tf.float32, name=None), name='embedding/embedding_lookup/Identity_1:0', description=\"created by layer 'embedding'\")\n",
      "WARNING:tensorflow:Layer lstm_2 will not use cuDNN kernels since it doesn't meet the criteria. It will use a generic GPU kernel as fallback when running on GPU.\n",
      "WARNING:tensorflow:Layer lstm_2 will not use cuDNN kernels since it doesn't meet the criteria. It will use a generic GPU kernel as fallback when running on GPU.\n",
      "WARNING:tensorflow:Layer lstm_2 will not use cuDNN kernels since it doesn't meet the criteria. It will use a generic GPU kernel as fallback when running on GPU.\n",
      "WARNING:tensorflow:Layer lstm_3 will not use cuDNN kernels since it doesn't meet the criteria. It will use a generic GPU kernel as fallback when running on GPU.\n",
      "WARNING:tensorflow:Layer lstm_3 will not use cuDNN kernels since it doesn't meet the criteria. It will use a generic GPU kernel as fallback when running on GPU.\n",
      "WARNING:tensorflow:Layer lstm_3 will not use cuDNN kernels since it doesn't meet the criteria. It will use a generic GPU kernel as fallback when running on GPU.\n"
     ]
    }
   ],
   "source": [
    "embedding_dim=16\n",
    "\n",
    "def text_model():\n",
    "    text_input = tf.keras.Input(shape=(maxLen,), dtype=tf.int32, name='text')\n",
    "    text_layers = embedding_layer(text_input)\n",
    "    print(text_layers)\n",
    "    \n",
    "    text_layers = tf.keras.layers.Bidirectional(tf.keras.layers.LSTM(512, activation='relu', return_sequences=True))(text_layers)\n",
    "    text_layers = tf.keras.layers.BatchNormalization()(text_layers)\n",
    "    text_layers = tf.keras.layers.Bidirectional(tf.keras.layers.LSTM(512, activation='relu', return_sequences=True))(text_layers)\n",
    "    text_layers = tf.keras.layers.BatchNormalization()(text_layers)\n",
    "#     text_layers = tf.keras.layers.Bidirectional(tf.keras.layers.GRU(512, activation='relu', return_sequences=True))(text_layers)\n",
    "#     text_layers = tf.keras.layers.BatchNormalization()(text_layers)\n",
    "\n",
    "    text_layers = tf.keras.layers.Conv1D(128, 7, padding=\"valid\", activation=\"relu\", strides=3)(text_layers)\n",
    "    \n",
    "    text_layers = tf.keras.layers.Conv1D(128, 7, padding=\"valid\", activation=\"relu\", strides=3)(text_layers)\n",
    "    \n",
    "    text_layers = tf.keras.layers.GlobalMaxPooling1D()(text_layers)\n",
    "\n",
    "    text_layers = tf.keras.layers.Dense(2048, activation=\"relu\")(text_layers)\n",
    "    text_layers = tf.keras.layers.Dropout(0.5)(text_layers)\n",
    "    return text_input, text_layers\n",
    "\n",
    "text_input, text_layers = text_model()"
   ]
  },
  {
   "cell_type": "code",
   "execution_count": 52,
   "id": "796286d7",
   "metadata": {},
   "outputs": [],
   "source": [
    "def model(layer_1, layer_2, image_input, text_input):\n",
    "    maximum = tf.keras.layers.Maximum()([layer_1, layer_2])\n",
    "    semi_final_layer = tf.keras.layers.Dense(256, activation='softmax')(maximum)\n",
    "\n",
    "    prediction_layer = tf.keras.layers.Dense(3, activation='sigmoid', name = 'memes')\n",
    "\n",
    "    output = prediction_layer(semi_final_layer)\n",
    "\n",
    "    model = tf.keras.Model(inputs = [image_input, text_input] , \n",
    "                           outputs = output)\n",
    "    return model"
   ]
  },
  {
   "cell_type": "code",
   "execution_count": 53,
   "id": "e914d66b",
   "metadata": {},
   "outputs": [
    {
     "name": "stdout",
     "output_type": "stream",
     "text": [
      "Model: \"model_2\"\n",
      "__________________________________________________________________________________________________\n",
      "Layer (type)                    Output Shape         Param #     Connected to                     \n",
      "==================================================================================================\n",
      "text (InputLayer)               [(None, 50)]         0                                            \n",
      "__________________________________________________________________________________________________\n",
      "embedding (Embedding)           (None, 50, 300)      4280700     text[0][0]                       \n",
      "__________________________________________________________________________________________________\n",
      "bidirectional_2 (Bidirectional) (None, 50, 1024)     3330048     embedding[1][0]                  \n",
      "__________________________________________________________________________________________________\n",
      "batch_normalization_2 (BatchNor (None, 50, 1024)     4096        bidirectional_2[0][0]            \n",
      "__________________________________________________________________________________________________\n",
      "bidirectional_3 (Bidirectional) (None, 50, 1024)     6295552     batch_normalization_2[0][0]      \n",
      "__________________________________________________________________________________________________\n",
      "batch_normalization_3 (BatchNor (None, 50, 1024)     4096        bidirectional_3[0][0]            \n",
      "__________________________________________________________________________________________________\n",
      "image_input (InputLayer)        [(None, 60, 60, 3)]  0                                            \n",
      "__________________________________________________________________________________________________\n",
      "conv1d_2 (Conv1D)               (None, 15, 128)      917632      batch_normalization_3[0][0]      \n",
      "__________________________________________________________________________________________________\n",
      "resnet50 (Functional)           (None, 2, 2, 2048)   23587712    image_input[0][0]                \n",
      "__________________________________________________________________________________________________\n",
      "conv1d_3 (Conv1D)               (None, 3, 128)       114816      conv1d_2[0][0]                   \n",
      "__________________________________________________________________________________________________\n",
      "conv2d (Conv2D)                 (None, 1, 1, 2048)   16779264    resnet50[0][0]                   \n",
      "__________________________________________________________________________________________________\n",
      "global_max_pooling1d_1 (GlobalM (None, 128)          0           conv1d_3[0][0]                   \n",
      "__________________________________________________________________________________________________\n",
      "global_average_pooling2d (Globa (None, 2048)         0           conv2d[0][0]                     \n",
      "__________________________________________________________________________________________________\n",
      "dense_2 (Dense)                 (None, 2048)         264192      global_max_pooling1d_1[0][0]     \n",
      "__________________________________________________________________________________________________\n",
      "dropout_layer (Dropout)         (None, 2048)         0           global_average_pooling2d[0][0]   \n",
      "__________________________________________________________________________________________________\n",
      "dropout_1 (Dropout)             (None, 2048)         0           dense_2[0][0]                    \n",
      "__________________________________________________________________________________________________\n",
      "maximum_1 (Maximum)             (None, 2048)         0           dropout_layer[0][0]              \n",
      "                                                                 dropout_1[0][0]                  \n",
      "__________________________________________________________________________________________________\n",
      "dense_3 (Dense)                 (None, 256)          524544      maximum_1[0][0]                  \n",
      "__________________________________________________________________________________________________\n",
      "memes (Dense)                   (None, 3)            771         dense_3[0][0]                    \n",
      "==================================================================================================\n",
      "Total params: 56,103,423\n",
      "Trainable params: 28,230,915\n",
      "Non-trainable params: 27,872,508\n",
      "__________________________________________________________________________________________________\n"
     ]
    }
   ],
   "source": [
    "model = model(image_layers, text_layers, image_input, text_input)\n",
    "model.summary()"
   ]
  },
  {
   "cell_type": "code",
   "execution_count": 56,
   "id": "7c82c1a6",
   "metadata": {},
   "outputs": [],
   "source": [
    "X_text_train = tokenizer.texts_to_sequences(X_text_train)\n",
    "X_text_train = pad_sequences(X_text_train, maxlen=maxLen, padding='post')"
   ]
  },
  {
   "cell_type": "code",
   "execution_count": 57,
   "id": "27781e8b",
   "metadata": {},
   "outputs": [],
   "source": [
    "X_train = tf.stack(X_train)\n",
    "X_text_train = tf.stack(X_text_train)\n",
    "y_train = tf.stack(y_train)"
   ]
  },
  {
   "cell_type": "code",
   "execution_count": 58,
   "id": "fcbd8992",
   "metadata": {},
   "outputs": [
    {
     "data": {
      "text/plain": [
       "TensorShape([9868, 50])"
      ]
     },
     "execution_count": 58,
     "metadata": {},
     "output_type": "execute_result"
    }
   ],
   "source": [
    "X_text_train.shape"
   ]
  },
  {
   "cell_type": "code",
   "execution_count": 59,
   "id": "4ce813cb",
   "metadata": {},
   "outputs": [],
   "source": [
    "import cv2\n",
    "import matplotlib.pyplot as plt\n",
    "from scipy.ndimage import zoom\n",
    "img = []\n",
    "txt = []\n",
    "for (i,j) in zip(X_train,X_text_train):\n",
    "    img.append(i)\n",
    "    txt.append(j)\n",
    "#X = np.expand_dims(img, axis=0).astype(np.float32)\n",
    "#X = preprocess_input(X)"
   ]
  },
  {
   "cell_type": "code",
   "execution_count": 62,
   "id": "5e49c73f",
   "metadata": {},
   "outputs": [],
   "source": [
    "conv_output = model.get_layer(\"maximum\").output\n",
    "pred_ouptut = model.get_layer(\"memes\").output"
   ]
  },
  {
   "cell_type": "code",
   "execution_count": 63,
   "id": "7a95ddb5",
   "metadata": {},
   "outputs": [],
   "source": [
    "from tensorflow.keras.models import Model\n",
    "mod = Model(model.input, outputs=[conv_output, pred_ouptut])"
   ]
  },
  {
   "cell_type": "code",
   "execution_count": 64,
   "id": "aebe5c2f",
   "metadata": {},
   "outputs": [],
   "source": [
    "im =tf.stack(img)\n",
    "txt = tf.stack(txt)\n",
    "# txt = tokenizer.texts_to_sequences(txt.numpy())\n",
    "# txt = np.expand_dims(txt, axis=0)\n",
    "# im = np.expand_dims(img,axis=0)"
   ]
  },
  {
   "cell_type": "code",
   "execution_count": 65,
   "id": "ed42c6f3",
   "metadata": {},
   "outputs": [
    {
     "data": {
      "text/plain": [
       "TensorShape([9868, 60, 60, 3])"
      ]
     },
     "execution_count": 65,
     "metadata": {},
     "output_type": "execute_result"
    }
   ],
   "source": [
    "im.shape"
   ]
  },
  {
   "cell_type": "code",
   "execution_count": 66,
   "id": "d9ac6902",
   "metadata": {},
   "outputs": [],
   "source": [
    "conv = []\n",
    "pred = []\n",
    "for (i,j) in zip(im,txt):\n",
    "    i = np.expand_dims(i, axis=0)\n",
    "    j = np.expand_dims(j,axis=0)\n",
    "    c, p = mod.predict(x = {\"image_input\": i, \"text\": j})\n",
    "    conv.append(c)\n",
    "    pred.append(p)\n",
    "# decode_predictions(pred)"
   ]
  },
  {
   "cell_type": "code",
   "execution_count": 67,
   "id": "926cdb5b",
   "metadata": {},
   "outputs": [],
   "source": [
    "from sklearn.manifold import TSNE\n",
    "from numpy import reshape\n",
    "import seaborn as sns\n",
    "import pandas as pd "
   ]
  },
  {
   "cell_type": "code",
   "execution_count": 68,
   "id": "17baac66",
   "metadata": {},
   "outputs": [
    {
     "data": {
      "text/plain": [
       "(9868, 1, 2048)"
      ]
     },
     "execution_count": 68,
     "metadata": {},
     "output_type": "execute_result"
    }
   ],
   "source": [
    "np.array(conv).shape"
   ]
  },
  {
   "cell_type": "code",
   "execution_count": 69,
   "id": "c89e92dc",
   "metadata": {},
   "outputs": [],
   "source": [
    "conv = reshape(conv, (9868, 2048))"
   ]
  },
  {
   "cell_type": "code",
   "execution_count": 70,
   "id": "94980afe",
   "metadata": {},
   "outputs": [
    {
     "name": "stderr",
     "output_type": "stream",
     "text": [
      "D:\\Users\\hp\\anaconda3\\envs\\Rohit\\lib\\site-packages\\sklearn\\manifold\\_t_sne.py:795: FutureWarning: The default initialization in TSNE will change from 'random' to 'pca' in 1.2.\n",
      "  warnings.warn(\n",
      "D:\\Users\\hp\\anaconda3\\envs\\Rohit\\lib\\site-packages\\sklearn\\manifold\\_t_sne.py:805: FutureWarning: The default learning rate in TSNE will change from 200.0 to 'auto' in 1.2.\n",
      "  warnings.warn(\n"
     ]
    },
    {
     "name": "stdout",
     "output_type": "stream",
     "text": [
      "[t-SNE] Computing 91 nearest neighbors...\n",
      "[t-SNE] Indexed 9868 samples in 0.016s...\n",
      "[t-SNE] Computed neighbors for 9868 samples in 3.903s...\n",
      "[t-SNE] Computed conditional probabilities for sample 1000 / 9868\n",
      "[t-SNE] Computed conditional probabilities for sample 2000 / 9868\n",
      "[t-SNE] Computed conditional probabilities for sample 3000 / 9868\n",
      "[t-SNE] Computed conditional probabilities for sample 4000 / 9868\n",
      "[t-SNE] Computed conditional probabilities for sample 5000 / 9868\n",
      "[t-SNE] Computed conditional probabilities for sample 6000 / 9868\n",
      "[t-SNE] Computed conditional probabilities for sample 7000 / 9868\n",
      "[t-SNE] Computed conditional probabilities for sample 8000 / 9868\n",
      "[t-SNE] Computed conditional probabilities for sample 9000 / 9868\n",
      "[t-SNE] Computed conditional probabilities for sample 9868 / 9868\n",
      "[t-SNE] Mean sigma: 1.003380\n",
      "[t-SNE] KL divergence after 250 iterations with early exaggeration: 85.653809\n",
      "[t-SNE] KL divergence after 1000 iterations: 2.673516\n"
     ]
    }
   ],
   "source": [
    "tsne = TSNE(n_components=2, verbose=1, random_state=123)\n",
    "z = tsne.fit_transform(conv) "
   ]
  },
  {
   "cell_type": "code",
   "execution_count": 71,
   "id": "30e7f9d6",
   "metadata": {},
   "outputs": [
    {
     "data": {
      "text/plain": [
       "[Text(0.5, 1.0, 'T-SNE projection')]"
      ]
     },
     "execution_count": 71,
     "metadata": {},
     "output_type": "execute_result"
    },
    {
     "data": {
      "image/png": "[encoded data removed]",
      "text/plain": [
       "<Figure size 432x288 with 1 Axes>"
      ]
     },
     "metadata": {
      "needs_background": "light"
     },
     "output_type": "display_data"
    }
   ],
   "source": [
    "df = pd.DataFrame()\n",
    "df[\"y\"] = pred\n",
    "df[\"comp-1\"] = z[:,0]\n",
    "df[\"comp-2\"] = z[:,1]\n",
    "\n",
    "sns.scatterplot(x=\"comp-1\", y=\"comp-2\",\n",
    "                palette=sns.color_palette(\"hls\", 3),\n",
    "                data=df).set(title=\"T-SNE projection\") "
   ]
  },
  {
   "cell_type": "code",
   "execution_count": 72,
   "id": "28496fff",
   "metadata": {},
   "outputs": [],
   "source": [
    "import os\n",
    "# Define the checkpoint directory to store the checkpoints\n",
    "checkpoint_dir = './training_checkpoints'\n",
    "\n",
    "# Name of the checkpoint files\n",
    "checkpoint_prefix = os.path.join(checkpoint_dir, \"ckpt_{epoch}\")"
   ]
  },
  {
   "cell_type": "code",
   "execution_count": 73,
   "id": "812e106d",
   "metadata": {},
   "outputs": [],
   "source": [
    "# Function for decaying the learning rate.\n",
    "# You can define any decay function you need.\n",
    "def decay(epoch):\n",
    "    if epoch < 3:\n",
    "        return 1e-1\n",
    "    elif epoch >= 3 and epoch < 5:\n",
    "        return 1e-2\n",
    "    else:\n",
    "        return 1e-5"
   ]
  },
  {
   "cell_type": "code",
   "execution_count": 74,
   "id": "ffb29aa8",
   "metadata": {},
   "outputs": [],
   "source": [
    "# Callback for printing the LR at the end of each epoch.\n",
    "class PrintLR(tf.keras.callbacks.Callback):\n",
    "  def on_epoch_end(self, epoch, logs=None):\n",
    "    print('\\nLearning rate for epoch {} is {}'.format(epoch + 1,\n",
    "                                                      model.optimizer.lr.numpy()))\n",
    "\n",
    "callbacks = [\n",
    "    tf.keras.callbacks.TensorBoard(log_dir='./logs'),\n",
    "    tf.keras.callbacks.ModelCheckpoint(filepath=checkpoint_prefix,\n",
    "                                       save_weights_only=True),\n",
    "    tf.keras.callbacks.LearningRateScheduler(decay),\n",
    "    PrintLR()\n",
    "]"
   ]
  },
  {
   "cell_type": "code",
   "execution_count": 75,
   "id": "a3b172d1",
   "metadata": {},
   "outputs": [
    {
     "data": {
      "text/plain": [
       "TensorShape([9868, 3])"
      ]
     },
     "execution_count": 75,
     "metadata": {},
     "output_type": "execute_result"
    }
   ],
   "source": [
    "y_train.shape"
   ]
  },
  {
   "cell_type": "code",
   "execution_count": 76,
   "id": "d52febc5",
   "metadata": {},
   "outputs": [
    {
     "data": {
      "text/plain": [
       "((9868, 60, 60, 3), TensorShape([9868, 50]), TensorShape([9868, 3]))"
      ]
     },
     "execution_count": 76,
     "metadata": {},
     "output_type": "execute_result"
    }
   ],
   "source": [
    "np.array(X_train).shape,X_text_train.shape, y_train.shape"
   ]
  },
  {
   "cell_type": "code",
   "execution_count": 77,
   "id": "7a0d53b4",
   "metadata": {},
   "outputs": [
    {
     "name": "stdout",
     "output_type": "stream",
     "text": [
      "Epoch 1/50\n",
      "155/155 [==============================] - 89s 481ms/step - loss: 0.9637 - accuracy: 0.6782\n",
      "Epoch 2/50\n",
      "155/155 [==============================] - 74s 478ms/step - loss: 0.8622 - accuracy: 0.6930\n",
      "Epoch 3/50\n",
      "155/155 [==============================] - 74s 478ms/step - loss: 0.7856 - accuracy: 0.6930\n",
      "Epoch 4/50\n",
      "155/155 [==============================] - 75s 481ms/step - loss: 0.7265 - accuracy: 0.6930\n",
      "Epoch 5/50\n",
      "155/155 [==============================] - 75s 483ms/step - loss: 0.6807 - accuracy: 0.6930\n",
      "Epoch 6/50\n",
      "155/155 [==============================] - 76s 491ms/step - loss: 0.6449 - accuracy: 0.6929\n",
      "Epoch 7/50\n",
      "155/155 [==============================] - 76s 491ms/step - loss: 0.6163 - accuracy: 0.6930\n",
      "Epoch 8/50\n",
      "155/155 [==============================] - 76s 489ms/step - loss: 0.5935 - accuracy: 0.6930\n",
      "Epoch 9/50\n",
      "155/155 [==============================] - 75s 482ms/step - loss: 0.5751 - accuracy: 0.6930\n",
      "Epoch 10/50\n",
      "155/155 [==============================] - 76s 488ms/step - loss: 0.5600 - accuracy: 0.6930\n",
      "Epoch 11/50\n",
      "155/155 [==============================] - 76s 491ms/step - loss: 0.5475 - accuracy: 0.6930\n",
      "Epoch 12/50\n",
      "155/155 [==============================] - 78s 503ms/step - loss: 0.5370 - accuracy: 0.6930\n",
      "Epoch 13/50\n",
      "155/155 [==============================] - 77s 495ms/step - loss: 0.5280 - accuracy: 0.6930\n",
      "Epoch 14/50\n",
      "155/155 [==============================] - 76s 488ms/step - loss: 0.5205 - accuracy: 0.6930\n",
      "Epoch 15/50\n",
      "155/155 [==============================] - 75s 486ms/step - loss: 0.5140 - accuracy: 0.6930\n",
      "Epoch 16/50\n",
      "155/155 [==============================] - 76s 491ms/step - loss: 0.5083 - accuracy: 0.6930\n",
      "Epoch 17/50\n",
      "155/155 [==============================] - 75s 486ms/step - loss: 0.5035 - accuracy: 0.6930\n",
      "Epoch 18/50\n",
      "155/155 [==============================] - 76s 490ms/step - loss: 0.4991 - accuracy: 0.6930\n",
      "Epoch 19/50\n",
      "155/155 [==============================] - 76s 492ms/step - loss: 0.4954 - accuracy: 0.6930\n",
      "Epoch 20/50\n",
      "155/155 [==============================] - 77s 496ms/step - loss: 0.4921 - accuracy: 0.6930\n",
      "Epoch 21/50\n",
      "155/155 [==============================] - 76s 488ms/step - loss: 0.4891 - accuracy: 0.6930\n",
      "Epoch 22/50\n",
      "155/155 [==============================] - 77s 494ms/step - loss: 0.4864 - accuracy: 0.6930\n",
      "Epoch 23/50\n",
      "155/155 [==============================] - 76s 490ms/step - loss: 0.4841 - accuracy: 0.6930\n",
      "Epoch 24/50\n",
      "155/155 [==============================] - 76s 491ms/step - loss: 0.4820 - accuracy: 0.6930\n",
      "Epoch 25/50\n",
      "155/155 [==============================] - 74s 475ms/step - loss: 0.4800 - accuracy: 0.6930\n",
      "Epoch 26/50\n",
      "155/155 [==============================] - 74s 480ms/step - loss: 0.4783 - accuracy: 0.6930\n",
      "Epoch 27/50\n",
      "155/155 [==============================] - 73s 473ms/step - loss: 0.4767 - accuracy: 0.6930\n",
      "Epoch 28/50\n",
      "155/155 [==============================] - 74s 475ms/step - loss: 0.4753 - accuracy: 0.6930\n",
      "Epoch 29/50\n",
      "155/155 [==============================] - 74s 477ms/step - loss: 0.4740 - accuracy: 0.6930\n",
      "Epoch 30/50\n",
      "155/155 [==============================] - 74s 475ms/step - loss: 0.4728 - accuracy: 0.6930\n",
      "Epoch 31/50\n",
      "155/155 [==============================] - 74s 475ms/step - loss: 0.4717 - accuracy: 0.6930\n",
      "Epoch 32/50\n",
      "155/155 [==============================] - 74s 478ms/step - loss: 0.4708 - accuracy: 0.6930\n",
      "Epoch 33/50\n",
      "155/155 [==============================] - 73s 473ms/step - loss: 0.4698 - accuracy: 0.6930\n",
      "Epoch 34/50\n",
      "155/155 [==============================] - 74s 476ms/step - loss: 0.4689 - accuracy: 0.6930\n",
      "Epoch 35/50\n",
      "155/155 [==============================] - 74s 475ms/step - loss: 0.4681 - accuracy: 0.6930\n",
      "Epoch 36/50\n",
      "155/155 [==============================] - 73s 472ms/step - loss: 0.4674 - accuracy: 0.6930\n",
      "Epoch 37/50\n",
      "155/155 [==============================] - 73s 471ms/step - loss: 0.4667 - accuracy: 0.6930\n",
      "Epoch 38/50\n",
      "155/155 [==============================] - 73s 474ms/step - loss: 0.4661 - accuracy: 0.6930\n",
      "Epoch 39/50\n",
      "155/155 [==============================] - 73s 471ms/step - loss: 0.4655 - accuracy: 0.6930\n",
      "Epoch 40/50\n",
      "155/155 [==============================] - 74s 474ms/step - loss: 0.4651 - accuracy: 0.6930\n",
      "Epoch 41/50\n",
      "155/155 [==============================] - 73s 473ms/step - loss: 0.4645 - accuracy: 0.6930\n",
      "Epoch 42/50\n",
      "155/155 [==============================] - 73s 470ms/step - loss: 0.4641 - accuracy: 0.6930\n",
      "Epoch 43/50\n",
      "155/155 [==============================] - 73s 473ms/step - loss: 0.4637 - accuracy: 0.6930\n",
      "Epoch 44/50\n",
      "155/155 [==============================] - 77s 497ms/step - loss: 0.4632 - accuracy: 0.6930\n",
      "Epoch 45/50\n",
      "155/155 [==============================] - 76s 489ms/step - loss: 0.4630 - accuracy: 0.6930\n",
      "Epoch 46/50\n",
      "155/155 [==============================] - 76s 490ms/step - loss: 0.4626 - accuracy: 0.6930\n",
      "Epoch 47/50\n",
      "155/155 [==============================] - 76s 488ms/step - loss: 0.4623 - accuracy: 0.6930\n",
      "Epoch 48/50\n",
      "155/155 [==============================] - 76s 489ms/step - loss: 0.4620 - accuracy: 0.6930\n",
      "Epoch 49/50\n",
      "155/155 [==============================] - 76s 488ms/step - loss: 0.4617 - accuracy: 0.6930\n",
      "Epoch 50/50\n",
      "155/155 [==============================] - 76s 488ms/step - loss: 0.4615 - accuracy: 0.6930\n"
     ]
    }
   ],
   "source": [
    "model.compile(optimizer='adam',\n",
    "              loss = tf.keras.losses.CategoricalCrossentropy(),\n",
    "              metrics='accuracy')\n",
    "\n",
    "history = model.fit(x = {\"image_input\": X_train, \"text\": X_text_train},\n",
    "                    y = y_train,\n",
    "                    batch_size=64,\n",
    "                    epochs=50\n",
    "                   )"
   ]
  },
  {
   "cell_type": "code",
   "execution_count": 78,
   "id": "7efbbe6e",
   "metadata": {},
   "outputs": [
    {
     "name": "stderr",
     "output_type": "stream",
     "text": [
      "No artists with labels found to put in legend.  Note that artists whose label start with an underscore are ignored when legend() is called with no argument.\n"
     ]
    },
    {
     "data": {
      "image/png": "[encoded data removed]",
      "text/plain": [
       "<Figure size 1080x360 with 2 Axes>"
      ]
     },
     "metadata": {
      "needs_background": "light"
     },
     "output_type": "display_data"
    }
   ],
   "source": [
    "fig, axes = plt.subplots(1,2, figsize=(15, 5))\n",
    "fig.tight_layout(pad=5.0)\n",
    "\n",
    "axes[0].plot(pd.DataFrame(history.history).loss)\n",
    "axes[0].set_xlabel('No of Epochs')\n",
    "axes[0].set_ylabel('Loss')\n",
    "axes[0].set_title('Loss vs Epochs')\n",
    "\n",
    "axes[1].plot(pd.DataFrame(history.history).accuracy)\n",
    "axes[1].set_xlabel('No of Epochs')\n",
    "axes[1].set_ylabel('Loss')\n",
    "axes[1].set_title('Accuracy vs Epochs')\n",
    "axes[1].legend()\n",
    "plt.show()"
   ]
  },
  {
   "cell_type": "code",
   "execution_count": 79,
   "id": "bc3c9623",
   "metadata": {},
   "outputs": [],
   "source": [
    "X_text_test = tokenizer.texts_to_sequences(X_text_test)\n",
    "X_text_test = pad_sequences(X_text_test, maxlen=maxLen, padding='post')"
   ]
  },
  {
   "cell_type": "code",
   "execution_count": 80,
   "id": "b5e37c5a",
   "metadata": {},
   "outputs": [],
   "source": [
    "X_test = tf.stack(X_test)\n",
    "X_text_test = tf.stack(X_text_test)\n",
    "y_test = tf.stack(y_test)"
   ]
  },
  {
   "cell_type": "code",
   "execution_count": 81,
   "id": "fc3bd007",
   "metadata": {},
   "outputs": [
    {
     "name": "stdout",
     "output_type": "stream",
     "text": [
      "78/78 [==============================] - 10s 87ms/step - loss: nan - accuracy: 0.3069\n"
     ]
    }
   ],
   "source": [
    "eval_ = model.evaluate(x = {\"image_input\": X_test, \"text\": X_text_test},\n",
    "                    y = y_test,\n",
    "                    batch_size=32,\n",
    "                    verbose=1\n",
    "                   )"
   ]
  },
  {
   "cell_type": "code",
   "execution_count": 82,
   "id": "2abfcc35",
   "metadata": {},
   "outputs": [
    {
     "name": "stdout",
     "output_type": "stream",
     "text": [
      "              precision    recall  f1-score   support\n",
      "\n",
      "           0       0.31      1.00      0.47       757\n",
      "           1       0.00      0.00      0.00       879\n",
      "           2       0.00      0.00      0.00       831\n",
      "\n",
      "    accuracy                           0.31      2467\n",
      "   macro avg       0.10      0.33      0.16      2467\n",
      "weighted avg       0.09      0.31      0.14      2467\n",
      "\n"
     ]
    },
    {
     "name": "stderr",
     "output_type": "stream",
     "text": [
      "D:\\Users\\hp\\anaconda3\\envs\\Rohit\\lib\\site-packages\\sklearn\\metrics\\_classification.py:1327: UndefinedMetricWarning: Precision and F-score are ill-defined and being set to 0.0 in labels with no predicted samples. Use `zero_division` parameter to control this behavior.\n",
      "  _warn_prf(average, modifier, msg_start, len(result))\n",
      "D:\\Users\\hp\\anaconda3\\envs\\Rohit\\lib\\site-packages\\sklearn\\metrics\\_classification.py:1327: UndefinedMetricWarning: Precision and F-score are ill-defined and being set to 0.0 in labels with no predicted samples. Use `zero_division` parameter to control this behavior.\n",
      "  _warn_prf(average, modifier, msg_start, len(result))\n",
      "D:\\Users\\hp\\anaconda3\\envs\\Rohit\\lib\\site-packages\\sklearn\\metrics\\_classification.py:1327: UndefinedMetricWarning: Precision and F-score are ill-defined and being set to 0.0 in labels with no predicted samples. Use `zero_division` parameter to control this behavior.\n",
      "  _warn_prf(average, modifier, msg_start, len(result))\n"
     ]
    }
   ],
   "source": [
    "from sklearn.metrics import f1_score, classification_report\n",
    "prediction = model.predict(x = {\"image_input\": X_test, \"text\": X_text_test})\n",
    "prediction = np.array(prediction)\n",
    "print(classification_report(np.argmax(y_test, axis = 1), np.argmax(prediction, axis = 1)))"
   ]
  },
  {
   "cell_type": "code",
   "execution_count": null,
   "id": "f2eae552",
   "metadata": {},
   "outputs": [],
   "source": []
  }
 ],
 "metadata": {
  "kernelspec": {
   "display_name": "Python 3 (ipykernel)",
   "language": "python",
   "name": "python3"
  },
  "language_info": {
   "codemirror_mode": {
    "name": "ipython",
    "version": 3
   },
   "file_extension": ".py",
   "mimetype": "text/x-python",
   "name": "python",
   "nbconvert_exporter": "python",
   "pygments_lexer": "ipython3",
   "version": "3.8.0"
  }
 },
 "nbformat": 4,
 "nbformat_minor": 5
}
