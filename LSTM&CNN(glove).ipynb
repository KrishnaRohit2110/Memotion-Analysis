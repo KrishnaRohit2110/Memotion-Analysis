{
 "cells": [
  {
   "cell_type": "code",
   "execution_count": 1,
   "id": "23fc4bc4",
   "metadata": {},
   "outputs": [],
   "source": [
    "from tensorflow.keras.datasets import imdb\n",
    "import pandas as pd\n",
    "import numpy as np\n",
    "from tensorflow.keras.layers import LSTM, Activation, Dropout, Dense, Input, Conv1D, MaxPooling1D, GlobalMaxPooling1D, Bidirectional\n",
    "from keras.layers.embeddings import Embedding\n",
    "from tensorflow.keras.models import Model\n",
    "import string\n",
    "import re\n",
    "from tensorflow.keras.preprocessing.text import Tokenizer\n",
    "from sklearn.preprocessing import LabelBinarizer\n",
    "from tensorflow.keras.preprocessing.sequence import pad_sequences\n",
    "import keras\n",
    "from sklearn.model_selection import train_test_split"
   ]
  },
  {
   "cell_type": "code",
   "execution_count": 31,
   "id": "6a084fb7",
   "metadata": {},
   "outputs": [],
   "source": [
    "from tensorflow.keras.datasets import imdb\n",
    "import pandas as pd\n",
    "import numpy as np\n",
    "from tensorflow.keras.layers import LSTM, Activation, Dropout, Dense, Input, Conv1D, MaxPooling1D, GlobalMaxPooling1D, Bidirectional\n",
    "from keras.layers.embeddings import Embedding\n",
    "from tensorflow.keras.models import Model\n",
    "import string\n",
    "import re\n",
    "from tensorflow.keras.preprocessing.text import Tokenizer\n",
    "from sklearn.preprocessing import LabelBinarizer\n",
    "from tensorflow.keras.preprocessing.sequence import pad_sequences\n",
    "import keras\n",
    "from sklearn.model_selection import train_test_split"
   ]
  },
  {
   "cell_type": "code",
   "execution_count": 2,
   "id": "89b53cd6",
   "metadata": {},
   "outputs": [
    {
     "data": {
      "text/html": [
       "<div>\n",
       "<style scoped>\n",
       "    .dataframe tbody tr th:only-of-type {\n",
       "        vertical-align: middle;\n",
       "    }\n",
       "\n",
       "    .dataframe tbody tr th {\n",
       "        vertical-align: top;\n",
       "    }\n",
       "\n",
       "    .dataframe thead th {\n",
       "        text-align: right;\n",
       "    }\n",
       "</style>\n",
       "<table border=\"1\" class=\"dataframe\">\n",
       "  <thead>\n",
       "    <tr style=\"text-align: right;\">\n",
       "      <th></th>\n",
       "      <th>Unnamed: 0</th>\n",
       "      <th>image_name</th>\n",
       "      <th>text_ocr</th>\n",
       "      <th>text_corrected</th>\n",
       "      <th>humour</th>\n",
       "      <th>sarcasm</th>\n",
       "      <th>offensive</th>\n",
       "      <th>motivational</th>\n",
       "      <th>overall_sentiment</th>\n",
       "    </tr>\n",
       "  </thead>\n",
       "  <tbody>\n",
       "    <tr>\n",
       "      <th>0</th>\n",
       "      <td>0</td>\n",
       "      <td>image_1.jpg</td>\n",
       "      <td>LOOK THERE MY FRIEND LIGHTYEAR NOW ALL SOHALIK...</td>\n",
       "      <td>LOOK THERE MY FRIEND LIGHTYEAR NOW ALL SOHALIK...</td>\n",
       "      <td>hilarious</td>\n",
       "      <td>general</td>\n",
       "      <td>not_offensive</td>\n",
       "      <td>not_motivational</td>\n",
       "      <td>positive</td>\n",
       "    </tr>\n",
       "    <tr>\n",
       "      <th>1</th>\n",
       "      <td>1</td>\n",
       "      <td>image_2.jpeg</td>\n",
       "      <td>The best of #10 YearChallenge! Completed in le...</td>\n",
       "      <td>The best of #10 YearChallenge! Completed in le...</td>\n",
       "      <td>not_funny</td>\n",
       "      <td>general</td>\n",
       "      <td>not_offensive</td>\n",
       "      <td>motivational</td>\n",
       "      <td>positive</td>\n",
       "    </tr>\n",
       "    <tr>\n",
       "      <th>2</th>\n",
       "      <td>2</td>\n",
       "      <td>image_3.JPG</td>\n",
       "      <td>Sam Thorne @Strippin ( Follow Follow Saw every...</td>\n",
       "      <td>Sam Thorne @Strippin ( Follow Follow Saw every...</td>\n",
       "      <td>very_funny</td>\n",
       "      <td>not_sarcastic</td>\n",
       "      <td>not_offensive</td>\n",
       "      <td>not_motivational</td>\n",
       "      <td>positive</td>\n",
       "    </tr>\n",
       "    <tr>\n",
       "      <th>3</th>\n",
       "      <td>3</td>\n",
       "      <td>image_4.png</td>\n",
       "      <td>10 Year Challenge - Sweet Dee Edition</td>\n",
       "      <td>10 Year Challenge - Sweet Dee Edition</td>\n",
       "      <td>very_funny</td>\n",
       "      <td>twisted_meaning</td>\n",
       "      <td>very_offensive</td>\n",
       "      <td>motivational</td>\n",
       "      <td>positive</td>\n",
       "    </tr>\n",
       "    <tr>\n",
       "      <th>4</th>\n",
       "      <td>4</td>\n",
       "      <td>image_5.png</td>\n",
       "      <td>10 YEAR CHALLENGE WITH NO FILTER 47 Hilarious ...</td>\n",
       "      <td>10 YEAR CHALLENGE WITH NO FILTER 47 Hilarious ...</td>\n",
       "      <td>hilarious</td>\n",
       "      <td>very_twisted</td>\n",
       "      <td>very_offensive</td>\n",
       "      <td>not_motivational</td>\n",
       "      <td>neutral</td>\n",
       "    </tr>\n",
       "  </tbody>\n",
       "</table>\n",
       "</div>"
      ],
      "text/plain": [
       "   Unnamed: 0    image_name  \\\n",
       "0           0   image_1.jpg   \n",
       "1           1  image_2.jpeg   \n",
       "2           2   image_3.JPG   \n",
       "3           3   image_4.png   \n",
       "4           4   image_5.png   \n",
       "\n",
       "                                            text_ocr  \\\n",
       "0  LOOK THERE MY FRIEND LIGHTYEAR NOW ALL SOHALIK...   \n",
       "1  The best of #10 YearChallenge! Completed in le...   \n",
       "2  Sam Thorne @Strippin ( Follow Follow Saw every...   \n",
       "3              10 Year Challenge - Sweet Dee Edition   \n",
       "4  10 YEAR CHALLENGE WITH NO FILTER 47 Hilarious ...   \n",
       "\n",
       "                                      text_corrected      humour  \\\n",
       "0  LOOK THERE MY FRIEND LIGHTYEAR NOW ALL SOHALIK...   hilarious   \n",
       "1  The best of #10 YearChallenge! Completed in le...   not_funny   \n",
       "2  Sam Thorne @Strippin ( Follow Follow Saw every...  very_funny   \n",
       "3              10 Year Challenge - Sweet Dee Edition  very_funny   \n",
       "4  10 YEAR CHALLENGE WITH NO FILTER 47 Hilarious ...   hilarious   \n",
       "\n",
       "           sarcasm       offensive      motivational overall_sentiment  \n",
       "0          general   not_offensive  not_motivational          positive  \n",
       "1          general   not_offensive      motivational          positive  \n",
       "2    not_sarcastic   not_offensive  not_motivational          positive  \n",
       "3  twisted_meaning  very_offensive      motivational          positive  \n",
       "4     very_twisted  very_offensive  not_motivational           neutral  "
      ]
     },
     "execution_count": 2,
     "metadata": {},
     "output_type": "execute_result"
    }
   ],
   "source": [
    "data = pd.read_csv('memotion_dataset_7k/labels.csv')\n",
    "data.head()"
   ]
  },
  {
   "cell_type": "code",
   "execution_count": 3,
   "id": "e1c25520",
   "metadata": {},
   "outputs": [
    {
     "data": {
      "text/html": [
       "<div>\n",
       "<style scoped>\n",
       "    .dataframe tbody tr th:only-of-type {\n",
       "        vertical-align: middle;\n",
       "    }\n",
       "\n",
       "    .dataframe tbody tr th {\n",
       "        vertical-align: top;\n",
       "    }\n",
       "\n",
       "    .dataframe thead th {\n",
       "        text-align: right;\n",
       "    }\n",
       "</style>\n",
       "<table border=\"1\" class=\"dataframe\">\n",
       "  <thead>\n",
       "    <tr style=\"text-align: right;\">\n",
       "      <th></th>\n",
       "      <th>text</th>\n",
       "      <th>sentiment</th>\n",
       "    </tr>\n",
       "  </thead>\n",
       "  <tbody>\n",
       "    <tr>\n",
       "      <th>0</th>\n",
       "      <td>LOOK THERE MY FRIEND LIGHTYEAR NOW ALL SOHALIK...</td>\n",
       "      <td>positive</td>\n",
       "    </tr>\n",
       "    <tr>\n",
       "      <th>1</th>\n",
       "      <td>The best of #10 YearChallenge! Completed in le...</td>\n",
       "      <td>positive</td>\n",
       "    </tr>\n",
       "    <tr>\n",
       "      <th>2</th>\n",
       "      <td>Sam Thorne @Strippin ( Follow Follow Saw every...</td>\n",
       "      <td>positive</td>\n",
       "    </tr>\n",
       "    <tr>\n",
       "      <th>3</th>\n",
       "      <td>10 Year Challenge - Sweet Dee Edition</td>\n",
       "      <td>positive</td>\n",
       "    </tr>\n",
       "    <tr>\n",
       "      <th>4</th>\n",
       "      <td>10 YEAR CHALLENGE WITH NO FILTER 47 Hilarious ...</td>\n",
       "      <td>neutral</td>\n",
       "    </tr>\n",
       "  </tbody>\n",
       "</table>\n",
       "</div>"
      ],
      "text/plain": [
       "                                                text sentiment\n",
       "0  LOOK THERE MY FRIEND LIGHTYEAR NOW ALL SOHALIK...  positive\n",
       "1  The best of #10 YearChallenge! Completed in le...  positive\n",
       "2  Sam Thorne @Strippin ( Follow Follow Saw every...  positive\n",
       "3              10 Year Challenge - Sweet Dee Edition  positive\n",
       "4  10 YEAR CHALLENGE WITH NO FILTER 47 Hilarious ...   neutral"
      ]
     },
     "execution_count": 3,
     "metadata": {},
     "output_type": "execute_result"
    }
   ],
   "source": [
    "meme_text = pd.DataFrame()\n",
    "meme_text['text'] = data.text_corrected\n",
    "meme_text['sentiment'] = data.overall_sentiment\n",
    "meme_text.head()"
   ]
  },
  {
   "cell_type": "code",
   "execution_count": 4,
   "id": "bf4907af",
   "metadata": {},
   "outputs": [
    {
     "data": {
      "text/plain": [
       "text         False\n",
       "sentiment    False\n",
       "dtype: bool"
      ]
     },
     "execution_count": 4,
     "metadata": {},
     "output_type": "execute_result"
    }
   ],
   "source": [
    "cleaned = meme_text.copy()\n",
    "cleaned.dropna(inplace=True)\n",
    "cleaned.isnull().any()"
   ]
  },
  {
   "cell_type": "code",
   "execution_count": 5,
   "id": "26c2757e",
   "metadata": {},
   "outputs": [
    {
     "data": {
      "text/plain": [
       "[2, 2, 2, 2, 1]"
      ]
     },
     "execution_count": 5,
     "metadata": {},
     "output_type": "execute_result"
    }
   ],
   "source": [
    "target = cleaned['sentiment']\n",
    "target = pd.get_dummies(target)\n",
    "labels = []\n",
    "for _, i in target.iterrows():\n",
    "    labels.append(np.argmax(i))\n",
    "labels[0:5]"
   ]
  },
  {
   "cell_type": "code",
   "execution_count": 6,
   "id": "913f9895",
   "metadata": {},
   "outputs": [
    {
     "data": {
      "text/plain": [
       "(6987, 2)"
      ]
     },
     "execution_count": 6,
     "metadata": {},
     "output_type": "execute_result"
    }
   ],
   "source": [
    "cleaned.shape"
   ]
  },
  {
   "cell_type": "code",
   "execution_count": 7,
   "id": "5bb7f5f1",
   "metadata": {},
   "outputs": [],
   "source": [
    "import nlpaug\n",
    "import nlpaug.augmenter.word as naw\n",
    "def Augmentation(text, labels):\n",
    "    aug = naw.SynonymAug(aug_src='wordnet',aug_max=3)\n",
    "    augmented_sentences = []\n",
    "    augmented_sentences_labels = []\n",
    "    for i in range(0, len(text)):\n",
    "        if np.argmax(labels.iloc[i]) == 0:\n",
    "            t = 0\n",
    "            temps = aug.augment(text.iloc[i],n=6)\n",
    "        elif np.argmax(labels.iloc[i]) == 1:\n",
    "            t = 1\n",
    "            temps = aug.augment(text.iloc[i],n=2)\n",
    "        else:\n",
    "            augmented_sentences.append(text.iloc[i])\n",
    "            augmented_sentences_labels.append(2)\n",
    "            continue\n",
    "        for sent in temps:\n",
    "            augmented_sentences.append(sent)\n",
    "            augmented_sentences_labels.append(t)\n",
    "        \n",
    "    return augmented_sentences,augmented_sentences_labels"
   ]
  },
  {
   "cell_type": "code",
   "execution_count": 8,
   "id": "84410764",
   "metadata": {},
   "outputs": [],
   "source": [
    "text, sent = Augmentation(cleaned.text, target)\n",
    "cleaned = pd.DataFrame()\n",
    "cleaned['text'] = text\n",
    "cleaned['sentiment'] = sent"
   ]
  },
  {
   "cell_type": "code",
   "execution_count": 9,
   "id": "831df21b",
   "metadata": {},
   "outputs": [
    {
     "data": {
      "text/plain": [
       "((12342, 1), (12342, 3))"
      ]
     },
     "execution_count": 9,
     "metadata": {},
     "output_type": "execute_result"
    }
   ],
   "source": [
    "from tensorflow.keras.utils import to_categorical\n",
    "sent = to_categorical(sent)\n",
    "pd.DataFrame(text).shape, pd.DataFrame(sent).shape"
   ]
  },
  {
   "cell_type": "code",
   "execution_count": 10,
   "id": "ddcf27c5",
   "metadata": {},
   "outputs": [],
   "source": [
    "stopwords = [ \"a\", \"about\", \"above\", \"after\", \"again\", \"against\", \"all\", \"am\", \"an\", \"and\", \"any\", \"are\", \"as\", \"at\", \"be\", \"because\", \n",
    "             \"been\", \"before\", \"being\", \"below\", \"between\", \"both\", \"but\", \"by\", \"could\", \"did\", \"do\", \"does\", \"doing\", \"down\", \"during\",\n",
    "             \"each\", \"few\", \"for\", \"from\", \"further\", \"had\", \"has\", \"have\", \"having\", \"he\", \"he'd\", \"he'll\", \"he's\", \"her\", \"here\", \n",
    "             \"here's\", \"hers\", \"herself\", \"him\", \"himself\", \"his\", \"how\", \"how's\", \"i\", \"i'd\", \"i'll\", \"i'm\", \"i've\", \"if\", \"in\", \"into\",\n",
    "             \"is\", \"it\", \"it's\", \"its\", \"itself\", \"let's\", \"me\", \"more\", \"most\", \"my\", \"myself\", \"nor\", \"of\", \"on\", \"once\", \"only\", \"or\",\n",
    "             \"other\", \"ought\", \"our\", \"ours\", \"ourselves\", \"out\", \"over\", \"own\", \"same\", \"she\", \"she'd\", \"she'll\", \"she's\", \"should\", \n",
    "             \"so\", \"some\", \"such\", \"than\", \"that\", \"that's\", \"the\", \"their\", \"theirs\", \"them\", \"themselves\", \"then\", \"there\", \"there's\",\n",
    "             \"these\", \"they\", \"they'd\", \"they'll\", \"they're\", \"they've\", \"this\", \"those\", \"through\", \"to\", \"too\", \"under\", \"until\", \"up\",\n",
    "             \"very\", \"was\", \"we\", \"we'd\", \"we'll\", \"we're\", \"we've\", \"were\", \"what\", \"what's\", \"when\", \"when's\", \"where\", \"where's\",\n",
    "             \"which\", \"while\", \"who\", \"who's\", \"whom\", \"why\", \"why's\", \"with\", \"would\", \"you\", \"you'd\", \"you'll\", \"you're\", \"you've\",\n",
    "             \"your\", \"yours\", \"yourself\", \"yourselves\" ]"
   ]
  },
  {
   "cell_type": "code",
   "execution_count": 11,
   "id": "8ccf76cc",
   "metadata": {},
   "outputs": [
    {
     "name": "stderr",
     "output_type": "stream",
     "text": [
      "C:\\Users\\hp\\AppData\\Local\\Temp/ipykernel_1740/1822268650.py:12: FutureWarning: The default value of regex will change from True to False in a future version.\n",
      "  data_without_stopwords['text'] = data_without_stopwords['text'].str.replace('[{}]'.format(string.punctuation), ' ')\n"
     ]
    }
   ],
   "source": [
    "def remove_stopwords(data):\n",
    "    data['text'] = data['text'].apply(lambda x : ' '.join([word for word in x.split() if word not in (stopwords)]))\n",
    "    return data\n",
    "\n",
    "def remove_tags(string):\n",
    "    result = re.sub('<.*?>','',string)\n",
    "    return result\n",
    " \n",
    "data_without_stopwords = []\n",
    "data_without_stopwords = remove_stopwords(cleaned)\n",
    "data_without_stopwords['text']= data_without_stopwords['text'].apply(lambda cw : remove_tags(cw))\n",
    "data_without_stopwords['text'] = data_without_stopwords['text'].str.replace('[{}]'.format(string.punctuation), ' ')"
   ]
  },
  {
   "cell_type": "code",
   "execution_count": 12,
   "id": "29d3e5ca",
   "metadata": {},
   "outputs": [],
   "source": [
    "meme_text = data_without_stopwords.text\n",
    "sentiment = data_without_stopwords['sentiment']"
   ]
  },
  {
   "cell_type": "code",
   "execution_count": 13,
   "id": "e6c38a26",
   "metadata": {},
   "outputs": [
    {
     "data": {
      "text/html": [
       "<div>\n",
       "<style scoped>\n",
       "    .dataframe tbody tr th:only-of-type {\n",
       "        vertical-align: middle;\n",
       "    }\n",
       "\n",
       "    .dataframe tbody tr th {\n",
       "        vertical-align: top;\n",
       "    }\n",
       "\n",
       "    .dataframe thead th {\n",
       "        text-align: right;\n",
       "    }\n",
       "</style>\n",
       "<table border=\"1\" class=\"dataframe\">\n",
       "  <thead>\n",
       "    <tr style=\"text-align: right;\">\n",
       "      <th></th>\n",
       "      <th>0</th>\n",
       "      <th>1</th>\n",
       "      <th>2</th>\n",
       "    </tr>\n",
       "  </thead>\n",
       "  <tbody>\n",
       "    <tr>\n",
       "      <th>0</th>\n",
       "      <td>0.0</td>\n",
       "      <td>0.0</td>\n",
       "      <td>1.0</td>\n",
       "    </tr>\n",
       "    <tr>\n",
       "      <th>1</th>\n",
       "      <td>0.0</td>\n",
       "      <td>0.0</td>\n",
       "      <td>1.0</td>\n",
       "    </tr>\n",
       "    <tr>\n",
       "      <th>2</th>\n",
       "      <td>0.0</td>\n",
       "      <td>0.0</td>\n",
       "      <td>1.0</td>\n",
       "    </tr>\n",
       "    <tr>\n",
       "      <th>3</th>\n",
       "      <td>0.0</td>\n",
       "      <td>0.0</td>\n",
       "      <td>1.0</td>\n",
       "    </tr>\n",
       "    <tr>\n",
       "      <th>4</th>\n",
       "      <td>0.0</td>\n",
       "      <td>1.0</td>\n",
       "      <td>0.0</td>\n",
       "    </tr>\n",
       "  </tbody>\n",
       "</table>\n",
       "</div>"
      ],
      "text/plain": [
       "     0    1    2\n",
       "0  0.0  0.0  1.0\n",
       "1  0.0  0.0  1.0\n",
       "2  0.0  0.0  1.0\n",
       "3  0.0  0.0  1.0\n",
       "4  0.0  1.0  0.0"
      ]
     },
     "execution_count": 13,
     "metadata": {},
     "output_type": "execute_result"
    }
   ],
   "source": [
    "y = sent\n",
    "#y = pd.get_dummies(target)\n",
    "pd.DataFrame(y).head()"
   ]
  },
  {
   "cell_type": "code",
   "execution_count": 14,
   "id": "17d1bb17",
   "metadata": {},
   "outputs": [
    {
     "data": {
      "text/plain": [
       "((8639,), (2221,), (1482,))"
      ]
     },
     "execution_count": 14,
     "metadata": {},
     "output_type": "execute_result"
    }
   ],
   "source": [
    "X_train, X_test,Y_train, Y_test = train_test_split(meme_text, y, test_size=0.3, random_state = 45)\n",
    "X_test, X_val, Y_test, Y_val = train_test_split(X_test, Y_test, test_size = 0.4)\n",
    "X_train.shape, X_test.shape, X_val.shape"
   ]
  },
  {
   "cell_type": "code",
   "execution_count": 15,
   "id": "f6c4902a",
   "metadata": {},
   "outputs": [
    {
     "data": {
      "text/plain": [
       "0    1    2  \n",
       "0.0  1.0  0.0    3057\n",
       "     0.0  1.0    2949\n",
       "1.0  0.0  0.0    2633\n",
       "dtype: int64"
      ]
     },
     "execution_count": 15,
     "metadata": {},
     "output_type": "execute_result"
    }
   ],
   "source": [
    "pd.DataFrame(Y_train).value_counts()"
   ]
  },
  {
   "cell_type": "code",
   "execution_count": 16,
   "id": "38ac6237",
   "metadata": {},
   "outputs": [],
   "source": [
    "tokenizer = Tokenizer(num_words=5000)\n",
    "tokenizer.fit_on_texts(X_train)\n",
    "\n",
    "words_to_index = tokenizer.word_index"
   ]
  },
  {
   "cell_type": "code",
   "execution_count": 17,
   "id": "23aeae0c",
   "metadata": {},
   "outputs": [],
   "source": [
    "def read_glove_vector(glove_vec):\n",
    "    with open(glove_vec, 'r', encoding='UTF-8') as f:\n",
    "        words = set()\n",
    "        word_to_vec_map = {}\n",
    "        for line in f:\n",
    "            w_line = line.split()\n",
    "            curr_word = w_line[0]\n",
    "            word_to_vec_map[curr_word] = np.array(w_line[1:], dtype=np.float64)\n",
    "    return word_to_vec_map"
   ]
  },
  {
   "cell_type": "code",
   "execution_count": 18,
   "id": "9259adf6",
   "metadata": {},
   "outputs": [],
   "source": [
    "word_to_vec_map = read_glove_vector('glove.6B.50d.txt')\n",
    "\n",
    "maxLen = 150"
   ]
  },
  {
   "cell_type": "code",
   "execution_count": 19,
   "id": "c9cca9dd",
   "metadata": {},
   "outputs": [],
   "source": [
    "vocab_len = len(words_to_index)\n",
    "embed_vector_len = word_to_vec_map['moon'].shape[0]\n",
    "\n",
    "emb_matrix = np.zeros((vocab_len, embed_vector_len))\n",
    "\n",
    "for word, index in words_to_index.items():\n",
    "    embedding_vector = word_to_vec_map.get(word)\n",
    "    if embedding_vector is not None:\n",
    "        emb_matrix[index-1, :] = embedding_vector\n",
    "\n",
    "embedding_layer = Embedding(input_dim=vocab_len, output_dim=embed_vector_len, input_length=maxLen, weights = [emb_matrix], trainable=False)"
   ]
  },
  {
   "cell_type": "code",
   "execution_count": 28,
   "id": "8178a1f1",
   "metadata": {},
   "outputs": [],
   "source": [
    "def Sent_Analysis(input_shape):\n",
    "\n",
    "    X_indices = Input(input_shape)\n",
    "\n",
    "    embeddings = embedding_layer(X_indices)\n",
    "\n",
    "    X = Bidirectional(LSTM(128, return_sequences=True))(embeddings)\n",
    "\n",
    "    X = Dropout(0.6)(X)\n",
    "\n",
    "    X = Bidirectional(LSTM(128, return_sequences=True))(X)\n",
    "    X = Dropout(0.6)(X)\n",
    "    \n",
    "    X = LSTM(256, return_sequences=True)(X)\n",
    "    X = Dropout(0.6)(X)\n",
    "    \n",
    "    X = Conv1D(256,3,activation='relu')(X)\n",
    "    X = Dropout(0.6)(X)\n",
    "    \n",
    "    X = Conv1D(256,3,activation='relu')(X)\n",
    "    X = Dropout(0.6)(X)\n",
    "\n",
    "    X = Bidirectional(LSTM(128))(X)\n",
    "\n",
    "    X = Dense(3, activation='softmax')(X)\n",
    "\n",
    "    model = Model(inputs=X_indices, outputs=X)\n",
    "\n",
    "    return model"
   ]
  },
  {
   "cell_type": "code",
   "execution_count": 44,
   "id": "6ff3b12f",
   "metadata": {},
   "outputs": [],
   "source": [
    "def conv1d_model(input_shape):\n",
    "\n",
    "    X_indices = Input(input_shape)\n",
    "\n",
    "    embeddings = embedding_layer(X_indices)\n",
    "\n",
    "    X = Conv1D(128,3,activation='relu')(embeddings)\n",
    "    #X = Dropout(0.8)(X)\n",
    "    \n",
    "    X = Conv1D(128,3,activation='relu')(embeddings)\n",
    "    X = Dropout(0.6)(X)\n",
    "\n",
    "    X = MaxPooling1D(2)(X)\n",
    "\n",
    "#     X = Conv1D(256,3,activation='relu')(X)\n",
    "#     X = Dropout(0.6)(X)\n",
    "#     X = MaxPooling1D(2)(X)\n",
    "\n",
    "    X = Conv1D(128,3,activation='relu')(X)\n",
    "    X = Dropout(0.6)(X)\n",
    "    #X = MaxPooling1D(2)(X)\n",
    "\n",
    "    X = GlobalMaxPooling1D()(X)\n",
    "\n",
    "    X = Dense(128, activation='relu')(X)\n",
    "    X = Dense(3, activation='softmax')(X)\n",
    "\n",
    "    model = Model(inputs=X_indices, outputs=X)\n",
    "\n",
    "    return model"
   ]
  },
  {
   "cell_type": "code",
   "execution_count": 32,
   "id": "52996e4e",
   "metadata": {},
   "outputs": [
    {
     "name": "stdout",
     "output_type": "stream",
     "text": [
      "WARNING:tensorflow:\n",
      "The following Variables were used a Lambda layer's call (tf.compat.v1.nn.embedding_lookup_3), but\n",
      "are not present in its tracked objects:\n",
      "  <tf.Variable 'embedding/embeddings:0' shape=(13161, 50) dtype=float32>\n",
      "It is possible that this is intended behavior, but it is more likely\n",
      "an omission. This is a strong indication that this layer should be\n",
      "formulated as a subclassed Layer rather than a Lambda layer.\n",
      "Model: \"model_2\"\n",
      "_________________________________________________________________\n",
      "Layer (type)                 Output Shape              Param #   \n",
      "=================================================================\n",
      "input_4 (InputLayer)         [(None, 150)]             0         \n",
      "_________________________________________________________________\n",
      "tf.cast_3 (TFOpLambda)       (None, 150)               0         \n",
      "_________________________________________________________________\n",
      "tf.compat.v1.nn.embedding_lo (None, 150, 50)           0         \n",
      "_________________________________________________________________\n",
      "bidirectional (Bidirectional (None, 150, 256)          183296    \n",
      "_________________________________________________________________\n",
      "dropout_7 (Dropout)          (None, 150, 256)          0         \n",
      "_________________________________________________________________\n",
      "bidirectional_1 (Bidirection (None, 150, 256)          394240    \n",
      "_________________________________________________________________\n",
      "dropout_8 (Dropout)          (None, 150, 256)          0         \n",
      "_________________________________________________________________\n",
      "lstm_6 (LSTM)                (None, 150, 256)          525312    \n",
      "_________________________________________________________________\n",
      "dropout_9 (Dropout)          (None, 150, 256)          0         \n",
      "_________________________________________________________________\n",
      "conv1d_4 (Conv1D)            (None, 148, 256)          196864    \n",
      "_________________________________________________________________\n",
      "dropout_10 (Dropout)         (None, 148, 256)          0         \n",
      "_________________________________________________________________\n",
      "conv1d_5 (Conv1D)            (None, 146, 256)          196864    \n",
      "_________________________________________________________________\n",
      "dropout_11 (Dropout)         (None, 146, 256)          0         \n",
      "_________________________________________________________________\n",
      "bidirectional_2 (Bidirection (None, 256)               394240    \n",
      "_________________________________________________________________\n",
      "dense_3 (Dense)              (None, 3)                 771       \n",
      "=================================================================\n",
      "Total params: 1,891,587\n",
      "Trainable params: 1,891,587\n",
      "Non-trainable params: 0\n",
      "_________________________________________________________________\n"
     ]
    }
   ],
   "source": [
    "model = Sent_Analysis((maxLen,))\n",
    "model.summary()"
   ]
  },
  {
   "cell_type": "code",
   "execution_count": 45,
   "id": "9352f0e6",
   "metadata": {},
   "outputs": [
    {
     "name": "stdout",
     "output_type": "stream",
     "text": [
      "WARNING:tensorflow:\n",
      "The following Variables were used a Lambda layer's call (tf.compat.v1.nn.embedding_lookup_7), but\n",
      "are not present in its tracked objects:\n",
      "  <tf.Variable 'embedding/embeddings:0' shape=(13161, 50) dtype=float32>\n",
      "It is possible that this is intended behavior, but it is more likely\n",
      "an omission. This is a strong indication that this layer should be\n",
      "formulated as a subclassed Layer rather than a Lambda layer.\n",
      "Model: \"model_6\"\n",
      "_________________________________________________________________\n",
      "Layer (type)                 Output Shape              Param #   \n",
      "=================================================================\n",
      "input_8 (InputLayer)         [(None, 150)]             0         \n",
      "_________________________________________________________________\n",
      "tf.cast_7 (TFOpLambda)       (None, 150)               0         \n",
      "_________________________________________________________________\n",
      "tf.compat.v1.nn.embedding_lo (None, 150, 50)           0         \n",
      "_________________________________________________________________\n",
      "conv1d_17 (Conv1D)           (None, 148, 128)          19328     \n",
      "_________________________________________________________________\n",
      "dropout_21 (Dropout)         (None, 148, 128)          0         \n",
      "_________________________________________________________________\n",
      "max_pooling1d_4 (MaxPooling1 (None, 74, 128)           0         \n",
      "_________________________________________________________________\n",
      "conv1d_18 (Conv1D)           (None, 72, 128)           49280     \n",
      "_________________________________________________________________\n",
      "dropout_22 (Dropout)         (None, 72, 128)           0         \n",
      "_________________________________________________________________\n",
      "global_max_pooling1d_4 (Glob (None, 128)               0         \n",
      "_________________________________________________________________\n",
      "dense_10 (Dense)             (None, 128)               16512     \n",
      "_________________________________________________________________\n",
      "dense_11 (Dense)             (None, 3)                 387       \n",
      "=================================================================\n",
      "Total params: 85,507\n",
      "Trainable params: 85,507\n",
      "Non-trainable params: 0\n",
      "_________________________________________________________________\n"
     ]
    }
   ],
   "source": [
    "model_1d = conv1d_model((maxLen,))\n",
    "model_1d.summary()"
   ]
  },
  {
   "cell_type": "code",
   "execution_count": 24,
   "id": "25392fa5",
   "metadata": {},
   "outputs": [],
   "source": [
    "X_train_indices = tokenizer.texts_to_sequences(X_train)\n",
    "X_val_indices = tokenizer.texts_to_sequences(X_val)"
   ]
  },
  {
   "cell_type": "code",
   "execution_count": 25,
   "id": "dc9facb4",
   "metadata": {},
   "outputs": [
    {
     "data": {
      "text/plain": [
       "((8639, 150), (1482, 150))"
      ]
     },
     "execution_count": 25,
     "metadata": {},
     "output_type": "execute_result"
    }
   ],
   "source": [
    "X_train_indices = pad_sequences(X_train_indices, maxlen=maxLen, padding='post')\n",
    "X_val_indices = pad_sequences(X_val_indices, maxlen=maxLen, padding='post')\n",
    "X_train_indices.shape, X_val_indices.shape"
   ]
  },
  {
   "cell_type": "code",
   "execution_count": 46,
   "id": "9d5aa1f0",
   "metadata": {},
   "outputs": [],
   "source": [
    "#adam = keras.optimizers.Adam(learning_rate = 0.0001)\n",
    "model_1d.compile(optimizer='adam', loss='categorical_crossentropy', metrics=['accuracy'])"
   ]
  },
  {
   "cell_type": "code",
   "execution_count": 47,
   "id": "3c3d84b6",
   "metadata": {},
   "outputs": [
    {
     "name": "stdout",
     "output_type": "stream",
     "text": [
      "Epoch 1/30\n",
      "135/135 [==============================] - 2s 10ms/step - loss: 1.1826 - accuracy: 0.3594 - val_loss: 1.0881 - val_accuracy: 0.3900\n",
      "Epoch 2/30\n",
      "135/135 [==============================] - 1s 9ms/step - loss: 1.0948 - accuracy: 0.3830 - val_loss: 1.0881 - val_accuracy: 0.4001\n",
      "Epoch 3/30\n",
      "135/135 [==============================] - 1s 9ms/step - loss: 1.0824 - accuracy: 0.3862 - val_loss: 1.0798 - val_accuracy: 0.4076\n",
      "Epoch 4/30\n",
      "135/135 [==============================] - 1s 9ms/step - loss: 1.0725 - accuracy: 0.4076 - val_loss: 1.0747 - val_accuracy: 0.4379\n",
      "Epoch 5/30\n",
      "135/135 [==============================] - 1s 9ms/step - loss: 1.0650 - accuracy: 0.4190 - val_loss: 1.0724 - val_accuracy: 0.4305\n",
      "Epoch 6/30\n",
      "135/135 [==============================] - 1s 9ms/step - loss: 1.0579 - accuracy: 0.4209 - val_loss: 1.0625 - val_accuracy: 0.4548\n",
      "Epoch 7/30\n",
      "135/135 [==============================] - 1s 8ms/step - loss: 1.0493 - accuracy: 0.4252 - val_loss: 1.0587 - val_accuracy: 0.4663\n",
      "Epoch 8/30\n",
      "135/135 [==============================] - 1s 9ms/step - loss: 1.0361 - accuracy: 0.4446 - val_loss: 1.0490 - val_accuracy: 0.4615\n",
      "Epoch 9/30\n",
      "135/135 [==============================] - 1s 9ms/step - loss: 1.0197 - accuracy: 0.4645 - val_loss: 1.0425 - val_accuracy: 0.4838\n",
      "Epoch 10/30\n",
      "135/135 [==============================] - 1s 9ms/step - loss: 1.0115 - accuracy: 0.4719 - val_loss: 1.0364 - val_accuracy: 0.4717\n",
      "Epoch 11/30\n",
      "135/135 [==============================] - 1s 9ms/step - loss: 0.9890 - accuracy: 0.4902 - val_loss: 1.0196 - val_accuracy: 0.5101\n",
      "Epoch 12/30\n",
      "135/135 [==============================] - 1s 9ms/step - loss: 0.9764 - accuracy: 0.4944 - val_loss: 1.0086 - val_accuracy: 0.4919\n",
      "Epoch 13/30\n",
      "135/135 [==============================] - 1s 8ms/step - loss: 0.9553 - accuracy: 0.5182 - val_loss: 0.9921 - val_accuracy: 0.5142\n",
      "Epoch 14/30\n",
      "135/135 [==============================] - 1s 9ms/step - loss: 0.9337 - accuracy: 0.5356 - val_loss: 0.9862 - val_accuracy: 0.5337\n",
      "Epoch 15/30\n",
      "135/135 [==============================] - 1s 9ms/step - loss: 0.9264 - accuracy: 0.5280 - val_loss: 0.9933 - val_accuracy: 0.4912\n",
      "Epoch 16/30\n",
      "135/135 [==============================] - 1s 9ms/step - loss: 0.9117 - accuracy: 0.5410 - val_loss: 0.9696 - val_accuracy: 0.5135\n",
      "Epoch 17/30\n",
      "135/135 [==============================] - 1s 9ms/step - loss: 0.8888 - accuracy: 0.5599 - val_loss: 0.9526 - val_accuracy: 0.5337\n",
      "Epoch 18/30\n",
      "135/135 [==============================] - 1s 9ms/step - loss: 0.8711 - accuracy: 0.5675 - val_loss: 0.9495 - val_accuracy: 0.5310\n",
      "Epoch 19/30\n",
      "135/135 [==============================] - 1s 9ms/step - loss: 0.8648 - accuracy: 0.5730 - val_loss: 0.9397 - val_accuracy: 0.5607\n",
      "Epoch 20/30\n",
      "135/135 [==============================] - 1s 9ms/step - loss: 0.8473 - accuracy: 0.5809 - val_loss: 0.9239 - val_accuracy: 0.5614\n",
      "Epoch 21/30\n",
      "135/135 [==============================] - 1s 9ms/step - loss: 0.8467 - accuracy: 0.5851 - val_loss: 0.9238 - val_accuracy: 0.5574\n",
      "Epoch 22/30\n",
      "135/135 [==============================] - 1s 9ms/step - loss: 0.8233 - accuracy: 0.6003 - val_loss: 0.9163 - val_accuracy: 0.5796\n",
      "Epoch 23/30\n",
      "135/135 [==============================] - 1s 9ms/step - loss: 0.8083 - accuracy: 0.6091 - val_loss: 0.9069 - val_accuracy: 0.5742\n",
      "Epoch 24/30\n",
      "135/135 [==============================] - 1s 9ms/step - loss: 0.7998 - accuracy: 0.6145 - val_loss: 0.8918 - val_accuracy: 0.5702\n",
      "Epoch 25/30\n",
      "135/135 [==============================] - 1s 9ms/step - loss: 0.8003 - accuracy: 0.6149 - val_loss: 0.9019 - val_accuracy: 0.5574\n",
      "Epoch 26/30\n",
      "135/135 [==============================] - 1s 9ms/step - loss: 0.7806 - accuracy: 0.6267 - val_loss: 0.8840 - val_accuracy: 0.5850\n",
      "Epoch 27/30\n",
      "135/135 [==============================] - 1s 9ms/step - loss: 0.7801 - accuracy: 0.6235 - val_loss: 0.8820 - val_accuracy: 0.5830\n",
      "Epoch 28/30\n",
      "135/135 [==============================] - 1s 9ms/step - loss: 0.7775 - accuracy: 0.6303 - val_loss: 0.8858 - val_accuracy: 0.5823\n",
      "Epoch 29/30\n",
      "135/135 [==============================] - 1s 9ms/step - loss: 0.7559 - accuracy: 0.6364 - val_loss: 0.8739 - val_accuracy: 0.5870\n",
      "Epoch 30/30\n",
      "135/135 [==============================] - 1s 9ms/step - loss: 0.7442 - accuracy: 0.6459 - val_loss: 0.8711 - val_accuracy: 0.5870\n"
     ]
    },
    {
     "data": {
      "text/plain": [
       "<tensorflow.python.keras.callbacks.History at 0x2175a46e850>"
      ]
     },
     "execution_count": 47,
     "metadata": {},
     "output_type": "execute_result"
    }
   ],
   "source": [
    "model_1d.fit(X_train_indices, Y_train, validation_data = (X_val_indices, Y_val), batch_size=64, epochs=30)"
   ]
  },
  {
   "cell_type": "code",
   "execution_count": 48,
   "id": "fe3d7439",
   "metadata": {},
   "outputs": [],
   "source": [
    "#adam = keras.optimizers.Adam(learning_rate = 0.0001)\n",
    "model.compile(optimizer='adam', loss='categorical_crossentropy', metrics=['accuracy'])"
   ]
  },
  {
   "cell_type": "code",
   "execution_count": 49,
   "id": "4cefcc6f",
   "metadata": {},
   "outputs": [
    {
     "name": "stdout",
     "output_type": "stream",
     "text": [
      "Epoch 1/15\n",
      "135/135 [==============================] - 30s 176ms/step - loss: 1.1011 - accuracy: 0.3526 - val_loss: 1.0846 - val_accuracy: 0.4035\n",
      "Epoch 2/15\n",
      "135/135 [==============================] - 22s 166ms/step - loss: 1.0821 - accuracy: 0.3917 - val_loss: 1.0654 - val_accuracy: 0.3988\n",
      "Epoch 3/15\n",
      "135/135 [==============================] - 22s 164ms/step - loss: 1.0693 - accuracy: 0.4036 - val_loss: 1.0618 - val_accuracy: 0.4001\n",
      "Epoch 4/15\n",
      "135/135 [==============================] - 22s 165ms/step - loss: 1.0544 - accuracy: 0.4208 - val_loss: 1.0477 - val_accuracy: 0.4318\n",
      "Epoch 5/15\n",
      "135/135 [==============================] - 22s 167ms/step - loss: 1.0384 - accuracy: 0.4311 - val_loss: 1.0167 - val_accuracy: 0.4345\n",
      "Epoch 6/15\n",
      "135/135 [==============================] - 22s 167ms/step - loss: 1.0100 - accuracy: 0.4632 - val_loss: 1.0116 - val_accuracy: 0.4548\n",
      "Epoch 7/15\n",
      "135/135 [==============================] - 22s 166ms/step - loss: 0.9695 - accuracy: 0.4850 - val_loss: 1.0209 - val_accuracy: 0.4379\n",
      "Epoch 8/15\n",
      "135/135 [==============================] - 23s 167ms/step - loss: 0.9143 - accuracy: 0.5236 - val_loss: 0.9442 - val_accuracy: 0.5182\n",
      "Epoch 9/15\n",
      "135/135 [==============================] - 23s 169ms/step - loss: 0.8584 - accuracy: 0.5490 - val_loss: 0.9212 - val_accuracy: 0.5324\n",
      "Epoch 10/15\n",
      "135/135 [==============================] - 23s 167ms/step - loss: 0.8115 - accuracy: 0.5853 - val_loss: 0.8898 - val_accuracy: 0.5425\n",
      "Epoch 11/15\n",
      "135/135 [==============================] - 22s 165ms/step - loss: 0.7704 - accuracy: 0.5927 - val_loss: 0.8800 - val_accuracy: 0.5709\n",
      "Epoch 12/15\n",
      "135/135 [==============================] - 22s 166ms/step - loss: 0.7171 - accuracy: 0.6309 - val_loss: 0.8967 - val_accuracy: 0.5702\n",
      "Epoch 13/15\n",
      "135/135 [==============================] - 22s 166ms/step - loss: 0.6829 - accuracy: 0.6461 - val_loss: 0.8730 - val_accuracy: 0.5675\n",
      "Epoch 14/15\n",
      "135/135 [==============================] - 23s 171ms/step - loss: 0.6468 - accuracy: 0.6711 - val_loss: 0.8761 - val_accuracy: 0.5614\n",
      "Epoch 15/15\n",
      "135/135 [==============================] - 22s 166ms/step - loss: 0.6357 - accuracy: 0.6789 - val_loss: 0.8798 - val_accuracy: 0.5843\n"
     ]
    },
    {
     "data": {
      "text/plain": [
       "<tensorflow.python.keras.callbacks.History at 0x2175c8a6f70>"
      ]
     },
     "execution_count": 49,
     "metadata": {},
     "output_type": "execute_result"
    }
   ],
   "source": [
    "model.fit(X_train_indices, Y_train,validation_data = (X_val_indices, Y_val), batch_size=64, epochs=15)"
   ]
  },
  {
   "cell_type": "code",
   "execution_count": 50,
   "id": "5352bcf6",
   "metadata": {},
   "outputs": [],
   "source": [
    "X_test_indices = tokenizer.texts_to_sequences(X_test)\n",
    "\n",
    "X_test_indices = pad_sequences(X_test_indices, maxlen=maxLen, padding='post')"
   ]
  },
  {
   "cell_type": "code",
   "execution_count": 52,
   "id": "4ddb76ba",
   "metadata": {},
   "outputs": [],
   "source": [
    "y_pred1 = model.predict(X_test_indices)\n",
    "y_pred2 = model_1d.predict(X_test_indices)"
   ]
  },
  {
   "cell_type": "code",
   "execution_count": 53,
   "id": "b3c8bf70",
   "metadata": {},
   "outputs": [],
   "source": [
    "yt = np.argmax(Y_test, axis = 1)\n",
    "yp1 = np.argmax(y_pred1, axis = 1)\n",
    "yp2 = np.argmax(y_pred2, axis = 1)"
   ]
  },
  {
   "cell_type": "code",
   "execution_count": 54,
   "id": "d29c9770",
   "metadata": {},
   "outputs": [
    {
     "data": {
      "text/plain": [
       "(0.5727149932462855, 0.5983791085096803)"
      ]
     },
     "execution_count": 54,
     "metadata": {},
     "output_type": "execute_result"
    }
   ],
   "source": [
    "from sklearn.metrics import accuracy_score, classification_report\n",
    "accuracy_score(yt, yp1), accuracy_score(yt, yp2)"
   ]
  },
  {
   "cell_type": "code",
   "execution_count": 55,
   "id": "60eeee8b",
   "metadata": {},
   "outputs": [
    {
     "name": "stdout",
     "output_type": "stream",
     "text": [
      "              precision    recall  f1-score   support\n",
      "\n",
      "           0       0.67      0.84      0.74       687\n",
      "           1       0.52      0.47      0.49       811\n",
      "           2       0.51      0.43      0.47       723\n",
      "\n",
      "    accuracy                           0.57      2221\n",
      "   macro avg       0.56      0.58      0.57      2221\n",
      "weighted avg       0.56      0.57      0.56      2221\n",
      "               precision    recall  f1-score   support\n",
      "\n",
      "           0       0.79      0.71      0.75       687\n",
      "           1       0.55      0.47      0.51       811\n",
      "           2       0.50      0.64      0.56       723\n",
      "\n",
      "    accuracy                           0.60      2221\n",
      "   macro avg       0.62      0.61      0.61      2221\n",
      "weighted avg       0.61      0.60      0.60      2221\n",
      "\n"
     ]
    }
   ],
   "source": [
    "print(classification_report(yt,yp1), classification_report(yt,yp2))"
   ]
  },
  {
   "cell_type": "code",
   "execution_count": 56,
   "id": "c1215873",
   "metadata": {},
   "outputs": [
    {
     "data": {
      "text/plain": [
       "Text(33.0, 0.5, 'Truth')"
      ]
     },
     "execution_count": 56,
     "metadata": {},
     "output_type": "execute_result"
    },
    {
     "data": {
      "image/png": "[encoded data removed]",
      "text/plain": [
       "<Figure size 432x288 with 2 Axes>"
      ]
     },
     "metadata": {
      "needs_background": "light"
     },
     "output_type": "display_data"
    }
   ],
   "source": [
    "from sklearn.metrics import confusion_matrix, classification_report\n",
    "from matplotlib import pyplot as plt\n",
    "import seaborn as sn\n",
    "cm = confusion_matrix(yt, yp1)\n",
    "sn.heatmap(cm, annot=True, fmt='d')\n",
    "plt.xlabel('Predicted')\n",
    "plt.ylabel('Truth')"
   ]
  },
  {
   "cell_type": "code",
   "execution_count": 57,
   "id": "cd094d57",
   "metadata": {},
   "outputs": [
    {
     "data": {
      "text/plain": [
       "Text(33.0, 0.5, 'Truth')"
      ]
     },
     "execution_count": 57,
     "metadata": {},
     "output_type": "execute_result"
    },
    {
     "data": {
      "image/png": "[encoded data removed]",
      "text/plain": [
       "<Figure size 432x288 with 2 Axes>"
      ]
     },
     "metadata": {
      "needs_background": "light"
     },
     "output_type": "display_data"
    }
   ],
   "source": [
    "cm = confusion_matrix(yt, yp2)\n",
    "sn.heatmap(cm, annot=True, fmt='d')\n",
    "plt.xlabel('Predicted')\n",
    "plt.ylabel('Truth')"
   ]
  },
  {
   "cell_type": "code",
   "execution_count": null,
   "id": "692a1a66",
   "metadata": {},
   "outputs": [],
   "source": []
  }
 ],
 "metadata": {
  "kernelspec": {
   "display_name": "Python 3 (ipykernel)",
   "language": "python",
   "name": "python3"
  },
  "language_info": {
   "codemirror_mode": {
    "name": "ipython",
    "version": 3
   },
   "file_extension": ".py",
   "mimetype": "text/x-python",
   "name": "python",
   "nbconvert_exporter": "python",
   "pygments_lexer": "ipython3",
   "version": "3.8.13"
  }
 },
 "nbformat": 4,
 "nbformat_minor": 5
}
