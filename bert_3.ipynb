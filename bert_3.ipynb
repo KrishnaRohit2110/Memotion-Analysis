{
 "cells": [
  {
   "cell_type": "code",
   "execution_count": 1,
   "id": "0cda96fb",
   "metadata": {},
   "outputs": [],
   "source": [
    "import pandas as pd\n",
    "import numpy as np\n",
    "import matplotlib.pyplot as plt\n",
    "import seaborn as sns\n",
    "from sklearn.model_selection import train_test_split\n",
    "import tensorflow_hub as hub\n",
    "import tensorflow_text as text"
   ]
  },
  {
   "cell_type": "code",
   "execution_count": 2,
   "id": "6fe355a7",
   "metadata": {},
   "outputs": [
    {
     "data": {
      "text/html": [
       "<div>\n",
       "<style scoped>\n",
       "    .dataframe tbody tr th:only-of-type {\n",
       "        vertical-align: middle;\n",
       "    }\n",
       "\n",
       "    .dataframe tbody tr th {\n",
       "        vertical-align: top;\n",
       "    }\n",
       "\n",
       "    .dataframe thead th {\n",
       "        text-align: right;\n",
       "    }\n",
       "</style>\n",
       "<table border=\"1\" class=\"dataframe\">\n",
       "  <thead>\n",
       "    <tr style=\"text-align: right;\">\n",
       "      <th></th>\n",
       "      <th>Unnamed: 0</th>\n",
       "      <th>image_name</th>\n",
       "      <th>text_ocr</th>\n",
       "      <th>text_corrected</th>\n",
       "      <th>humour</th>\n",
       "      <th>sarcasm</th>\n",
       "      <th>offensive</th>\n",
       "      <th>motivational</th>\n",
       "      <th>overall_sentiment</th>\n",
       "    </tr>\n",
       "  </thead>\n",
       "  <tbody>\n",
       "    <tr>\n",
       "      <th>0</th>\n",
       "      <td>0</td>\n",
       "      <td>image_1.jpg</td>\n",
       "      <td>LOOK THERE MY FRIEND LIGHTYEAR NOW ALL SOHALIK...</td>\n",
       "      <td>LOOK THERE MY FRIEND LIGHTYEAR NOW ALL SOHALIK...</td>\n",
       "      <td>hilarious</td>\n",
       "      <td>general</td>\n",
       "      <td>not_offensive</td>\n",
       "      <td>not_motivational</td>\n",
       "      <td>positive</td>\n",
       "    </tr>\n",
       "    <tr>\n",
       "      <th>1</th>\n",
       "      <td>1</td>\n",
       "      <td>image_2.jpeg</td>\n",
       "      <td>The best of #10 YearChallenge! Completed in le...</td>\n",
       "      <td>The best of #10 YearChallenge! Completed in le...</td>\n",
       "      <td>not_funny</td>\n",
       "      <td>general</td>\n",
       "      <td>not_offensive</td>\n",
       "      <td>motivational</td>\n",
       "      <td>positive</td>\n",
       "    </tr>\n",
       "    <tr>\n",
       "      <th>2</th>\n",
       "      <td>2</td>\n",
       "      <td>image_3.JPG</td>\n",
       "      <td>Sam Thorne @Strippin ( Follow Follow Saw every...</td>\n",
       "      <td>Sam Thorne @Strippin ( Follow Follow Saw every...</td>\n",
       "      <td>very_funny</td>\n",
       "      <td>not_sarcastic</td>\n",
       "      <td>not_offensive</td>\n",
       "      <td>not_motivational</td>\n",
       "      <td>positive</td>\n",
       "    </tr>\n",
       "    <tr>\n",
       "      <th>3</th>\n",
       "      <td>3</td>\n",
       "      <td>image_4.png</td>\n",
       "      <td>10 Year Challenge - Sweet Dee Edition</td>\n",
       "      <td>10 Year Challenge - Sweet Dee Edition</td>\n",
       "      <td>very_funny</td>\n",
       "      <td>twisted_meaning</td>\n",
       "      <td>very_offensive</td>\n",
       "      <td>motivational</td>\n",
       "      <td>positive</td>\n",
       "    </tr>\n",
       "    <tr>\n",
       "      <th>4</th>\n",
       "      <td>4</td>\n",
       "      <td>image_5.png</td>\n",
       "      <td>10 YEAR CHALLENGE WITH NO FILTER 47 Hilarious ...</td>\n",
       "      <td>10 YEAR CHALLENGE WITH NO FILTER 47 Hilarious ...</td>\n",
       "      <td>hilarious</td>\n",
       "      <td>very_twisted</td>\n",
       "      <td>very_offensive</td>\n",
       "      <td>not_motivational</td>\n",
       "      <td>neutral</td>\n",
       "    </tr>\n",
       "  </tbody>\n",
       "</table>\n",
       "</div>"
      ],
      "text/plain": [
       "   Unnamed: 0    image_name  \\\n",
       "0           0   image_1.jpg   \n",
       "1           1  image_2.jpeg   \n",
       "2           2   image_3.JPG   \n",
       "3           3   image_4.png   \n",
       "4           4   image_5.png   \n",
       "\n",
       "                                            text_ocr  \\\n",
       "0  LOOK THERE MY FRIEND LIGHTYEAR NOW ALL SOHALIK...   \n",
       "1  The best of #10 YearChallenge! Completed in le...   \n",
       "2  Sam Thorne @Strippin ( Follow Follow Saw every...   \n",
       "3              10 Year Challenge - Sweet Dee Edition   \n",
       "4  10 YEAR CHALLENGE WITH NO FILTER 47 Hilarious ...   \n",
       "\n",
       "                                      text_corrected      humour  \\\n",
       "0  LOOK THERE MY FRIEND LIGHTYEAR NOW ALL SOHALIK...   hilarious   \n",
       "1  The best of #10 YearChallenge! Completed in le...   not_funny   \n",
       "2  Sam Thorne @Strippin ( Follow Follow Saw every...  very_funny   \n",
       "3              10 Year Challenge - Sweet Dee Edition  very_funny   \n",
       "4  10 YEAR CHALLENGE WITH NO FILTER 47 Hilarious ...   hilarious   \n",
       "\n",
       "           sarcasm       offensive      motivational overall_sentiment  \n",
       "0          general   not_offensive  not_motivational          positive  \n",
       "1          general   not_offensive      motivational          positive  \n",
       "2    not_sarcastic   not_offensive  not_motivational          positive  \n",
       "3  twisted_meaning  very_offensive      motivational          positive  \n",
       "4     very_twisted  very_offensive  not_motivational           neutral  "
      ]
     },
     "execution_count": 2,
     "metadata": {},
     "output_type": "execute_result"
    }
   ],
   "source": [
    "df = pd.read_csv(\"memotion_dataset_7k/labels.csv\")\n",
    "df.head()"
   ]
  },
  {
   "cell_type": "code",
   "execution_count": 3,
   "id": "8bd09337",
   "metadata": {},
   "outputs": [
    {
     "data": {
      "text/html": [
       "<div>\n",
       "<style scoped>\n",
       "    .dataframe tbody tr th:only-of-type {\n",
       "        vertical-align: middle;\n",
       "    }\n",
       "\n",
       "    .dataframe tbody tr th {\n",
       "        vertical-align: top;\n",
       "    }\n",
       "\n",
       "    .dataframe thead th {\n",
       "        text-align: right;\n",
       "    }\n",
       "</style>\n",
       "<table border=\"1\" class=\"dataframe\">\n",
       "  <thead>\n",
       "    <tr style=\"text-align: right;\">\n",
       "      <th></th>\n",
       "      <th>text</th>\n",
       "      <th>sentiment</th>\n",
       "    </tr>\n",
       "  </thead>\n",
       "  <tbody>\n",
       "    <tr>\n",
       "      <th>0</th>\n",
       "      <td>LOOK THERE MY FRIEND LIGHTYEAR NOW ALL SOHALIK...</td>\n",
       "      <td>positive</td>\n",
       "    </tr>\n",
       "    <tr>\n",
       "      <th>1</th>\n",
       "      <td>The best of #10 YearChallenge! Completed in le...</td>\n",
       "      <td>positive</td>\n",
       "    </tr>\n",
       "    <tr>\n",
       "      <th>2</th>\n",
       "      <td>Sam Thorne @Strippin ( Follow Follow Saw every...</td>\n",
       "      <td>positive</td>\n",
       "    </tr>\n",
       "    <tr>\n",
       "      <th>3</th>\n",
       "      <td>10 Year Challenge - Sweet Dee Edition</td>\n",
       "      <td>positive</td>\n",
       "    </tr>\n",
       "    <tr>\n",
       "      <th>4</th>\n",
       "      <td>10 YEAR CHALLENGE WITH NO FILTER 47 Hilarious ...</td>\n",
       "      <td>neutral</td>\n",
       "    </tr>\n",
       "  </tbody>\n",
       "</table>\n",
       "</div>"
      ],
      "text/plain": [
       "                                                text sentiment\n",
       "0  LOOK THERE MY FRIEND LIGHTYEAR NOW ALL SOHALIK...  positive\n",
       "1  The best of #10 YearChallenge! Completed in le...  positive\n",
       "2  Sam Thorne @Strippin ( Follow Follow Saw every...  positive\n",
       "3              10 Year Challenge - Sweet Dee Edition  positive\n",
       "4  10 YEAR CHALLENGE WITH NO FILTER 47 Hilarious ...   neutral"
      ]
     },
     "execution_count": 3,
     "metadata": {},
     "output_type": "execute_result"
    }
   ],
   "source": [
    "meme_text = pd.DataFrame()\n",
    "meme_text['text'] = df.text_corrected\n",
    "meme_text['sentiment'] = df.overall_sentiment\n",
    "meme_text.head()"
   ]
  },
  {
   "cell_type": "code",
   "execution_count": 4,
   "id": "9377fc4f",
   "metadata": {},
   "outputs": [
    {
     "data": {
      "text/plain": [
       "text         False\n",
       "sentiment    False\n",
       "dtype: bool"
      ]
     },
     "execution_count": 4,
     "metadata": {},
     "output_type": "execute_result"
    }
   ],
   "source": [
    "cleaned = meme_text.copy()\n",
    "cleaned.dropna(inplace=True)\n",
    "cleaned.isnull().any()"
   ]
  },
  {
   "cell_type": "code",
   "execution_count": 5,
   "id": "f699b730",
   "metadata": {},
   "outputs": [
    {
     "data": {
      "text/plain": [
       "[2, 2, 2, 2, 1]"
      ]
     },
     "execution_count": 5,
     "metadata": {},
     "output_type": "execute_result"
    }
   ],
   "source": [
    "target = cleaned['sentiment']\n",
    "target = pd.get_dummies(target)\n",
    "labels = []\n",
    "for _, i in target.iterrows():\n",
    "    labels.append(np.argmax(i))\n",
    "labels[0:5]"
   ]
  },
  {
   "cell_type": "code",
   "execution_count": 6,
   "id": "4c4ffe80",
   "metadata": {},
   "outputs": [
    {
     "data": {
      "text/plain": [
       "((6987, 2), (6987, 3))"
      ]
     },
     "execution_count": 6,
     "metadata": {},
     "output_type": "execute_result"
    }
   ],
   "source": [
    "cleaned.shape,target.shape"
   ]
  },
  {
   "cell_type": "code",
   "execution_count": 7,
   "id": "573b7311",
   "metadata": {},
   "outputs": [
    {
     "name": "stderr",
     "output_type": "stream",
     "text": [
      "C:\\Users\\hp\\anaconda3\\envs\\Rohit\\lib\\site-packages\\seaborn\\_decorators.py:36: FutureWarning: Pass the following variable as a keyword arg: x. From version 0.12, the only valid positional argument will be `data`, and passing other arguments without an explicit keyword will result in an error or misinterpretation.\n",
      "  warnings.warn(\n"
     ]
    },
    {
     "data": {
      "text/plain": [
       "<AxesSubplot:xlabel='sentiment', ylabel='count'>"
      ]
     },
     "execution_count": 7,
     "metadata": {},
     "output_type": "execute_result"
    },
    {
     "data": {
      "image/png": "[encoded data removed]",
      "text/plain": [
       "<Figure size 432x288 with 1 Axes>"
      ]
     },
     "metadata": {
      "needs_background": "light"
     },
     "output_type": "display_data"
    }
   ],
   "source": [
    "sns.countplot(cleaned.sentiment)"
   ]
  },
  {
   "cell_type": "code",
   "execution_count": 8,
   "id": "5c6f53e4",
   "metadata": {},
   "outputs": [
    {
     "data": {
      "text/plain": [
       "positive    4156\n",
       "neutral     2200\n",
       "negative     631\n",
       "Name: sentiment, dtype: int64"
      ]
     },
     "execution_count": 8,
     "metadata": {},
     "output_type": "execute_result"
    }
   ],
   "source": [
    "cleaned['sentiment'].value_counts()"
   ]
  },
  {
   "cell_type": "code",
   "execution_count": 9,
   "id": "1ec4f54f",
   "metadata": {},
   "outputs": [],
   "source": [
    "import nlpaug\n",
    "import nlpaug.augmenter.word as naw\n",
    "def Augmentation(text, labels):\n",
    "    aug = naw.SynonymAug(aug_src='wordnet',aug_max=3)\n",
    "    augmented_sentences = []\n",
    "    augmented_sentences_labels = []\n",
    "    for i in range(0, len(text)):\n",
    "        if np.argmax(labels.iloc[i]) == 0:\n",
    "            t = 0\n",
    "            temps = aug.augment(text.iloc[i],n=6)\n",
    "        elif np.argmax(labels.iloc[i]) == 1:\n",
    "            t = 1\n",
    "            temps = aug.augment(text.iloc[i],n=2)\n",
    "        else:\n",
    "            augmented_sentences.append(text.iloc[i])\n",
    "            augmented_sentences_labels.append(2)\n",
    "            continue\n",
    "        for sent in temps:\n",
    "            augmented_sentences.append(sent)\n",
    "            augmented_sentences_labels.append(t)\n",
    "        \n",
    "    return augmented_sentences,augmented_sentences_labels"
   ]
  },
  {
   "cell_type": "code",
   "execution_count": 10,
   "id": "5fb36567",
   "metadata": {},
   "outputs": [],
   "source": [
    "text, sent = Augmentation(cleaned.text, target)\n",
    "cleaned = pd.DataFrame()\n",
    "cleaned['text'] = text\n",
    "cleaned['sentiment'] = sent"
   ]
  },
  {
   "cell_type": "code",
   "execution_count": 12,
   "id": "8289ac28",
   "metadata": {},
   "outputs": [
    {
     "name": "stderr",
     "output_type": "stream",
     "text": [
      "C:\\Users\\hp\\anaconda3\\envs\\Rohit\\lib\\site-packages\\seaborn\\_decorators.py:36: FutureWarning: Pass the following variable as a keyword arg: x. From version 0.12, the only valid positional argument will be `data`, and passing other arguments without an explicit keyword will result in an error or misinterpretation.\n",
      "  warnings.warn(\n"
     ]
    },
    {
     "data": {
      "text/plain": [
       "<AxesSubplot:xlabel='sentiment', ylabel='count'>"
      ]
     },
     "execution_count": 12,
     "metadata": {},
     "output_type": "execute_result"
    },
    {
     "data": {
      "image/png": "[encoded data removed]",
      "text/plain": [
       "<Figure size 432x288 with 1 Axes>"
      ]
     },
     "metadata": {
      "needs_background": "light"
     },
     "output_type": "display_data"
    }
   ],
   "source": [
    "sns.countplot(cleaned.sentiment)"
   ]
  },
  {
   "cell_type": "code",
   "execution_count": 11,
   "id": "238338ee",
   "metadata": {},
   "outputs": [
    {
     "data": {
      "text/plain": [
       "((12342, 1), (12342, 3))"
      ]
     },
     "execution_count": 11,
     "metadata": {},
     "output_type": "execute_result"
    }
   ],
   "source": [
    "from tensorflow.keras.utils import to_categorical\n",
    "sent = to_categorical(sent)\n",
    "pd.DataFrame(text).shape, pd.DataFrame(sent).shape"
   ]
  },
  {
   "cell_type": "code",
   "execution_count": 32,
   "id": "bfed9bed",
   "metadata": {},
   "outputs": [],
   "source": [
    "xtrain, xtest, ytrain, ytest = train_test_split(text,sent, test_size = 0.3)\n",
    "xtest, xval, ytest, yval = train_test_split(xtest,ytest,test_size = 0.4)\n",
    "xtrain = pd.DataFrame(xtrain)\n",
    "xtest = pd.DataFrame(xtest)\n",
    "xval = pd.DataFrame(xval)\n",
    "ytrain = pd.DataFrame(ytrain)\n",
    "ytest = pd.DataFrame(ytest)\n",
    "yval = pd.DataFrame(yval)"
   ]
  },
  {
   "cell_type": "code",
   "execution_count": 24,
   "id": "96728a83",
   "metadata": {},
   "outputs": [
    {
     "data": {
      "text/plain": [
       "((8639, 1), (2221, 1), (1482, 1))"
      ]
     },
     "execution_count": 24,
     "metadata": {},
     "output_type": "execute_result"
    }
   ],
   "source": [
    "xtrain.shape, xtest.shape, xval.shape"
   ]
  },
  {
   "cell_type": "code",
   "execution_count": 26,
   "id": "10cd5ec2",
   "metadata": {},
   "outputs": [
    {
     "data": {
      "text/plain": [
       "0    1    2  \n",
       "0.0  1.0  0.0    3107\n",
       "     0.0  1.0    2890\n",
       "1.0  0.0  0.0    2642\n",
       "dtype: int64"
      ]
     },
     "execution_count": 26,
     "metadata": {},
     "output_type": "execute_result"
    }
   ],
   "source": [
    "ytrain.value_counts()"
   ]
  },
  {
   "cell_type": "code",
   "execution_count": 33,
   "id": "dc9eda78",
   "metadata": {},
   "outputs": [
    {
     "name": "stderr",
     "output_type": "stream",
     "text": [
      "INFO:absl:Using C:\\Users\\hp\\AppData\\Local\\Temp\\tfhub_modules to cache modules.\n"
     ]
    }
   ],
   "source": [
    "bert_preprocess = hub.KerasLayer(\"https://tfhub.dev/tensorflow/bert_en_uncased_preprocess/3\")\n",
    "bert_encoder = hub.KerasLayer(\"https://tfhub.dev/tensorflow/bert_en_uncased_L-12_H-768_A-12/4\")"
   ]
  },
  {
   "cell_type": "code",
   "execution_count": 1,
   "id": "38b53c96",
   "metadata": {},
   "outputs": [
    {
     "name": "stderr",
     "output_type": "stream",
     "text": [
      "<>:9: SyntaxWarning: 'int' object is not callable; perhaps you missed a comma?\n",
      "<>:9: SyntaxWarning: 'int' object is not callable; perhaps you missed a comma?\n",
      "C:\\Users\\hp\\AppData\\Local\\Temp\\ipykernel_12936\\333727184.py:9: SyntaxWarning: 'int' object is not callable; perhaps you missed a comma?\n",
      "  l = tf.keras.layers.Dense(256(l))\n"
     ]
    }
   ],
   "source": [
    "# Bert layers\n",
    "import tensorflow as tf\n",
    "text_input = tf.keras.layers.Input(shape=(), dtype=tf.string, name='text')\n",
    "preprocessed_text = bert_preprocess(text_input)\n",
    "outputs = bert_encoder(preprocessed_text)\n",
    "\n",
    "# Neural network layers\n",
    "l = tf.keras.layers.Dropout(0.1, name=\"dropout\")(outputs['pooled_output'])\n",
    "l = tf.keras.layers.Dense(3, activation='softmax', name=\"output\")(l)\n",
    "\n",
    "# Use inputs and outputs to construct a final model\n",
    "model = tf.keras.Model(inputs=[text_input], outputs = [l])"
   ]
  },
  {
   "cell_type": "code",
   "execution_count": null,
   "id": "c090ec54",
   "metadata": {},
   "outputs": [],
   "source": []
  },
  {
   "cell_type": "code",
   "execution_count": 36,
   "id": "0af5e9f0",
   "metadata": {},
   "outputs": [
    {
     "name": "stdout",
     "output_type": "stream",
     "text": [
      "Model: \"model\"\n",
      "__________________________________________________________________________________________________\n",
      "Layer (type)                    Output Shape         Param #     Connected to                     \n",
      "==================================================================================================\n",
      "text (InputLayer)               [(None,)]            0                                            \n",
      "__________________________________________________________________________________________________\n",
      "keras_layer (KerasLayer)        {'input_mask': (None 0           text[0][0]                       \n",
      "__________________________________________________________________________________________________\n",
      "keras_layer_1 (KerasLayer)      {'sequence_output':  109482241   keras_layer[0][0]                \n",
      "                                                                 keras_layer[0][1]                \n",
      "                                                                 keras_layer[0][2]                \n",
      "__________________________________________________________________________________________________\n",
      "dropout (Dropout)               (None, 768)          0           keras_layer_1[0][13]             \n",
      "__________________________________________________________________________________________________\n",
      "output (Dense)                  (None, 3)            2307        dropout[0][0]                    \n",
      "==================================================================================================\n",
      "Total params: 109,484,548\n",
      "Trainable params: 2,307\n",
      "Non-trainable params: 109,482,241\n",
      "__________________________________________________________________________________________________\n"
     ]
    }
   ],
   "source": [
    "model.summary()"
   ]
  },
  {
   "cell_type": "code",
   "execution_count": 48,
   "id": "788d888f",
   "metadata": {},
   "outputs": [],
   "source": [
    "xtrain = pd.DataFrame(xtrain)\n",
    "ytrain = pd.DataFrame(ytrain)"
   ]
  },
  {
   "cell_type": "code",
   "execution_count": 38,
   "id": "94888d01",
   "metadata": {},
   "outputs": [],
   "source": [
    "X_train=np.asarray(xtrain.astype(np.str))\n",
    "y_train=np.asarray(ytrain)"
   ]
  },
  {
   "cell_type": "code",
   "execution_count": 39,
   "id": "963bcc3c",
   "metadata": {},
   "outputs": [
    {
     "data": {
      "text/plain": [
       "((8639, 1),\n",
       " array([[0., 0., 1.],\n",
       "        [1., 0., 0.],\n",
       "        [0., 1., 0.],\n",
       "        ...,\n",
       "        [0., 1., 0.],\n",
       "        [0., 1., 0.],\n",
       "        [1., 0., 0.]], dtype=float32))"
      ]
     },
     "execution_count": 39,
     "metadata": {},
     "output_type": "execute_result"
    }
   ],
   "source": [
    "X_train.shape,y_train"
   ]
  },
  {
   "cell_type": "code",
   "execution_count": 40,
   "id": "b7aad3e8",
   "metadata": {},
   "outputs": [
    {
     "data": {
      "text/plain": [
       "((8639, 1), (8639, 3))"
      ]
     },
     "execution_count": 40,
     "metadata": {},
     "output_type": "execute_result"
    }
   ],
   "source": [
    "X_train = np.resize(X_train,(X_train.shape[0], 1))\n",
    "X_train.shape, y_train.shape"
   ]
  },
  {
   "cell_type": "code",
   "execution_count": 41,
   "id": "44992c42",
   "metadata": {},
   "outputs": [],
   "source": [
    "METRICS = [\n",
    "      tf.keras.metrics.Accuracy(name='accuracy'),\n",
    "      tf.keras.metrics.Precision(name='precision'),\n",
    "      tf.keras.metrics.Recall(name='recall')\n",
    "]\n",
    "\n",
    "\n",
    "model.compile(optimizer='adam',\n",
    "              loss='categorical_crossentropy',\n",
    "              metrics='accuracy')"
   ]
  },
  {
   "cell_type": "code",
   "execution_count": 53,
   "id": "bfeeb76c",
   "metadata": {},
   "outputs": [
    {
     "name": "stdout",
     "output_type": "stream",
     "text": [
      "Epoch 1/20\n",
      "270/270 [==============================] - 247s 916ms/step - loss: 1.0641 - accuracy: 0.4382 - val_loss: 1.0394 - val_accuracy: 0.4534\n",
      "Epoch 2/20\n",
      "270/270 [==============================] - 248s 918ms/step - loss: 1.0665 - accuracy: 0.4294 - val_loss: 1.0422 - val_accuracy: 0.4622\n",
      "Epoch 3/20\n",
      "270/270 [==============================] - 266s 986ms/step - loss: 1.0618 - accuracy: 0.4335 - val_loss: 1.0563 - val_accuracy: 0.4386\n",
      "Epoch 4/20\n",
      "270/270 [==============================] - 320s 1s/step - loss: 1.0630 - accuracy: 0.4285 - val_loss: 1.0806 - val_accuracy: 0.4312\n",
      "Epoch 5/20\n",
      "270/270 [==============================] - 331s 1s/step - loss: 1.0670 - accuracy: 0.4325 - val_loss: 1.0478 - val_accuracy: 0.4420\n",
      "Epoch 6/20\n",
      "270/270 [==============================] - 331s 1s/step - loss: 1.0640 - accuracy: 0.4376 - val_loss: 1.1131 - val_accuracy: 0.3981\n",
      "Epoch 7/20\n",
      "270/270 [==============================] - 330s 1s/step - loss: 1.0583 - accuracy: 0.4325 - val_loss: 1.0583 - val_accuracy: 0.4285\n",
      "Epoch 8/20\n",
      "270/270 [==============================] - 569s 2s/step - loss: 1.0637 - accuracy: 0.4373 - val_loss: 1.0448 - val_accuracy: 0.4480\n",
      "Epoch 9/20\n",
      "270/270 [==============================] - 516s 2s/step - loss: 1.0561 - accuracy: 0.4415 - val_loss: 1.0528 - val_accuracy: 0.4366\n",
      "Epoch 10/20\n",
      "270/270 [==============================] - 249s 921ms/step - loss: 1.0535 - accuracy: 0.4499 - val_loss: 1.0436 - val_accuracy: 0.4332\n",
      "Epoch 11/20\n",
      "270/270 [==============================] - 249s 924ms/step - loss: 1.0567 - accuracy: 0.4352 - val_loss: 1.0365 - val_accuracy: 0.4669\n",
      "Epoch 12/20\n",
      "270/270 [==============================] - 251s 930ms/step - loss: 1.0600 - accuracy: 0.4415 - val_loss: 1.0343 - val_accuracy: 0.4710\n",
      "Epoch 13/20\n",
      "270/270 [==============================] - 248s 920ms/step - loss: 1.0526 - accuracy: 0.4436 - val_loss: 1.0499 - val_accuracy: 0.4521\n",
      "Epoch 14/20\n",
      "270/270 [==============================] - 248s 920ms/step - loss: 1.0575 - accuracy: 0.4393 - val_loss: 1.0308 - val_accuracy: 0.4798\n",
      "Epoch 15/20\n",
      "270/270 [==============================] - 250s 926ms/step - loss: 1.0601 - accuracy: 0.4369 - val_loss: 1.0406 - val_accuracy: 0.4582\n",
      "Epoch 16/20\n",
      "270/270 [==============================] - 248s 921ms/step - loss: 1.0525 - accuracy: 0.4485 - val_loss: 1.0274 - val_accuracy: 0.4696\n",
      "Epoch 17/20\n",
      "270/270 [==============================] - 249s 922ms/step - loss: 1.0538 - accuracy: 0.4481 - val_loss: 1.0953 - val_accuracy: 0.4305\n",
      "Epoch 18/20\n",
      "270/270 [==============================] - 250s 928ms/step - loss: 1.0543 - accuracy: 0.4413 - val_loss: 1.0465 - val_accuracy: 0.4447\n",
      "Epoch 19/20\n",
      "270/270 [==============================] - 249s 921ms/step - loss: 1.0531 - accuracy: 0.4387 - val_loss: 1.0312 - val_accuracy: 0.4602\n",
      "Epoch 20/20\n",
      "270/270 [==============================] - 248s 920ms/step - loss: 1.0531 - accuracy: 0.4437 - val_loss: 1.0338 - val_accuracy: 0.4710\n"
     ]
    },
    {
     "data": {
      "text/plain": [
       "<tensorflow.python.keras.callbacks.History at 0x1e503e7ad90>"
      ]
     },
     "execution_count": 53,
     "metadata": {},
     "output_type": "execute_result"
    }
   ],
   "source": [
    "model.fit(X_train, y_train,validation_data = (xval, yval), epochs=20)"
   ]
  },
  {
   "cell_type": "code",
   "execution_count": 54,
   "id": "1fe0e7d5",
   "metadata": {},
   "outputs": [
    {
     "data": {
      "text/plain": [
       "0    1    2  \n",
       "0.0  1.0  0.0    791\n",
       "     0.0  1.0    720\n",
       "1.0  0.0  0.0    710\n",
       "dtype: int64"
      ]
     },
     "execution_count": 54,
     "metadata": {},
     "output_type": "execute_result"
    }
   ],
   "source": [
    "X_text, y_test = xtest, ytest\n",
    "pd.DataFrame(ytest).value_counts()"
   ]
  },
  {
   "cell_type": "code",
   "execution_count": 55,
   "id": "3b422ed2",
   "metadata": {},
   "outputs": [],
   "source": [
    "X_test=xtest.astype(np.str)\n",
    "#y_test=np.asarray(test.sentiment)\n",
    "#y_test = pd.get_dummies(ytest)"
   ]
  },
  {
   "cell_type": "code",
   "execution_count": 56,
   "id": "c948dfae",
   "metadata": {},
   "outputs": [
    {
     "name": "stdout",
     "output_type": "stream",
     "text": [
      "70/70 [==============================] - 54s 775ms/step - loss: 1.0410 - accuracy: 0.4534\n"
     ]
    },
    {
     "data": {
      "text/plain": [
       "[1.040976881980896, 0.4533993601799011]"
      ]
     },
     "execution_count": 56,
     "metadata": {},
     "output_type": "execute_result"
    }
   ],
   "source": [
    "model.evaluate(X_test, ytest)"
   ]
  },
  {
   "cell_type": "code",
   "execution_count": 57,
   "id": "312ee546",
   "metadata": {},
   "outputs": [],
   "source": [
    "y_predicted = model.predict(X_test)"
   ]
  },
  {
   "cell_type": "code",
   "execution_count": 58,
   "id": "37650bf3",
   "metadata": {},
   "outputs": [],
   "source": [
    "yp = np.argmax(y_predicted, axis = 1)\n",
    "yt = np.argmax(np.array(ytest), axis = 1)"
   ]
  },
  {
   "cell_type": "code",
   "execution_count": 59,
   "id": "03451168",
   "metadata": {},
   "outputs": [
    {
     "data": {
      "text/plain": [
       "Text(33.0, 0.5, 'Truth')"
      ]
     },
     "execution_count": 59,
     "metadata": {},
     "output_type": "execute_result"
    },
    {
     "data": {
      "image/png": "[encoded data removed]",
      "text/plain": [
       "<Figure size 432x288 with 2 Axes>"
      ]
     },
     "metadata": {
      "needs_background": "light"
     },
     "output_type": "display_data"
    }
   ],
   "source": [
    "from sklearn.metrics import confusion_matrix, classification_report\n",
    "cm = confusion_matrix(yt, yp)\n",
    "from matplotlib import pyplot as plt\n",
    "import seaborn as sn\n",
    "sn.heatmap(cm, annot=True, fmt='d')\n",
    "plt.xlabel('Predicted')\n",
    "plt.ylabel('Truth')"
   ]
  },
  {
   "cell_type": "code",
   "execution_count": 60,
   "id": "89c4c098",
   "metadata": {},
   "outputs": [
    {
     "name": "stdout",
     "output_type": "stream",
     "text": [
      "              precision    recall  f1-score   support\n",
      "\n",
      "           0       0.41      0.55      0.47       710\n",
      "           1       0.47      0.23      0.31       791\n",
      "           2       0.50      0.61      0.55       720\n",
      "\n",
      "    accuracy                           0.45      2221\n",
      "   macro avg       0.46      0.46      0.44      2221\n",
      "weighted avg       0.46      0.45      0.44      2221\n",
      "\n"
     ]
    }
   ],
   "source": [
    "print(classification_report(yt, yp))"
   ]
  },
  {
   "cell_type": "code",
   "execution_count": null,
   "id": "68ed3d16",
   "metadata": {},
   "outputs": [],
   "source": []
  }
 ],
 "metadata": {
  "kernelspec": {
   "display_name": "Python 3 (ipykernel)",
   "language": "python",
   "name": "python3"
  },
  "language_info": {
   "codemirror_mode": {
    "name": "ipython",
    "version": 3
   },
   "file_extension": ".py",
   "mimetype": "text/x-python",
   "name": "python",
   "nbconvert_exporter": "python",
   "pygments_lexer": "ipython3",
   "version": "3.8.0"
  }
 },
 "nbformat": 4,
 "nbformat_minor": 5
}
